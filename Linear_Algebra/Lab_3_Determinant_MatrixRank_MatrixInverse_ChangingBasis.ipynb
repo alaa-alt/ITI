{
  "cells": [
    {
      "cell_type": "code",
      "execution_count": 1,
      "id": "336c28bf",
      "metadata": {},
      "outputs": [],
      "source": [
        "import numpy as np\n",
        "import sympy as sm"
      ]
    },
    {
      "cell_type": "markdown",
      "id": "81b7edf9",
      "metadata": {
        "id": "81b7edf9"
      },
      "source": [
        "## Determinant\n",
        "### Find Determinant of:"
      ]
    },
    {
      "cell_type": "markdown",
      "id": "f999e755",
      "metadata": {
        "id": "f999e755"
      },
      "source": [
        "$$\\begin{bmatrix} 3&8 \\\\ 4&6 \\end{bmatrix} , \\begin{bmatrix} 4&6 \\\\ 3&8 \\end{bmatrix}$$\n",
        "$$\\begin{bmatrix} 6&1&1 \\\\ 4&-2&5 \\\\ 2&8&7\\end{bmatrix}$$\n",
        "$$\\begin{bmatrix} 3&2&0&1 \\\\ 4&0&1&2 \\\\ 3&0&2&1 \\\\ 9&2&3&1\\end{bmatrix}$$\n"
      ]
    },
    {
      "cell_type": "code",
      "execution_count": 2,
      "id": "cd4a7bf0",
      "metadata": {},
      "outputs": [
        {
          "name": "stdout",
          "output_type": "stream",
          "text": [
            "-14.000000000000004 14.000000000000004 -306.0 24.000000000000004\n"
          ]
        }
      ],
      "source": [
        "A1 = np.array([[3,8],\n",
        "               [4,6]])\n",
        "A2 = np.array([[4,6],\n",
        "               [3,8]])\n",
        "A3 = np.array([[6,1,1],\n",
        "               [4,-2,5],\n",
        "               [2,8,7]])\n",
        "A4 = np.array([[3,2,0,1],\n",
        "               [4,0,1,2],\n",
        "               [3,0,2,1],\n",
        "               [9,2,3,1]])\n",
        "\n",
        "A1_d = np.linalg.det(A1)\n",
        "A2_d = np.linalg.det(A2)\n",
        "A3_d = np.linalg.det(A3)\n",
        "A4_d = np.linalg.det(A4)\n",
        "print(A1_d,A2_d,A3_d,A4_d)\n",
        "\n",
        "\n",
        "\n",
        "\n",
        "\n"
      ]
    },
    {
      "cell_type": "code",
      "execution_count": null,
      "id": "95fc52ce",
      "metadata": {
        "id": "95fc52ce",
        "outputId": "332b8dd6-8841-4ffa-a139-6074c7d8fcae"
      },
      "outputs": [
        {
          "name": "stdout",
          "output_type": "stream",
          "text": [
            "1.  -14.000000000000004\n",
            "2.  14.000000000000004\n",
            "3.  -306.0\n",
            "4.  24.000000000000004\n"
          ]
        }
      ],
      "source": []
    },
    {
      "cell_type": "markdown",
      "id": "3d7f760c",
      "metadata": {
        "id": "3d7f760c"
      },
      "source": [
        "## Matrix Rank\n",
        "### Find the rank of the matrix (use rref and confirm using matrix_rank())"
      ]
    },
    {
      "cell_type": "markdown",
      "id": "39022ae4",
      "metadata": {
        "id": "39022ae4"
      },
      "source": [
        "$$X = \\begin{bmatrix} 1&2&4&4 \\\\ 3&4&8&0 \\end{bmatrix}$$\n",
        "$$Y = \\begin{bmatrix} 1&2&3 \\\\ 2&3&5 \\\\ 3&4&7 \\\\ 4&5&9  \\end{bmatrix}$$"
      ]
    },
    {
      "cell_type": "code",
      "execution_count": 3,
      "id": "2ec1d018",
      "metadata": {},
      "outputs": [
        {
          "name": "stdout",
          "output_type": "stream",
          "text": [
            "(Matrix([\n",
            "[1, 0, 0, -8],\n",
            "[0, 1, 2,  6]]), (0, 1))\n",
            "2\n"
          ]
        }
      ],
      "source": [
        "X = np.array([[1,2,4,4],\n",
        "              [3,4,8,0]])\n",
        "\n",
        "X_new = sm.Matrix(X)\n",
        "print(X_new.rref())\n",
        "print(np.linalg.matrix_rank(X))\n"
      ]
    },
    {
      "cell_type": "code",
      "execution_count": null,
      "id": "6855c257",
      "metadata": {
        "id": "6855c257",
        "outputId": "8f9642b8-1b2b-4525-ce91-d6a5c251117e"
      },
      "outputs": [
        {
          "name": "stdout",
          "output_type": "stream",
          "text": [
            "(Matrix([\n",
            "[1, 0, 0, -8],\n",
            "[0, 1, 2,  6]]), (0, 1))\n",
            "\n",
            "X rank: 2\n"
          ]
        }
      ],
      "source": []
    },
    {
      "cell_type": "code",
      "execution_count": 4,
      "id": "7eb59d14",
      "metadata": {},
      "outputs": [
        {
          "name": "stdout",
          "output_type": "stream",
          "text": [
            "(Matrix([\n",
            "[1, 0, 1],\n",
            "[0, 1, 1],\n",
            "[0, 0, 0],\n",
            "[0, 0, 0]]), (0, 1))\n",
            "2\n"
          ]
        }
      ],
      "source": [
        "X = np.array([[1,2,3],\n",
        "              [2,3,5],\n",
        "              [3,4,7],\n",
        "              [4,5,9]])\n",
        "\n",
        "X_new = sm.Matrix(X)\n",
        "print(X_new.rref())\n",
        "print(np.linalg.matrix_rank(X))\n"
      ]
    },
    {
      "cell_type": "code",
      "execution_count": null,
      "id": "864a8f85",
      "metadata": {
        "id": "864a8f85",
        "outputId": "7ebadcf8-ec73-40ab-9e48-fb2bf2c588a3"
      },
      "outputs": [
        {
          "name": "stdout",
          "output_type": "stream",
          "text": [
            "(Matrix([\n",
            "[1, 0, 1],\n",
            "[0, 1, 1],\n",
            "[0, 0, 0],\n",
            "[0, 0, 0]]), (0, 1))\n",
            "\n",
            "Y rank: 2\n"
          ]
        }
      ],
      "source": []
    },
    {
      "cell_type": "markdown",
      "id": "9b55ebcf",
      "metadata": {
        "id": "9b55ebcf"
      },
      "source": [
        "## Matrix Inverse\n",
        "### Find the inverse:"
      ]
    },
    {
      "cell_type": "markdown",
      "id": "6f15a14c",
      "metadata": {
        "id": "6f15a14c"
      },
      "source": [
        "$$\\begin{bmatrix} 3&8 \\\\ 4&6 \\end{bmatrix} , \\begin{bmatrix} 4&6 \\\\ 3&8 \\end{bmatrix}$$\n",
        "$$\\begin{bmatrix} 6&1&1 \\\\ 4&-2&5 \\\\ 2&8&7\\end{bmatrix}$$\n",
        "$$\\begin{bmatrix} 3&2&0&1 \\\\ 4&0&1&2 \\\\ 3&0&2&1 \\\\ 9&2&3&1\\end{bmatrix}$$"
      ]
    },
    {
      "cell_type": "code",
      "execution_count": 6,
      "id": "58aa03f7",
      "metadata": {},
      "outputs": [
        {
          "name": "stdout",
          "output_type": "stream",
          "text": [
            "[[-0.42857143  0.57142857]\n",
            " [ 0.28571429 -0.21428571]] \n",
            " [[ 0.57142857 -0.42857143]\n",
            " [-0.21428571  0.28571429]] \n",
            " [[ 0.17647059 -0.00326797 -0.02287582]\n",
            " [ 0.05882353 -0.13071895  0.08496732]\n",
            " [-0.11764706  0.1503268   0.05228758]] \n",
            " [[-0.25        0.25       -0.5         0.25      ]\n",
            " [ 0.66666667 -0.5         0.5        -0.16666667]\n",
            " [ 0.16666667 -0.5         1.         -0.16666667]\n",
            " [ 0.41666667  0.25        0.5        -0.41666667]]\n"
          ]
        }
      ],
      "source": [
        "A1 = np.array([[3,8],\n",
        "               [4,6]])\n",
        "A2 = np.array([[4,6],\n",
        "               [3,8]])\n",
        "A3 = np.array([[6,1,1],\n",
        "               [4,-2,5],\n",
        "               [2,8,7]])\n",
        "A4 = np.array([[3,2,0,1],\n",
        "               [4,0,1,2],\n",
        "               [3,0,2,1],\n",
        "               [9,2,3,1]])\n",
        "\n",
        "A1_i = np.linalg.inv(A1)\n",
        "A2_i = np.linalg.inv(A2)\n",
        "A3_i = np.linalg.inv(A3)\n",
        "A4_i = np.linalg.inv(A4)\n",
        "print(A1_i,'\\n',A2_i,'\\n',A3_i,'\\n',A4_i)"
      ]
    },
    {
      "cell_type": "code",
      "execution_count": null,
      "id": "ff81fb7b",
      "metadata": {
        "id": "ff81fb7b",
        "outputId": "08856402-2027-44eb-d8d7-8e477d0d8031"
      },
      "outputs": [
        {
          "name": "stdout",
          "output_type": "stream",
          "text": [
            "1.\n",
            " [[-0.42857143  0.57142857]\n",
            " [ 0.28571429 -0.21428571]]\n",
            "\n",
            "2.\n",
            " [[ 0.57142857 -0.42857143]\n",
            " [-0.21428571  0.28571429]]\n",
            "\n",
            "3.\n",
            " [[ 0.17647059 -0.00326797 -0.02287582]\n",
            " [ 0.05882353 -0.13071895  0.08496732]\n",
            " [-0.11764706  0.1503268   0.05228758]]\n",
            "\n",
            "4.\n",
            " [[-0.25        0.25       -0.5         0.25      ]\n",
            " [ 0.66666667 -0.5         0.5        -0.16666667]\n",
            " [ 0.16666667 -0.5         1.         -0.16666667]\n",
            " [ 0.41666667  0.25        0.5        -0.41666667]]\n"
          ]
        }
      ],
      "source": []
    },
    {
      "cell_type": "markdown",
      "id": "6dfa4568",
      "metadata": {
        "id": "6dfa4568"
      },
      "source": [
        "## Changing Basis (Orthogonal Coordinates)\n",
        "### Perform the following (Once by dot product and another by matix).\n",
        "### First confirm b1 and b2 are orthogonal basis."
      ]
    },
    {
      "cell_type": "markdown",
      "id": "692ef07f",
      "metadata": {
        "id": "692ef07f"
      },
      "source": [
        "### 1) Transform $v=\\begin{bmatrix}5 \\\\ -1\\end{bmatrix}$ from the stadard basis to b1 and b2 basis. $b_1=\\begin{bmatrix}1 \\\\ 1\\end{bmatrix}$ , $b_2=\\begin{bmatrix}1\\\\-1\\end{bmatrix}$\n",
        "### 2) Transform $v=\\begin{bmatrix}10\\\\-5\\end{bmatrix}$ from the stadard basis to b1 and b2 basis. $b_1=\\begin{bmatrix}3\\\\ 4\\end{bmatrix}$ , $b_2=\\begin{bmatrix} 4 \\\\-3 \\end{bmatrix}$"
      ]
    },
    {
      "cell_type": "code",
      "execution_count": 16,
      "id": "5791692b",
      "metadata": {},
      "outputs": [
        {
          "name": "stdout",
          "output_type": "stream",
          "text": [
            "[[2.]\n",
            " [3.]]\n"
          ]
        }
      ],
      "source": [
        "v = np.array([5,\n",
        "              -1])\n",
        "b1 = np.array([1,\n",
        "            1])\n",
        "b2 = np.array([1,\n",
        "            -1])\n",
        "vb1 = (v@b1)/(np.linalg.norm(b1))**2\n",
        "vb2 = (v@b2)/(np.linalg.norm(b2))**2\n",
        "vb = np.array([[vb1],\n",
        "               [vb2]])\n",
        "print(vb)\n"
      ]
    },
    {
      "cell_type": "code",
      "execution_count": 7,
      "id": "1ac7a564",
      "metadata": {
        "id": "1ac7a564",
        "outputId": "a212ebde-071b-4e9d-d43a-6e988998f075"
      },
      "outputs": [
        {
          "name": "stdout",
          "output_type": "stream",
          "text": [
            "[[2.]\n",
            " [3.]]\n"
          ]
        }
      ],
      "source": [
        "# Ex. 1 Using dot product\n"
      ]
    },
    {
      "cell_type": "code",
      "execution_count": 9,
      "id": "6b169dd8",
      "metadata": {},
      "outputs": [
        {
          "name": "stdout",
          "output_type": "stream",
          "text": [
            "[[2.]\n",
            " [3.]]\n"
          ]
        }
      ],
      "source": [
        "v = np.array([[5],\n",
        "              [-1]])\n",
        "b = np.array([[1, 1],\n",
        "               [1,-1]])\n",
        "b_inv = np.linalg.inv(b)\n",
        "print(b_inv@v)"
      ]
    },
    {
      "cell_type": "code",
      "execution_count": 17,
      "id": "36be7fc1",
      "metadata": {},
      "outputs": [
        {
          "name": "stdout",
          "output_type": "stream",
          "text": [
            "[[0.4]\n",
            " [2.2]]\n"
          ]
        }
      ],
      "source": [
        "v = np.array([10,\n",
        "              -5])\n",
        "b1 = np.array([3,\n",
        "            4])\n",
        "b2 = np.array([4,\n",
        "            -3])\n",
        "vb1 = (v@b1)/(np.linalg.norm(b1))**2\n",
        "vb2 = (v@b2)/(np.linalg.norm(b2))**2\n",
        "vb = np.array([[vb1],\n",
        "               [vb2]])\n",
        "print(vb)\n"
      ]
    },
    {
      "cell_type": "code",
      "execution_count": 18,
      "id": "a5dbf456",
      "metadata": {},
      "outputs": [
        {
          "name": "stdout",
          "output_type": "stream",
          "text": [
            "[[0.4]\n",
            " [2.2]]\n"
          ]
        }
      ],
      "source": [
        "v = np.array([[10],\n",
        "              [-5]])\n",
        "b = np.array([[3, 4],\n",
        "               [4,-3]])\n",
        "b_inv = np.linalg.inv(b)\n",
        "print(b_inv@v)"
      ]
    },
    {
      "cell_type": "code",
      "execution_count": null,
      "id": "f1738498",
      "metadata": {
        "id": "f1738498",
        "outputId": "b3668470-1ea9-4378-b0e0-4bdb36fa1f67",
        "scrolled": false
      },
      "outputs": [
        {
          "name": "stdout",
          "output_type": "stream",
          "text": [
            "Using transformation matrix\n",
            "vb:\n",
            "[[2.]\n",
            " [3.]]\n"
          ]
        }
      ],
      "source": [
        "# Ex. 1 Using transformation matrix\n"
      ]
    },
    {
      "cell_type": "code",
      "execution_count": null,
      "id": "8ff5e22b",
      "metadata": {},
      "outputs": [],
      "source": []
    },
    {
      "cell_type": "code",
      "execution_count": null,
      "id": "dcc51c8d",
      "metadata": {
        "id": "dcc51c8d",
        "outputId": "e7c6683f-5f46-4235-dc6d-2993f66fe6f7"
      },
      "outputs": [
        {
          "name": "stdout",
          "output_type": "stream",
          "text": [
            "Using dot product\n",
            "vb:\n",
            "[[0.4]\n",
            " [2.2]]\n"
          ]
        }
      ],
      "source": [
        "# Ex. 2 Using dot product\n"
      ]
    },
    {
      "cell_type": "code",
      "execution_count": null,
      "id": "0ac3632f",
      "metadata": {
        "id": "0ac3632f",
        "outputId": "e3f63603-2262-42cd-afa4-435375efad34",
        "scrolled": false
      },
      "outputs": [
        {
          "name": "stdout",
          "output_type": "stream",
          "text": [
            "Using transformation matrix\n",
            "vb:\n",
            "[[0.4]\n",
            " [2.2]]\n"
          ]
        }
      ],
      "source": [
        "# Ex. 2 Using transformation matrix\n"
      ]
    },
    {
      "cell_type": "code",
      "execution_count": null,
      "id": "dc222f7d",
      "metadata": {
        "id": "dc222f7d"
      },
      "outputs": [],
      "source": []
    },
    {
      "cell_type": "markdown",
      "id": "87b1b94e",
      "metadata": {
        "id": "87b1b94e"
      },
      "source": [
        "## Changing Basis (Non-Orthogonal Coordinates)\n",
        "### Perform the following.\n",
        "### First confirm b1 and b2 are non-orthogonal basis."
      ]
    },
    {
      "cell_type": "markdown",
      "id": "e3bd8da4",
      "metadata": {
        "id": "e3bd8da4"
      },
      "source": [
        "### - Transform $v=\\begin{bmatrix}5 \\\\ 2\\end{bmatrix}$ from the stadard basis to b1 and b2 basis. $b_1=\\begin{bmatrix}3 \\\\ 1\\end{bmatrix}$ , $b_2=\\begin{bmatrix}1\\\\1\\end{bmatrix}$\n"
      ]
    },
    {
      "cell_type": "code",
      "execution_count": 30,
      "id": "52d9f57d",
      "metadata": {},
      "outputs": [
        {
          "name": "stdout",
          "output_type": "stream",
          "text": [
            "4\n",
            "[[1.5]\n",
            " [0.5]]\n"
          ]
        }
      ],
      "source": [
        "b1 = np.array([3,\n",
        "               1])\n",
        "b2 = np.array([1,\n",
        "               1])\n",
        "print(b1@b2)\n",
        "\n",
        "b = np.array([[3,1],\n",
        "              [1,1]])\n",
        "v = np.array([[5],\n",
        "              [2]])\n",
        "print(np.linalg.inv(b)@v)"
      ]
    },
    {
      "cell_type": "code",
      "execution_count": null,
      "id": "dc21f392",
      "metadata": {
        "id": "dc21f392",
        "outputId": "77137341-4016-4a02-8f64-87c773040e40"
      },
      "outputs": [
        {
          "name": "stdout",
          "output_type": "stream",
          "text": [
            "vb:\n",
            "[[1.5]\n",
            " [0.5]]\n"
          ]
        }
      ],
      "source": []
    },
    {
      "cell_type": "markdown",
      "id": "96465cd3",
      "metadata": {
        "id": "96465cd3"
      },
      "source": [
        "## Transformation in Non-Orthonormal Space\n",
        "### - For $R^2$ defined by the basis basis. $b_1=\\begin{bmatrix}3 \\\\ 1\\end{bmatrix}$ , $b_2=\\begin{bmatrix}1\\\\1\\end{bmatrix}$\n",
        "### - Find the transformation matrix in B coordinate system for the following transformations:\n",
        "#### 1- Reflection around x-axis $T=\\begin{bmatrix} 1&0 \\\\ 0&-1\\end{bmatrix}$\n",
        "#### 2- Rotation matrix $T=\\begin{bmatrix} 0&1 \\\\ -1&0\\end{bmatrix}$\n",
        "### - Apply these transformation to the vector  $v_b=\\begin{bmatrix}1.5 \\\\ 0.5\\end{bmatrix}$"
      ]
    },
    {
      "cell_type": "code",
      "execution_count": 37,
      "id": "9567a4fc",
      "metadata": {},
      "outputs": [
        {
          "name": "stdout",
          "output_type": "stream",
          "text": [
            "[[ 2.  1.]\n",
            " [-3. -2.]]\n",
            "[[ 2.  1.]\n",
            " [-5. -2.]]\n",
            "[[ 3.5]\n",
            " [-5.5]]\n",
            "[[ 3.5]\n",
            " [-8.5]]\n"
          ]
        }
      ],
      "source": [
        "b = np.array([[3,1],\n",
        "              [1,1]])\n",
        "T = np.array([[1,0],\n",
        "              [0,-1]])\n",
        "b_inv = np.linalg.inv(b)\n",
        "T_new = b_inv@T@b\n",
        "print(T_new)\n",
        "################################\n",
        "T2 = np.array([[0,1],\n",
        "              [-1,0]])\n",
        "T_new2 = b_inv@T2@b\n",
        "print(T_new2)\n",
        "\n",
        "####################################\n",
        "vb = np.array([[1.5],\n",
        "               [0.5]])\n",
        "\n",
        "Tvb1 = T_new@vb\n",
        "Tvb2 = T_new2@vb\n",
        "\n",
        "print(Tvb1)\n",
        "print(Tvb2)\n"
      ]
    },
    {
      "cell_type": "code",
      "execution_count": null,
      "id": "086947f1",
      "metadata": {
        "id": "086947f1",
        "outputId": "480e9da6-6e0a-4fcf-809b-1b64a84043f8"
      },
      "outputs": [
        {
          "name": "stdout",
          "output_type": "stream",
          "text": [
            "TB1 =\n",
            " [[ 2.  1.]\n",
            " [-3. -2.]]\n",
            "\n",
            "TB2 =\n",
            " [[ 2.  1.]\n",
            " [-5. -2.]]\n",
            "\n",
            "vb_TB1 =\n",
            " [[ 3.5]\n",
            " [-5.5]]\n",
            "\n",
            "vb_TB2 =\n",
            " [[ 3.5]\n",
            " [-8.5]]\n"
          ]
        }
      ],
      "source": []
    },
    {
      "cell_type": "markdown",
      "id": "2b687c17",
      "metadata": {
        "id": "2b687c17"
      },
      "source": [
        "## Gram–Schmidt Process (Orthogonalization)\n",
        "### Apply Gram-Shmidt process for the following sequence in vectors in $R^3$:\n",
        "### $$\\begin{bmatrix}1 \\\\2\\\\ 0\\end{bmatrix} , \\begin{bmatrix}8 \\\\1\\\\ -6\\end{bmatrix} , \\begin{bmatrix}0 \\\\0\\\\ 1\\end{bmatrix}$$\n",
        "#### Confirm your answer using numpy.linalg.qr() function\n",
        "#### Make sure all vectors given above are basis in $R^3$ space.\n",
        "#### Confirm that the orthogonal matrix has orthonormal vectors.\n",
        "#### Confirm that the transpose of the orthogonal matrix is it's inverse.\n",
        "#### Reflect the vector r = (1,3,4) arround the xy plane containing the two vectors $\\begin{bmatrix}1 \\\\2\\\\ 0\\end{bmatrix} , \\begin{bmatrix}8 \\\\1\\\\ -6\\end{bmatrix}$.\n",
        "#### Round all results to 3 decimal points."
      ]
    },
    {
      "cell_type": "code",
      "execution_count": 38,
      "id": "8e7d8620",
      "metadata": {},
      "outputs": [
        {
          "name": "stdout",
          "output_type": "stream",
          "text": [
            "-15.0\n",
            "(Matrix([\n",
            "[1, 0, 0],\n",
            "[0, 1, 0],\n",
            "[0, 0, 1]]), (0, 1, 2))\n"
          ]
        }
      ],
      "source": [
        "g = np.array([[1,8,0],\n",
        "              [2,1,0],\n",
        "              [0,-6,1]])\n",
        "\n",
        "print(np.linalg.det(g))\n",
        "M = sm.Matrix(g)\n",
        "print(M.rref())"
      ]
    },
    {
      "cell_type": "code",
      "execution_count": null,
      "id": "07ba3659",
      "metadata": {
        "id": "07ba3659",
        "outputId": "a0deb5cb-94c5-4035-e195-e3b96c0689f5"
      },
      "outputs": [
        {
          "name": "stdout",
          "output_type": "stream",
          "text": [
            "det(V): -15.0\n",
            "Mrref:\n",
            " (Matrix([\n",
            "[1, 0, 0],\n",
            "[0, 1, 0],\n",
            "[0, 0, 1]]), (0, 1, 2))\n"
          ]
        }
      ],
      "source": []
    },
    {
      "cell_type": "code",
      "execution_count": 52,
      "id": "47686d1c",
      "metadata": {},
      "outputs": [
        {
          "name": "stdout",
          "output_type": "stream",
          "text": [
            "[[1]\n",
            " [2]\n",
            " [0]]\n",
            "[[ 6.]\n",
            " [-3.]\n",
            " [-6.]]\n",
            "[[ 0.44444444]\n",
            " [-0.22222222]\n",
            " [ 0.55555556]]\n",
            "[[0.4472136 ]\n",
            " [0.89442719]\n",
            " [0.        ]]\n",
            "[[ 0.66666667]\n",
            " [-0.33333333]\n",
            " [-0.66666667]]\n",
            "[[ 0.59628479]\n",
            " [-0.2981424 ]\n",
            " [ 0.74535599]]\n"
          ]
        }
      ],
      "source": [
        "a = np.array([1,\n",
        "               2,\n",
        "               0])\n",
        "b = np.array([8,\n",
        "              1,\n",
        "              -6])\n",
        "c = np.array([0,\n",
        "               0,\n",
        "               1])\n",
        "u1 = a\n",
        "u2 = b - (((b@u1)/(u1@u1)))*u1\n",
        "u3 = c - ((c@u1)/(u1@u1))*u1 - ((c@u2)/(u2@u2))*u2\n",
        "print(u1.reshape(-1,1))\n",
        "print(u2.reshape(-1,1))\n",
        "print(u3.reshape(-1,1))\n",
        "# ORTHONORMAL\n",
        "e1 = u1/np.linalg.norm(u1)\n",
        "e2 = u2/np.linalg.norm(u2)\n",
        "e3 = u3/np.linalg.norm(u3)\n",
        "print(e1.reshape(-1,1))\n",
        "print(e2.reshape(-1,1))\n",
        "print(e3.reshape(-1,1))\n"
      ]
    },
    {
      "cell_type": "code",
      "execution_count": null,
      "id": "95031239",
      "metadata": {
        "id": "95031239",
        "outputId": "1881dc42-bd08-4c1d-89da-f757d71f3d10"
      },
      "outputs": [
        {
          "name": "stdout",
          "output_type": "stream",
          "text": [
            "u1:\n",
            "[[1]\n",
            " [2]\n",
            " [0]]\n",
            "\n",
            "u2:\n",
            "[[ 6.]\n",
            " [-3.]\n",
            " [-6.]]\n",
            "\n",
            "u3:\n",
            "[[ 0.44444444]\n",
            " [-0.22222222]\n",
            " [ 0.55555556]]\n",
            "\n",
            "e1:\n",
            "[[0.4472136 ]\n",
            " [0.89442719]\n",
            " [0.        ]]\n",
            "\n",
            "e2:\n",
            "[[ 0.66666667]\n",
            " [-0.33333333]\n",
            " [-0.66666667]]\n",
            "\n",
            "e3:\n",
            "[[ 0.59628479]\n",
            " [-0.2981424 ]\n",
            " [ 0.74535599]]\n"
          ]
        }
      ],
      "source": []
    },
    {
      "cell_type": "code",
      "execution_count": 53,
      "id": "08ee852d",
      "metadata": {},
      "outputs": [
        {
          "name": "stdout",
          "output_type": "stream",
          "text": [
            "[[-0.4472136   0.66666667  0.59628479]\n",
            " [-0.89442719 -0.33333333 -0.2981424 ]\n",
            " [-0.         -0.66666667  0.74535599]]\n"
          ]
        }
      ],
      "source": [
        "Q, R = np.linalg.qr(g)\n",
        "print(Q)"
      ]
    },
    {
      "cell_type": "code",
      "execution_count": null,
      "id": "857b9624",
      "metadata": {
        "id": "857b9624",
        "outputId": "6a605e6a-b673-4cc4-bf78-8a78a8ab733e",
        "scrolled": true
      },
      "outputs": [
        {
          "name": "stdout",
          "output_type": "stream",
          "text": [
            "Using QR:\n",
            "[[-0.4472136   0.66666667  0.59628479]\n",
            " [-0.89442719 -0.33333333 -0.2981424 ]\n",
            " [-0.         -0.66666667  0.74535599]]\n"
          ]
        }
      ],
      "source": []
    },
    {
      "cell_type": "code",
      "execution_count": 54,
      "id": "97b67fe6",
      "metadata": {},
      "outputs": [
        {
          "name": "stdout",
          "output_type": "stream",
          "text": [
            "0.9999999999999999\n",
            "1.0\n",
            "1.0\n"
          ]
        }
      ],
      "source": [
        "#INVERSES OF ORTHORNORMAL\n",
        "print(np.linalg.norm(e1))\n",
        "print(np.linalg.norm(e2))\n",
        "print(np.linalg.norm(e3))\n"
      ]
    },
    {
      "cell_type": "code",
      "execution_count": null,
      "id": "5c2e8898",
      "metadata": {
        "id": "5c2e8898",
        "outputId": "75977387-f6fe-4f92-f847-75ee08368e3a"
      },
      "outputs": [
        {
          "data": {
            "text/plain": [
              "1.0"
            ]
          },
          "execution_count": 10,
          "metadata": {},
          "output_type": "execute_result"
        }
      ],
      "source": []
    },
    {
      "cell_type": "code",
      "execution_count": 60,
      "id": "0837cb96",
      "metadata": {},
      "outputs": [
        {
          "name": "stdout",
          "output_type": "stream",
          "text": [
            "[[-4.47213595e-01 -8.94427191e-01 -9.30950307e-17]\n",
            " [ 6.66666667e-01 -3.33333333e-01 -6.66666667e-01]\n",
            " [ 5.96284794e-01 -2.98142397e-01  7.45355992e-01]]\n",
            "[[-0.4472136  -0.89442719 -0.        ]\n",
            " [ 0.66666667 -0.33333333 -0.66666667]\n",
            " [ 0.59628479 -0.2981424   0.74535599]]\n"
          ]
        }
      ],
      "source": [
        "Q_inv = np.linalg.inv(Q)\n",
        "print(Q_inv)\n",
        "print(np.transpose(Q))"
      ]
    },
    {
      "cell_type": "code",
      "execution_count": null,
      "id": "405735fa",
      "metadata": {
        "id": "405735fa",
        "outputId": "8f15ff18-8198-4808-d6c3-50c209a65382"
      },
      "outputs": [
        {
          "name": "stdout",
          "output_type": "stream",
          "text": [
            "Q Inverse:\n",
            " [[-0.447 -0.894 -0.   ]\n",
            " [ 0.667 -0.333 -0.667]\n",
            " [ 0.596 -0.298  0.745]]\n",
            "Q Transpose\n",
            " [[-0.447 -0.894 -0.   ]\n",
            " [ 0.667 -0.333 -0.667]\n",
            " [ 0.596 -0.298  0.745]]\n"
          ]
        }
      ],
      "source": []
    },
    {
      "cell_type": "code",
      "execution_count": 65,
      "id": "e9e404be",
      "metadata": {},
      "outputs": [
        {
          "name": "stdout",
          "output_type": "stream",
          "text": [
            "[[ 0.28888889  0.35555556 -0.88888889]\n",
            " [ 0.35555556  0.82222222  0.44444444]\n",
            " [-0.88888889  0.44444444 -0.11111111]]\n",
            "[[-2.2]\n",
            " [ 4.6]\n",
            " [ 0. ]]\n"
          ]
        }
      ],
      "source": [
        "b = np.array([1,\n",
        "              3,\n",
        "              4])\n",
        "T = np.array([[1, 0, 0],\n",
        "              [0, 1, 0],\n",
        "              [0, 0, -1]])\n",
        "T_new = Q@T@Q_inv\n",
        "print(T_new)\n",
        "print(T_new@b.reshape(-1,1))\n"
      ]
    },
    {
      "cell_type": "code",
      "execution_count": null,
      "id": "53e683d9",
      "metadata": {
        "id": "53e683d9",
        "outputId": "28d1ee9b-f797-4885-d004-d692aa9b4aaa"
      },
      "outputs": [
        {
          "name": "stdout",
          "output_type": "stream",
          "text": [
            "Transformation matrix in the non-orthonormal basis:\n",
            "[[ 0.28888889  0.35555556 -0.88888889]\n",
            " [ 0.35555556  0.82222222  0.44444444]\n",
            " [-0.88888889  0.44444444 -0.11111111]]\n",
            "\n",
            "Transformed vector:\n",
            "[[-2.2]\n",
            " [ 4.6]\n",
            " [ 0. ]]\n"
          ]
        }
      ],
      "source": []
    },
    {
      "cell_type": "code",
      "execution_count": null,
      "id": "b788c2df",
      "metadata": {
        "id": "b788c2df"
      },
      "outputs": [],
      "source": []
    }
  ],
  "metadata": {
    "colab": {
      "provenance": []
    },
    "kernelspec": {
      "display_name": "Python 3",
      "language": "python",
      "name": "python3"
    },
    "language_info": {
      "codemirror_mode": {
        "name": "ipython",
        "version": 3
      },
      "file_extension": ".py",
      "mimetype": "text/x-python",
      "name": "python",
      "nbconvert_exporter": "python",
      "pygments_lexer": "ipython3",
      "version": "3.13.0"
    }
  },
  "nbformat": 4,
  "nbformat_minor": 5
}
