{
 "cells": [
  {
   "cell_type": "code",
   "execution_count": 1,
   "id": "189366ac",
   "metadata": {},
   "outputs": [],
   "source": [
    "import numpy as np\n",
    "import sympy as sm"
   ]
  },
  {
   "cell_type": "markdown",
   "id": "81b7edf9",
   "metadata": {
    "id": "81b7edf9"
   },
   "source": [
    "## Determinant\n",
    "### Find Determinant of:"
   ]
  },
  {
   "cell_type": "markdown",
   "id": "f999e755",
   "metadata": {
    "id": "f999e755"
   },
   "source": [
    "$$\\begin{bmatrix} 3&8 \\\\ 4&6 \\end{bmatrix} , \\begin{bmatrix} 4&6 \\\\ 3&8 \\end{bmatrix}$$\n",
    "$$\\begin{bmatrix} 6&1&1 \\\\ 4&-2&5 \\\\ 2&8&7\\end{bmatrix}$$\n",
    "$$\\begin{bmatrix} 3&2&0&1 \\\\ 4&0&1&2 \\\\ 3&0&2&1 \\\\ 9&2&3&1\\end{bmatrix}$$\n"
   ]
  },
  {
   "cell_type": "code",
   "execution_count": 2,
   "id": "94e9836b",
   "metadata": {},
   "outputs": [
    {
     "name": "stdout",
     "output_type": "stream",
     "text": [
      "Matrix 1  -14.000000000000004\n",
      "Matrix 2  14.000000000000004\n",
      "Matrix 3  -306.0\n",
      "Matrix 4  24.000000000000004\n"
     ]
    }
   ],
   "source": [
    "\n",
    "M_1 = np.array([[3, 8],\n",
    "              [4, 6]])\n",
    "M_2 = np.array([[4, 6],\n",
    "                [3, 8]])\n",
    "M_3 = np.array([[6, 1, 1], \n",
    "                [4, -2, 5],\n",
    "                [2, 8, 7]])\n",
    "M_4 = np.array([[3, 2, 0, 1],\n",
    "                [4, 0, 1, 2],\n",
    "                [3, 0, 2, 1],\n",
    "                [9, 2, 3, 1]])\n",
    "print(\"Matrix 1 \", np.linalg.det(M_1))\n",
    "print(\"Matrix 2 \", np.linalg.det(M_2))\n",
    "print(\"Matrix 3 \", np.linalg.det(M_3))\n",
    "print(\"Matrix 4 \", np.linalg.det(M_4))"
   ]
  },
  {
   "cell_type": "code",
   "execution_count": null,
   "id": "95fc52ce",
   "metadata": {
    "id": "95fc52ce",
    "outputId": "332b8dd6-8841-4ffa-a139-6074c7d8fcae"
   },
   "outputs": [
    {
     "name": "stdout",
     "output_type": "stream",
     "text": [
      "1.  -14.000000000000004\n",
      "2.  14.000000000000004\n",
      "3.  -306.0\n",
      "4.  24.000000000000004\n"
     ]
    }
   ],
   "source": []
  },
  {
   "cell_type": "markdown",
   "id": "3d7f760c",
   "metadata": {
    "id": "3d7f760c"
   },
   "source": [
    "## Matrix Rank\n",
    "### Find the rank of the matrix (use rref and confirm using matrix_rank())"
   ]
  },
  {
   "cell_type": "markdown",
   "id": "39022ae4",
   "metadata": {
    "id": "39022ae4"
   },
   "source": [
    "$$X = \\begin{bmatrix} 1&2&4&4 \\\\ 3&4&8&0 \\end{bmatrix}$$\n",
    "$$Y = \\begin{bmatrix} 1&2&3 \\\\ 2&3&5 \\\\ 3&4&7 \\\\ 4&5&9  \\end{bmatrix}$$"
   ]
  },
  {
   "cell_type": "code",
   "execution_count": null,
   "id": "5f20fa67",
   "metadata": {},
   "outputs": [
    {
     "name": "stdout",
     "output_type": "stream",
     "text": [
      "Using rref:  (Matrix([\n",
      "[1, 0, 0, -8],\n",
      "[0, 1, 2,  6]]), (0, 1))\n",
      "X rank:  2\n"
     ]
    }
   ],
   "source": [
    "X = np.array([  [1, 2, 4, 4],\n",
    "                [3, 4, 8, 0]])\n",
    "X_matrix = sm.Matrix(X)\n",
    "\n",
    "print(\"Using rref: \", X_matrix.rref())\n",
    "print(\"X rank: \", np.linalg.matrix_rank(X))"
   ]
  },
  {
   "cell_type": "code",
   "execution_count": null,
   "id": "6855c257",
   "metadata": {
    "id": "6855c257",
    "outputId": "8f9642b8-1b2b-4525-ce91-d6a5c251117e"
   },
   "outputs": [
    {
     "name": "stdout",
     "output_type": "stream",
     "text": [
      "(Matrix([\n",
      "[1, 0, 0, -8],\n",
      "[0, 1, 2,  6]]), (0, 1))\n",
      "\n",
      "X rank: 2\n"
     ]
    }
   ],
   "source": []
  },
  {
   "cell_type": "code",
   "execution_count": 6,
   "id": "e0ff6a8b",
   "metadata": {},
   "outputs": [
    {
     "name": "stdout",
     "output_type": "stream",
     "text": [
      "Using rref:  (Matrix([\n",
      "[1, 0, 1],\n",
      "[0, 1, 1],\n",
      "[0, 0, 0],\n",
      "[0, 0, 0]]), (0, 1))\n",
      "Y rank:  2\n"
     ]
    }
   ],
   "source": [
    "Y = np.array([  [1, 2, 3], \n",
    "                [2, 3, 5],\n",
    "                [3, 4, 7],\n",
    "                [4, 5, 9]])\n",
    "\n",
    "Y_matrix = sm.Matrix(Y)\n",
    "\n",
    "print(\"Using rref: \", Y_matrix.rref())\n",
    "print(\"Y rank: \", np.linalg.matrix_rank(Y))"
   ]
  },
  {
   "cell_type": "code",
   "execution_count": null,
   "id": "864a8f85",
   "metadata": {
    "id": "864a8f85",
    "outputId": "7ebadcf8-ec73-40ab-9e48-fb2bf2c588a3"
   },
   "outputs": [
    {
     "name": "stdout",
     "output_type": "stream",
     "text": [
      "(Matrix([\n",
      "[1, 0, 1],\n",
      "[0, 1, 1],\n",
      "[0, 0, 0],\n",
      "[0, 0, 0]]), (0, 1))\n",
      "\n",
      "Y rank: 2\n"
     ]
    }
   ],
   "source": []
  },
  {
   "cell_type": "markdown",
   "id": "9b55ebcf",
   "metadata": {
    "id": "9b55ebcf"
   },
   "source": [
    "## Matrix Inverse\n",
    "### Find the inverse:"
   ]
  },
  {
   "cell_type": "markdown",
   "id": "6f15a14c",
   "metadata": {
    "id": "6f15a14c"
   },
   "source": [
    "$$\\begin{bmatrix} 3&8 \\\\ 4&6 \\end{bmatrix} , \\begin{bmatrix} 4&6 \\\\ 3&8 \\end{bmatrix}$$\n",
    "$$\\begin{bmatrix} 6&1&1 \\\\ 4&-2&5 \\\\ 2&8&7\\end{bmatrix}$$\n",
    "$$\\begin{bmatrix} 3&2&0&1 \\\\ 4&0&1&2 \\\\ 3&0&2&1 \\\\ 9&2&3&1\\end{bmatrix}$$"
   ]
  },
  {
   "cell_type": "code",
   "execution_count": 8,
   "id": "d849c3e2",
   "metadata": {},
   "outputs": [
    {
     "name": "stdout",
     "output_type": "stream",
     "text": [
      "Matrix 1 \n",
      " [[-0.42857143  0.57142857]\n",
      " [ 0.28571429 -0.21428571]]\n",
      "Matrix 2 \n",
      " [[ 0.57142857 -0.42857143]\n",
      " [-0.21428571  0.28571429]]\n",
      "Matrix 3 \n",
      " [[ 0.17647059 -0.00326797 -0.02287582]\n",
      " [ 0.05882353 -0.13071895  0.08496732]\n",
      " [-0.11764706  0.1503268   0.05228758]]\n",
      "Matrix 4 \n",
      " [[-0.25        0.25       -0.5         0.25      ]\n",
      " [ 0.66666667 -0.5         0.5        -0.16666667]\n",
      " [ 0.16666667 -0.5         1.         -0.16666667]\n",
      " [ 0.41666667  0.25        0.5        -0.41666667]]\n"
     ]
    }
   ],
   "source": [
    "M_1 = np.array([[3, 8],\n",
    "              [4, 6]])\n",
    "M_2 = np.array([[4, 6],\n",
    "                [3, 8]])\n",
    "M_3 = np.array([[6, 1, 1], \n",
    "                [4, -2, 5],\n",
    "                [2, 8, 7]])\n",
    "M_4 = np.array([[3, 2, 0, 1],\n",
    "                [4, 0, 1, 2],\n",
    "                [3, 0, 2, 1],\n",
    "                [9, 2, 3, 1]])\n",
    "print(\"Matrix 1 \\n\", np.linalg.inv(M_1))\n",
    "print(\"Matrix 2 \\n\", np.linalg.inv(M_2))\n",
    "print(\"Matrix 3 \\n\", np.linalg.inv(M_3))\n",
    "print(\"Matrix 4 \\n\", np.linalg.inv(M_4))"
   ]
  },
  {
   "cell_type": "code",
   "execution_count": null,
   "id": "ff81fb7b",
   "metadata": {
    "id": "ff81fb7b",
    "outputId": "08856402-2027-44eb-d8d7-8e477d0d8031"
   },
   "outputs": [
    {
     "name": "stdout",
     "output_type": "stream",
     "text": [
      "1.\n",
      " [[-0.42857143  0.57142857]\n",
      " [ 0.28571429 -0.21428571]]\n",
      "\n",
      "2.\n",
      " [[ 0.57142857 -0.42857143]\n",
      " [-0.21428571  0.28571429]]\n",
      "\n",
      "3.\n",
      " [[ 0.17647059 -0.00326797 -0.02287582]\n",
      " [ 0.05882353 -0.13071895  0.08496732]\n",
      " [-0.11764706  0.1503268   0.05228758]]\n",
      "\n",
      "4.\n",
      " [[-0.25        0.25       -0.5         0.25      ]\n",
      " [ 0.66666667 -0.5         0.5        -0.16666667]\n",
      " [ 0.16666667 -0.5         1.         -0.16666667]\n",
      " [ 0.41666667  0.25        0.5        -0.41666667]]\n"
     ]
    }
   ],
   "source": []
  },
  {
   "cell_type": "markdown",
   "id": "6dfa4568",
   "metadata": {
    "id": "6dfa4568"
   },
   "source": [
    "## Changing Basis (Orthogonal Coordinates)\n",
    "### Perform the following (Once by dot product and another by matix).\n",
    "### First confirm b1 and b2 are orthogonal basis."
   ]
  },
  {
   "cell_type": "markdown",
   "id": "692ef07f",
   "metadata": {
    "id": "692ef07f"
   },
   "source": [
    "### 1) Transform $v=\\begin{bmatrix}5 \\\\ -1\\end{bmatrix}$ from the stadard basis to b1 and b2 basis. $b_1=\\begin{bmatrix}1 \\\\ 1\\end{bmatrix}$ , $b_2=\\begin{bmatrix}1\\\\-1\\end{bmatrix}$\n",
    "### 2) Transform $v=\\begin{bmatrix}10\\\\-5\\end{bmatrix}$ from the stadard basis to b1 and b2 basis. $b_1=\\begin{bmatrix}3\\\\ 4\\end{bmatrix}$ , $b_2=\\begin{bmatrix} 4 \\\\-3 \\end{bmatrix}$"
   ]
  },
  {
   "cell_type": "code",
   "execution_count": 19,
   "id": "2f77e455",
   "metadata": {},
   "outputs": [
    {
     "name": "stdout",
     "output_type": "stream",
     "text": [
      "vb: \n",
      " [[2.]\n",
      " [3.]]\n"
     ]
    }
   ],
   "source": [
    "# Ex. 1 Using dot product\n",
    "b1 = np.array([1, 1])\n",
    "b2 = np.array([1,-1])\n",
    "v = np.array([5, -1])\n",
    "\n",
    "vb1 = (v@b1)/(np.linalg.norm(b1))**2\n",
    "vb2 = (v@b2)/(np.linalg.norm(b2))**2\n",
    "vb = np.array([[vb1],\n",
    "               [vb2]])\n",
    "print(\"vb: \\n\", vb)"
   ]
  },
  {
   "cell_type": "code",
   "execution_count": null,
   "id": "1ac7a564",
   "metadata": {
    "id": "1ac7a564",
    "outputId": "a212ebde-071b-4e9d-d43a-6e988998f075"
   },
   "outputs": [
    {
     "name": "stdout",
     "output_type": "stream",
     "text": [
      "Using dot product\n",
      "vb:\n",
      "[[2.]\n",
      " [3.]]\n"
     ]
    }
   ],
   "source": [
    "# Ex. 1 Using dot product\n"
   ]
  },
  {
   "cell_type": "code",
   "execution_count": 13,
   "id": "9459afa8",
   "metadata": {
    "id": "9459afa8"
   },
   "outputs": [
    {
     "name": "stdout",
     "output_type": "stream",
     "text": [
      "[[2.]\n",
      " [3.]]\n"
     ]
    }
   ],
   "source": [
    "# Ex. 1 Using transformation matrix\n",
    "v = np.array([[5],\n",
    "              [-1]])\n",
    "B = np.array([[1, 1],\n",
    "             [1, -1]])\n",
    "print(np.linalg.inv(B)@v)"
   ]
  },
  {
   "cell_type": "code",
   "execution_count": null,
   "id": "f1738498",
   "metadata": {
    "id": "f1738498",
    "outputId": "b3668470-1ea9-4378-b0e0-4bdb36fa1f67",
    "scrolled": false
   },
   "outputs": [
    {
     "name": "stdout",
     "output_type": "stream",
     "text": [
      "Using transformation matrix\n",
      "vb:\n",
      "[[2.]\n",
      " [3.]]\n"
     ]
    }
   ],
   "source": [
    "\n"
   ]
  },
  {
   "cell_type": "code",
   "execution_count": 20,
   "id": "e2af0f8e",
   "metadata": {},
   "outputs": [
    {
     "name": "stdout",
     "output_type": "stream",
     "text": [
      "vb: \n",
      " [[0.4]\n",
      " [2.2]]\n"
     ]
    }
   ],
   "source": [
    "# Ex. 2 Using dot product\n",
    "b1 = np.array([3, 4])\n",
    "b2 = np.array([4,-3])\n",
    "v = np.array([10, -5])\n",
    "\n",
    "vb1 = (v@b1)/(np.linalg.norm(b1))**2\n",
    "vb2 = (v@b2)/(np.linalg.norm(b2))**2\n",
    "vb = np.array([[vb1],\n",
    "               [vb2]])\n",
    "print(\"vb: \\n\", vb)"
   ]
  },
  {
   "cell_type": "code",
   "execution_count": null,
   "id": "dcc51c8d",
   "metadata": {
    "id": "dcc51c8d",
    "outputId": "e7c6683f-5f46-4235-dc6d-2993f66fe6f7"
   },
   "outputs": [
    {
     "name": "stdout",
     "output_type": "stream",
     "text": [
      "Using dot product\n",
      "vb:\n",
      "[[0.4]\n",
      " [2.2]]\n"
     ]
    }
   ],
   "source": [
    "\n"
   ]
  },
  {
   "cell_type": "code",
   "execution_count": 21,
   "id": "576a72a3",
   "metadata": {},
   "outputs": [
    {
     "name": "stdout",
     "output_type": "stream",
     "text": [
      "[[0.4]\n",
      " [2.2]]\n"
     ]
    }
   ],
   "source": [
    "# Ex. 2 Using transformation matrix\n",
    "v = np.array([[10],\n",
    "              [-5]])\n",
    "B = np.array([[3, 4],\n",
    "             [4, -3]])\n",
    "print(np.linalg.inv(B)@v)"
   ]
  },
  {
   "cell_type": "code",
   "execution_count": null,
   "id": "0ac3632f",
   "metadata": {
    "id": "0ac3632f",
    "outputId": "e3f63603-2262-42cd-afa4-435375efad34",
    "scrolled": false
   },
   "outputs": [
    {
     "name": "stdout",
     "output_type": "stream",
     "text": [
      "Using transformation matrix\n",
      "vb:\n",
      "[[0.4]\n",
      " [2.2]]\n"
     ]
    }
   ],
   "source": [
    "\n"
   ]
  },
  {
   "cell_type": "code",
   "execution_count": null,
   "id": "dc222f7d",
   "metadata": {
    "id": "dc222f7d"
   },
   "outputs": [],
   "source": []
  },
  {
   "cell_type": "markdown",
   "id": "87b1b94e",
   "metadata": {
    "id": "87b1b94e"
   },
   "source": [
    "## Changing Basis (Non-Orthogonal Coordinates)\n",
    "### Perform the following.\n",
    "### First confirm b1 and b2 are non-orthogonal basis."
   ]
  },
  {
   "cell_type": "markdown",
   "id": "e3bd8da4",
   "metadata": {
    "id": "e3bd8da4"
   },
   "source": [
    "### - Transform $v=\\begin{bmatrix}5 \\\\ 2\\end{bmatrix}$ from the stadard basis to b1 and b2 basis. $b_1=\\begin{bmatrix}3 \\\\ 1\\end{bmatrix}$ , $b_2=\\begin{bmatrix}1\\\\1\\end{bmatrix}$\n"
   ]
  },
  {
   "cell_type": "code",
   "execution_count": 28,
   "id": "5a8e20f5",
   "metadata": {},
   "outputs": [
    {
     "name": "stdout",
     "output_type": "stream",
     "text": [
      "[[1.5]\n",
      " [0.5]]\n"
     ]
    }
   ],
   "source": [
    "B = np.array([[3, 1],\n",
    "              [1, 1]])\n",
    "v = np.array([[5], [2]])\n",
    "\n",
    "print(np.linalg.inv(B)@v)\n",
    "#NON ORTHOGONALLL"
   ]
  },
  {
   "cell_type": "code",
   "execution_count": null,
   "id": "dc21f392",
   "metadata": {
    "id": "dc21f392",
    "outputId": "77137341-4016-4a02-8f64-87c773040e40"
   },
   "outputs": [
    {
     "name": "stdout",
     "output_type": "stream",
     "text": [
      "vb:\n",
      "[[1.5]\n",
      " [0.5]]\n"
     ]
    }
   ],
   "source": []
  },
  {
   "cell_type": "markdown",
   "id": "96465cd3",
   "metadata": {
    "id": "96465cd3"
   },
   "source": [
    "## Transformation in Non-Orthonormal Space\n",
    "### - For $R^2$ defined by the basis basis. $b_1=\\begin{bmatrix}3 \\\\ 1\\end{bmatrix}$ , $b_2=\\begin{bmatrix}1\\\\1\\end{bmatrix}$\n",
    "### - Find the transformation matrix in B coordinate system for the following transformations:\n",
    "#### 1- Reflection around x-axis $T=\\begin{bmatrix} 1&0 \\\\ 0&-1\\end{bmatrix}$\n",
    "#### 2- Rotation matrix $T=\\begin{bmatrix} 0&1 \\\\ -1&0\\end{bmatrix}$\n",
    "### - Apply these transformation to the vector  $v_b=\\begin{bmatrix}1.5 \\\\ 0.5\\end{bmatrix}$"
   ]
  },
  {
   "cell_type": "code",
   "execution_count": 31,
   "id": "2921426f",
   "metadata": {},
   "outputs": [
    {
     "name": "stdout",
     "output_type": "stream",
     "text": [
      "Reflection around x-axis: \n",
      " [[ 2.  1.]\n",
      " [-3. -2.]]\n",
      "Rotation: \n",
      " [[ 2.  1.]\n",
      " [-5. -2.]]\n",
      "Reflection: \n",
      " [[ 3.5]\n",
      " [-5.5]]\n",
      "Rotation: \n",
      " [[ 3.5]\n",
      " [-8.5]]\n"
     ]
    }
   ],
   "source": [
    "B = np.array([[3, 1],\n",
    "              [1, 1]])\n",
    "\n",
    "B_inv = np.linalg.inv(B)\n",
    "\n",
    "T_ref = np.array([[1, 0],\n",
    "              [0, -1]])\n",
    "T_rot = np.array([[0, 1],\n",
    "                  [-1, 0]])\n",
    "\n",
    "T_ref_B = B_inv@T_ref@B\n",
    "T_rot_B = B_inv@T_rot@B\n",
    "vb = np.array([[1.5],\n",
    "               [0.5]])\n",
    "print(\"Reflection around x-axis: \\n\", T_ref_B)\n",
    "print(\"Rotation: \\n\", T_rot_B)\n",
    "print(\"Reflection: \\n\", T_ref_B@vb)\n",
    "print(\"Rotation: \\n\", T_rot_B@vb)"
   ]
  },
  {
   "cell_type": "code",
   "execution_count": null,
   "id": "97599bdc",
   "metadata": {},
   "outputs": [],
   "source": [
    "vb"
   ]
  },
  {
   "cell_type": "code",
   "execution_count": null,
   "id": "086947f1",
   "metadata": {
    "id": "086947f1",
    "outputId": "480e9da6-6e0a-4fcf-809b-1b64a84043f8"
   },
   "outputs": [
    {
     "name": "stdout",
     "output_type": "stream",
     "text": [
      "TB1 =\n",
      " [[ 2.  1.]\n",
      " [-3. -2.]]\n",
      "\n",
      "TB2 =\n",
      " [[ 2.  1.]\n",
      " [-5. -2.]]\n",
      "\n",
      "vb_TB1 =\n",
      " [[ 3.5]\n",
      " [-5.5]]\n",
      "\n",
      "vb_TB2 =\n",
      " [[ 3.5]\n",
      " [-8.5]]\n"
     ]
    }
   ],
   "source": []
  },
  {
   "cell_type": "markdown",
   "id": "2b687c17",
   "metadata": {
    "id": "2b687c17"
   },
   "source": [
    "## Gram–Schmidt Process (Orthogonalization)\n",
    "### Apply Gram-Shmidt process for the following sequence in vectors in $R^3$:\n",
    "### $$\\begin{bmatrix}1 \\\\2\\\\ 0\\end{bmatrix} , \\begin{bmatrix}8 \\\\1\\\\ -6\\end{bmatrix} , \\begin{bmatrix}0 \\\\0\\\\ 1\\end{bmatrix}$$\n",
    "#### Confirm your answer using numpy.linalg.qr() function\n",
    "#### Make sure all vectors given above are basis in $R^3$ space.\n",
    "#### Confirm that the orthogonal matrix has orthonormal vectors.\n",
    "#### Confirm that the transpose of the orthogonal matrix is it's inverse.\n",
    "#### Reflect the vector r = (1,3,4) arround the xy plane containing the two vectors $\\begin{bmatrix}1 \\\\2\\\\ 0\\end{bmatrix} , \\begin{bmatrix}8 \\\\1\\\\ -6\\end{bmatrix}$.\n",
    "#### Round all results to 3 decimal points."
   ]
  },
  {
   "cell_type": "code",
   "execution_count": 32,
   "id": "31fd28a1",
   "metadata": {},
   "outputs": [
    {
     "name": "stdout",
     "output_type": "stream",
     "text": [
      "det(M):  -15.0\n",
      "Mrref:  (Matrix([\n",
      "[1, 0, 0],\n",
      "[0, 1, 0],\n",
      "[0, 0, 1]]), (0, 1, 2))\n"
     ]
    }
   ],
   "source": [
    "M = np.array([[1, 8, 0],\n",
    "              [2, 1, 0],\n",
    "              [0, -6, 1]])\n",
    "M_sm = sm.Matrix(M)\n",
    "print(\"det(M): \", np.linalg.det(M))\n",
    "print(\"Mrref: \", M_sm.rref())"
   ]
  },
  {
   "cell_type": "code",
   "execution_count": null,
   "id": "07ba3659",
   "metadata": {
    "id": "07ba3659",
    "outputId": "a0deb5cb-94c5-4035-e195-e3b96c0689f5"
   },
   "outputs": [
    {
     "name": "stdout",
     "output_type": "stream",
     "text": [
      "det(V): -15.0\n",
      "Mrref:\n",
      " (Matrix([\n",
      "[1, 0, 0],\n",
      "[0, 1, 0],\n",
      "[0, 0, 1]]), (0, 1, 2))\n"
     ]
    }
   ],
   "source": []
  },
  {
   "cell_type": "code",
   "execution_count": 42,
   "id": "52ac52df",
   "metadata": {},
   "outputs": [
    {
     "name": "stdout",
     "output_type": "stream",
     "text": [
      "v1: \n",
      " [[1]\n",
      " [2]\n",
      " [0]]\n",
      "v2: \n",
      " [[ 6.]\n",
      " [-3.]\n",
      " [-6.]]\n",
      "v3: \n",
      " [[ 0.44444444]\n",
      " [-0.22222222]\n",
      " [ 0.55555556]]\n",
      "q1: \n",
      " [[0.4472136 ]\n",
      " [0.89442719]\n",
      " [0.        ]]\n",
      "q2: \n",
      " [[ 0.66666667]\n",
      " [-0.33333333]\n",
      " [-0.66666667]]\n",
      "q3: \n",
      " [[ 0.59628479]\n",
      " [-0.2981424 ]\n",
      " [ 0.74535599]]\n"
     ]
    }
   ],
   "source": [
    "a = np.array([1, 2, 0])\n",
    "b = np.array([8, 1, -6])\n",
    "c = np.array([0, 0, 1])\n",
    "\n",
    "v1 = a\n",
    "v2 = b - ((np.dot(b, v1))/np.dot(v1, v1))*v1\n",
    "v3 = c - ((np.dot(c, v1))/np.dot(v1, v1))*v1 - (np.dot(c, v2)/np.dot(v2, v2))*v2\n",
    "\n",
    "q1 = v1/ np.linalg.norm(v1)\n",
    "q2 = v2/ np.linalg.norm(v2)\n",
    "q3 = v3/ np.linalg.norm(v3)\n",
    "\n",
    "print(\"v1: \\n\", v1.reshape(-1,1))\n",
    "print(\"v2: \\n\", v2.reshape(-1,1))\n",
    "print(\"v3: \\n\", v3.reshape(-1,1))\n",
    "print(\"q1: \\n\", q1.reshape(-1,1))\n",
    "print(\"q2: \\n\", q2.reshape(-1,1))\n",
    "print(\"q3: \\n\", q3.reshape(-1,1))"
   ]
  },
  {
   "cell_type": "code",
   "execution_count": null,
   "id": "95031239",
   "metadata": {
    "id": "95031239",
    "outputId": "1881dc42-bd08-4c1d-89da-f757d71f3d10"
   },
   "outputs": [
    {
     "name": "stdout",
     "output_type": "stream",
     "text": [
      "u1:\n",
      "[[1]\n",
      " [2]\n",
      " [0]]\n",
      "\n",
      "u2:\n",
      "[[ 6.]\n",
      " [-3.]\n",
      " [-6.]]\n",
      "\n",
      "u3:\n",
      "[[ 0.44444444]\n",
      " [-0.22222222]\n",
      " [ 0.55555556]]\n",
      "\n",
      "e1:\n",
      "[[0.4472136 ]\n",
      " [0.89442719]\n",
      " [0.        ]]\n",
      "\n",
      "e2:\n",
      "[[ 0.66666667]\n",
      " [-0.33333333]\n",
      " [-0.66666667]]\n",
      "\n",
      "e3:\n",
      "[[ 0.59628479]\n",
      " [-0.2981424 ]\n",
      " [ 0.74535599]]\n"
     ]
    }
   ],
   "source": []
  },
  {
   "cell_type": "code",
   "execution_count": 47,
   "id": "00970041",
   "metadata": {},
   "outputs": [
    {
     "name": "stdout",
     "output_type": "stream",
     "text": [
      "Using QR: \n",
      " [[-0.4472136   0.66666667  0.59628479]\n",
      " [-0.89442719 -0.33333333 -0.2981424 ]\n",
      " [-0.         -0.66666667  0.74535599]]\n"
     ]
    }
   ],
   "source": [
    "Q, R = np.linalg.qr(M)\n",
    "print(\"Using QR: \\n\", Q)"
   ]
  },
  {
   "cell_type": "code",
   "execution_count": null,
   "id": "857b9624",
   "metadata": {
    "id": "857b9624",
    "outputId": "6a605e6a-b673-4cc4-bf78-8a78a8ab733e",
    "scrolled": true
   },
   "outputs": [
    {
     "name": "stdout",
     "output_type": "stream",
     "text": [
      "Using QR:\n",
      "[[-0.4472136   0.66666667  0.59628479]\n",
      " [-0.89442719 -0.33333333 -0.2981424 ]\n",
      " [-0.         -0.66666667  0.74535599]]\n"
     ]
    }
   ],
   "source": []
  },
  {
   "cell_type": "code",
   "execution_count": 50,
   "id": "72d7ad37",
   "metadata": {},
   "outputs": [
    {
     "name": "stdout",
     "output_type": "stream",
     "text": [
      "0.9999999999999999\n",
      "1.0\n",
      "1.0\n"
     ]
    }
   ],
   "source": [
    "print(np.linalg.norm(q1))\n",
    "print(np.linalg.norm(q2))\n",
    "print(np.linalg.norm(q3))"
   ]
  },
  {
   "cell_type": "code",
   "execution_count": null,
   "id": "5c2e8898",
   "metadata": {
    "id": "5c2e8898",
    "outputId": "75977387-f6fe-4f92-f847-75ee08368e3a"
   },
   "outputs": [
    {
     "data": {
      "text/plain": [
       "1.0"
      ]
     },
     "execution_count": 10,
     "metadata": {},
     "output_type": "execute_result"
    }
   ],
   "source": []
  },
  {
   "cell_type": "code",
   "execution_count": 53,
   "id": "fbe81440",
   "metadata": {},
   "outputs": [
    {
     "name": "stdout",
     "output_type": "stream",
     "text": [
      "Q inverse: \n",
      " [[-0.447 -0.894 -0.   ]\n",
      " [ 0.667 -0.333 -0.667]\n",
      " [ 0.596 -0.298  0.745]]\n",
      "Q Transpose: \n",
      " [[-0.447 -0.894 -0.   ]\n",
      " [ 0.667 -0.333 -0.667]\n",
      " [ 0.596 -0.298  0.745]]\n"
     ]
    }
   ],
   "source": [
    "Q_inv = np.linalg.inv(Q)\n",
    "Q_transpose = Q.T\n",
    "print(\"Q inverse: \\n\", np.round(Q_inv, 3))\n",
    "print(\"Q Transpose: \\n\",  np.round(Q_transpose, 3))"
   ]
  },
  {
   "cell_type": "code",
   "execution_count": null,
   "id": "405735fa",
   "metadata": {
    "id": "405735fa",
    "outputId": "8f15ff18-8198-4808-d6c3-50c209a65382"
   },
   "outputs": [
    {
     "name": "stdout",
     "output_type": "stream",
     "text": [
      "Q Inverse:\n",
      " [[-0.447 -0.894 -0.   ]\n",
      " [ 0.667 -0.333 -0.667]\n",
      " [ 0.596 -0.298  0.745]]\n",
      "Q Transpose\n",
      " [[-0.447 -0.894 -0.   ]\n",
      " [ 0.667 -0.333 -0.667]\n",
      " [ 0.596 -0.298  0.745]]\n"
     ]
    }
   ],
   "source": []
  },
  {
   "cell_type": "code",
   "execution_count": null,
   "id": "6bede4e1",
   "metadata": {},
   "outputs": [
    {
     "name": "stdout",
     "output_type": "stream",
     "text": [
      "Transformation matrix in the non-orthonormal basis: \n",
      " [[ 0.28888889  0.35555556 -0.88888889]\n",
      " [ 0.35555556  0.82222222  0.44444444]\n",
      " [-0.88888889  0.44444444 -0.11111111]]\n",
      "Transformed vector: \n",
      " [[-2.2]\n",
      " [ 4.6]\n",
      " [ 0. ]]\n"
     ]
    },
    {
     "ename": "",
     "evalue": "",
     "output_type": "error",
     "traceback": [
      "\u001b[1;31mThe Kernel crashed while executing code in the current cell or a previous cell. \n",
      "\u001b[1;31mPlease review the code in the cell(s) to identify a possible cause of the failure. \n",
      "\u001b[1;31mClick <a href='https://aka.ms/vscodeJupyterKernelCrash'>here</a> for more info. \n",
      "\u001b[1;31mView Jupyter <a href='command:jupyter.viewOutput'>log</a> for further details."
     ]
    }
   ],
   "source": [
    "r = np.array([1, 3, 4])\n",
    "T = np.array([[1, 0, 0],\n",
    "              [0, 1, 0],\n",
    "              [0, 0, -1]])\n",
    "T_B = Q@T@Q_inv\n",
    "print(\"Transformation matrix in the non-orthonormal basis: \\n\", T_B)\n",
    "print(\"Transformed vector: \\n\", T_B@r.reshape(-1,1))"
   ]
  },
  {
   "cell_type": "code",
   "execution_count": null,
   "id": "53e683d9",
   "metadata": {
    "id": "53e683d9",
    "outputId": "28d1ee9b-f797-4885-d004-d692aa9b4aaa"
   },
   "outputs": [
    {
     "name": "stdout",
     "output_type": "stream",
     "text": [
      "Transformation matrix in the non-orthonormal basis:\n",
      "[[ 0.28888889  0.35555556 -0.88888889]\n",
      " [ 0.35555556  0.82222222  0.44444444]\n",
      " [-0.88888889  0.44444444 -0.11111111]]\n",
      "\n",
      "Transformed vector:\n",
      "[[-2.2]\n",
      " [ 4.6]\n",
      " [ 0. ]]\n"
     ]
    }
   ],
   "source": []
  },
  {
   "cell_type": "code",
   "execution_count": null,
   "id": "b788c2df",
   "metadata": {
    "id": "b788c2df"
   },
   "outputs": [],
   "source": []
  }
 ],
 "metadata": {
  "colab": {
   "provenance": []
  },
  "kernelspec": {
   "display_name": "Python 3",
   "language": "python",
   "name": "python3"
  },
  "language_info": {
   "codemirror_mode": {
    "name": "ipython",
    "version": 3
   },
   "file_extension": ".py",
   "mimetype": "text/x-python",
   "name": "python",
   "nbconvert_exporter": "python",
   "pygments_lexer": "ipython3",
   "version": "3.13.0"
  }
 },
 "nbformat": 4,
 "nbformat_minor": 5
}
