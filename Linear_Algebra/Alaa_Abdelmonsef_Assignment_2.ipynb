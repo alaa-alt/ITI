{
  "cells": [
    {
      "cell_type": "markdown",
      "id": "dd5fdc2a",
      "metadata": {
        "id": "dd5fdc2a"
      },
      "source": [
        "## Linear Combination\n",
        "### Use NumPy"
      ]
    },
    {
      "cell_type": "markdown",
      "id": "38364291",
      "metadata": {
        "id": "38364291"
      },
      "source": [
        "$$v_1=\\begin{bmatrix} 1 \\\\ 2 \\\\ 3 \\end{bmatrix},\n",
        "v_2=\\begin{bmatrix} 3 \\\\ 5 \\\\ 1 \\end{bmatrix},\n",
        "v_3=\\begin{bmatrix} 0 \\\\ 0 \\\\ 8 \\end{bmatrix}$$\n",
        "- Find <b>b</b> vector where $$b=3v_1+0v_2+0v_3$$\n",
        "- Find <b>x</b> vector where $$x=-v_1+v_2-0.5v_3$$"
      ]
    },
    {
      "cell_type": "code",
      "execution_count": null,
      "id": "fe0eb854",
      "metadata": {
        "id": "fe0eb854",
        "outputId": "8fadcd9b-a9bd-4413-e97b-fa51f083f108"
      },
      "outputs": [
        {
          "name": "stdout",
          "output_type": "stream",
          "text": [
            "b:\n",
            "[[3]\n",
            " [6]\n",
            " [9]]\n",
            "\n",
            "x:\n",
            "[[ 2.]\n",
            " [ 3.]\n",
            " [-6.]]\n"
          ]
        }
      ],
      "source": []
    },
    {
      "cell_type": "markdown",
      "id": "54955382",
      "metadata": {
        "id": "54955382"
      },
      "source": [
        "## Vector Span\n",
        "### Use Numpy (matrix inverse) and SymPy (rref)"
      ]
    },
    {
      "cell_type": "markdown",
      "id": "9d440a16",
      "metadata": {
        "id": "9d440a16"
      },
      "source": [
        "#### Is $$v=\\begin{bmatrix} 19 \\\\ 10 \\\\ -1 \\end{bmatrix}$$ in the span of\n",
        "$$v_1=\\begin{bmatrix} 3 \\\\ -1 \\\\ 2 \\end{bmatrix},\n",
        "v_2=\\begin{bmatrix} -5 \\\\ 0 \\\\ 1 \\end{bmatrix},\n",
        "v_3=\\begin{bmatrix} 1 \\\\ 7 \\\\ -4 \\end{bmatrix}$$"
      ]
    },
    {
      "cell_type": "code",
      "execution_count": null,
      "id": "6da888d4",
      "metadata": {
        "id": "6da888d4",
        "outputId": "91a8293d-0a28-42d6-956e-f5096e8d08af"
      },
      "outputs": [
        {
          "data": {
            "text/plain": [
              "(Matrix([\n",
              " [1, 0, 0,  4],\n",
              " [0, 1, 0, -1],\n",
              " [0, 0, 1,  2]]),\n",
              " (0, 1, 2))"
            ]
          },
          "execution_count": 7,
          "metadata": {},
          "output_type": "execute_result"
        }
      ],
      "source": []
    },
    {
      "cell_type": "code",
      "execution_count": null,
      "id": "f0d48b0c",
      "metadata": {
        "id": "f0d48b0c",
        "outputId": "6ae97c20-6c50-444c-8f67-80707ff0949c"
      },
      "outputs": [
        {
          "name": "stdout",
          "output_type": "stream",
          "text": [
            "[[ 4.]\n",
            " [-1.]\n",
            " [ 2.]]\n"
          ]
        }
      ],
      "source": []
    },
    {
      "cell_type": "markdown",
      "id": "821a71ae",
      "metadata": {
        "id": "821a71ae"
      },
      "source": [
        "## Vector Linear Independence\n",
        "### Use rref and determinant\n",
        "- Consider the following sets of vectors in R3. If the set is independent, prove it.\n",
        "- If the set is dependent, find a nontrivial linear combination of the vectors which is equal to 0.\n",
        "    - {(2, 0, -3), (1, 1, 1), (1, 7, 2)}.\n",
        "    - {(1, 2, -1), (4, 1, 3), (-10, 1, -11)}.\n",
        "\n",
        "<b>Hint: we have to determine whether this implies that 𝒂=𝒃=𝒄=𝟎.</b>"
      ]
    },
    {
      "cell_type": "code",
      "execution_count": null,
      "id": "51c3ffd9",
      "metadata": {
        "id": "51c3ffd9",
        "outputId": "038e2f6d-14ce-4499-e7ea-23100e59c3d7"
      },
      "outputs": [
        {
          "data": {
            "text/plain": [
              "(Matrix([\n",
              " [1, 0, 0],\n",
              " [0, 1, 0],\n",
              " [0, 0, 1]]),\n",
              " (0, 1, 2))"
            ]
          },
          "execution_count": 14,
          "metadata": {},
          "output_type": "execute_result"
        }
      ],
      "source": []
    },
    {
      "cell_type": "code",
      "execution_count": null,
      "id": "a72c7e98",
      "metadata": {
        "id": "a72c7e98",
        "outputId": "e619f164-715d-4f60-cc98-46d8232686e3"
      },
      "outputs": [
        {
          "data": {
            "text/latex": [
              "$\\displaystyle -28$"
            ],
            "text/plain": [
              "-28"
            ]
          },
          "execution_count": 15,
          "metadata": {},
          "output_type": "execute_result"
        }
      ],
      "source": []
    },
    {
      "cell_type": "code",
      "execution_count": null,
      "id": "ddef10e0",
      "metadata": {
        "id": "ddef10e0"
      },
      "outputs": [],
      "source": [
        "M = sm.Matrix([[1,4,-10],\n",
        "            [2,1,1],\n",
        "            [-1,3,-11]])"
      ]
    },
    {
      "cell_type": "code",
      "execution_count": null,
      "id": "e094ea5c",
      "metadata": {
        "id": "e094ea5c",
        "outputId": "af06fe5e-9db0-423c-8ce2-021190c73da4"
      },
      "outputs": [
        {
          "data": {
            "text/plain": [
              "(Matrix([\n",
              " [1, 0,  2],\n",
              " [0, 1, -3],\n",
              " [0, 0,  0]]),\n",
              " (0, 1))"
            ]
          },
          "execution_count": 17,
          "metadata": {},
          "output_type": "execute_result"
        }
      ],
      "source": []
    },
    {
      "cell_type": "code",
      "execution_count": null,
      "id": "4c52897d",
      "metadata": {
        "id": "4c52897d",
        "outputId": "2ee8a29c-5eb3-4808-831a-4be241ad31df"
      },
      "outputs": [
        {
          "data": {
            "text/latex": [
              "$\\displaystyle 0$"
            ],
            "text/plain": [
              "0"
            ]
          },
          "execution_count": 19,
          "metadata": {},
          "output_type": "execute_result"
        }
      ],
      "source": []
    },
    {
      "cell_type": "markdown",
      "id": "c88fb001",
      "metadata": {
        "id": "c88fb001"
      },
      "source": [
        "## Linear Transformation\n",
        "### Ex.1"
      ]
    },
    {
      "cell_type": "markdown",
      "id": "9ef341fd",
      "metadata": {
        "id": "9ef341fd"
      },
      "source": [
        "$$T=\\begin{bmatrix} 1&2 \\\\ 3&7 \\end{bmatrix}$$\n",
        "- Write the linear transformation expression of this matrix. i.e. Linear functions of x,y.\n",
        "- Apply the transformation matrix <b>T</b> to the following vectors:\n",
        "$$\\begin{bmatrix} 1 \\\\ 0 \\end{bmatrix},\\begin{bmatrix} 0 \\\\ 1 \\end{bmatrix} $$\n",
        "- Find all points <b>(x,y)</b> such that <b>T(x,y)=(1,0)</b>"
      ]
    },
    {
      "cell_type": "code",
      "execution_count": null,
      "id": "d3e46a3d",
      "metadata": {
        "id": "d3e46a3d",
        "outputId": "a3f19ac1-19d1-4b7b-ee8e-d55de42c0d37"
      },
      "outputs": [
        {
          "name": "stdout",
          "output_type": "stream",
          "text": [
            "A.v1=\n",
            "[[1]\n",
            " [3]]\n",
            "\n",
            "A.v2=\n",
            "[[2]\n",
            " [7]]\n"
          ]
        }
      ],
      "source": []
    },
    {
      "cell_type": "code",
      "execution_count": null,
      "id": "5e4bdf4e",
      "metadata": {
        "id": "5e4bdf4e",
        "outputId": "4157d136-fb60-486d-f27b-ce9f0a068731"
      },
      "outputs": [
        {
          "name": "stdout",
          "output_type": "stream",
          "text": [
            "(x,y):\n",
            "[[ 7.]\n",
            " [-3.]]\n"
          ]
        }
      ],
      "source": []
    },
    {
      "cell_type": "markdown",
      "id": "aa9f63c6",
      "metadata": {
        "id": "aa9f63c6"
      },
      "source": [
        "### Ex.2\n",
        "### For the expression $$T\\begin{bmatrix} x \\\\ y \\end{bmatrix}=\\begin{bmatrix} x+y \\\\ y \\end{bmatrix}$$\n",
        "- Find the transformation matrix.\n",
        "- Represent the transformation graphically <b>(on paper)</b>.\n",
        "- Find all points <b>(x,y)</b> such that <b>T(x,y)=(3,4)</b>"
      ]
    },
    {
      "cell_type": "code",
      "execution_count": null,
      "id": "96dd3fd1",
      "metadata": {
        "id": "96dd3fd1",
        "outputId": "248fb9b3-68de-4994-ad9a-a6d8eef0d1cb"
      },
      "outputs": [
        {
          "name": "stdout",
          "output_type": "stream",
          "text": [
            "x:\n",
            "[[-1.]\n",
            " [ 4.]]\n"
          ]
        }
      ],
      "source": []
    }
  ],
  "metadata": {
    "kernelspec": {
      "display_name": "Python 3 (ipykernel)",
      "language": "python",
      "name": "python3"
    },
    "language_info": {
      "codemirror_mode": {
        "name": "ipython",
        "version": 3
      },
      "file_extension": ".py",
      "mimetype": "text/x-python",
      "name": "python",
      "nbconvert_exporter": "python",
      "pygments_lexer": "ipython3",
      "version": "3.9.12"
    },
    "colab": {
      "provenance": []
    }
  },
  "nbformat": 4,
  "nbformat_minor": 5
}