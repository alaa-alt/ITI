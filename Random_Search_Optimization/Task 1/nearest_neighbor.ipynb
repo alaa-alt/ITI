{
 "cells": [
  {
   "cell_type": "code",
   "execution_count": 76,
   "metadata": {},
   "outputs": [],
   "source": [
    "import pandas as pd\n",
    "import numpy as np\n",
    "import matplotlib.pyplot as plt\n",
    "import math\n",
    "%matplotlib inline"
   ]
  },
  {
   "cell_type": "code",
   "execution_count": 1,
   "metadata": {},
   "outputs": [
    {
     "ename": "NameError",
     "evalue": "name 'pd' is not defined",
     "output_type": "error",
     "traceback": [
      "\u001b[1;31m---------------------------------------------------------------------------\u001b[0m",
      "\u001b[1;31mNameError\u001b[0m                                 Traceback (most recent call last)",
      "Cell \u001b[1;32mIn[1], line 1\u001b[0m\n\u001b[1;32m----> 1\u001b[0m data \u001b[38;5;241m=\u001b[39m pd\u001b[38;5;241m.\u001b[39mread_csv(\u001b[38;5;124m\"\u001b[39m\u001b[38;5;124mData set CSV.csv\u001b[39m\u001b[38;5;124m\"\u001b[39m)\n\u001b[0;32m      2\u001b[0m data\n",
      "\u001b[1;31mNameError\u001b[0m: name 'pd' is not defined"
     ]
    }
   ],
   "source": [
    "data = pd.read_csv(\"Data set CSV.csv\")\n",
    "data"
   ]
  },
  {
   "cell_type": "code",
   "execution_count": 65,
   "metadata": {},
   "outputs": [],
   "source": [
    "class City:\n",
    "    def __init__(self, x, y, Name, Visited=False):\n",
    "        self.x = x\n",
    "        self.y = y\n",
    "        self.Name = Name\n",
    "        self.Visited = Visited\n",
    "\n",
    "    def __str__(self):\n",
    "        return f\"City: {self.Name}, Coordinates: ({self.x}, {self.y})\"\n",
    "        "
   ]
  },
  {
   "cell_type": "code",
   "execution_count": 73,
   "metadata": {},
   "outputs": [
    {
     "data": {
      "text/plain": [
       "[[1.0, 5.5e-08, 9.86e-09],\n",
       " [2.0, -28.8733, -7.98e-08],\n",
       " [3.0, -79.2916, -21.4033],\n",
       " [4.0, -14.6577, -43.3896],\n",
       " [5.0, -64.7473, 21.8982],\n",
       " [6.0, -29.0585, -43.2167],\n",
       " [7.0, -72.0785, 0.181581],\n",
       " [8.0, -36.0366, -21.6135],\n",
       " [9.0, -50.4808, 7.37447],\n",
       " [10.0, -50.5859, -21.5882],\n",
       " [11.0, -0.135819, -28.7293],\n",
       " [12.0, -65.0866, -36.0625],\n",
       " [13.0, -21.4983, 7.31942],\n",
       " [14.0, -57.5687, -43.2506],\n",
       " [15.0, -43.07, 14.5548]]"
      ]
     },
     "execution_count": 73,
     "metadata": {},
     "output_type": "execute_result"
    }
   ],
   "source": [
    "city_list = data.values.tolist()\n",
    "city_list"
   ]
  },
  {
   "cell_type": "code",
   "execution_count": 81,
   "metadata": {},
   "outputs": [],
   "source": [
    "cities = []\n",
    "for city in city_list:\n",
    "    a = City(city[1], city[2], city[0])\n",
    "    cities.append(a)\n",
    "start_city = cities[0]\n",
    "path = []\n",
    "dist_path = []\n",
    "path.append(start_city)\n",
    "i = len(cities)\n",
    "current_city = start_city\n",
    "\n",
    "while i>0:\n",
    "    min_distance = math.inf\n",
    "    next_city = 0\n",
    "    for city in cities:\n",
    "        if city.Visited == True or current_city.Name == city.Name :\n",
    "            continue\n",
    "        else:\n",
    "            distance = math.sqrt(((current_city.x-city.x)**2)+((current_city.y-city.y)**2))\n",
    "            if distance < min_distance:\n",
    "                min_distance = distance\n",
    "                next_city = city\n",
    "    current_city = next_city\n",
    "    current_city.Visited = True\n",
    "    path.append(next_city)\n",
    "    dist_path.append(min_distance)\n",
    "    i = i-1\n"
   ]
  },
  {
   "cell_type": "code",
   "execution_count": 82,
   "metadata": {},
   "outputs": [
    {
     "data": {
      "text/plain": [
       "[City(Name=1.0, x=5.5e-08, y=9.86e-09),\n",
       " City(Name=13.0, x=-21.4983, y=7.31942),\n",
       " City(Name=2.0, x=-28.8733, y=-7.98e-08),\n",
       " City(Name=15.0, x=-43.07, y=14.5548),\n",
       " City(Name=9.0, x=-50.4808, y=7.37447),\n",
       " City(Name=5.0, x=-64.7473, y=21.8982),\n",
       " City(Name=7.0, x=-72.0785, y=0.181581),\n",
       " City(Name=3.0, x=-79.2916, y=-21.4033),\n",
       " City(Name=12.0, x=-65.0866, y=-36.0625),\n",
       " City(Name=14.0, x=-57.5687, y=-43.2506),\n",
       " City(Name=10.0, x=-50.5859, y=-21.5882),\n",
       " City(Name=8.0, x=-36.0366, y=-21.6135),\n",
       " City(Name=6.0, x=-29.0585, y=-43.2167),\n",
       " City(Name=4.0, x=-14.6577, y=-43.3896),\n",
       " City(Name=11.0, x=-0.135819, y=-28.7293),\n",
       " City(Name=1.0, x=5.5e-08, y=9.86e-09)]"
      ]
     },
     "execution_count": 82,
     "metadata": {},
     "output_type": "execute_result"
    }
   ],
   "source": [
    "path"
   ]
  },
  {
   "cell_type": "code",
   "execution_count": 84,
   "metadata": {},
   "outputs": [
    {
     "data": {
      "text/plain": [
       "284.3810904080332"
      ]
     },
     "execution_count": 84,
     "metadata": {},
     "output_type": "execute_result"
    }
   ],
   "source": [
    "cost = sum(dist_path)"
   ]
  },
  {
   "cell_type": "code",
   "execution_count": 89,
   "metadata": {},
   "outputs": [
    {
     "data": {
      "text/plain": [
       "[1.0,\n",
       " 13.0,\n",
       " 2.0,\n",
       " 15.0,\n",
       " 9.0,\n",
       " 5.0,\n",
       " 7.0,\n",
       " 3.0,\n",
       " 12.0,\n",
       " 14.0,\n",
       " 10.0,\n",
       " 8.0,\n",
       " 6.0,\n",
       " 4.0,\n",
       " 11.0,\n",
       " 1.0]"
      ]
     },
     "execution_count": 89,
     "metadata": {},
     "output_type": "execute_result"
    }
   ],
   "source": [
    "city_names = list(map(lambda x:x.Name, path))\n",
    "city_names"
   ]
  },
  {
   "cell_type": "code",
   "execution_count": 91,
   "metadata": {},
   "outputs": [],
   "source": [
    "x_points = list(map(lambda x:x.x, path))\n",
    "y_points = list(map(lambda x:x.y, path))"
   ]
  },
  {
   "cell_type": "code",
   "execution_count": null,
   "metadata": {},
   "outputs": [
    {
     "data": {
      "image/png": "[encoded data removed]",
      "text/plain": [
       "<Figure size 640x480 with 1 Axes>"
      ]
     },
     "metadata": {},
     "output_type": "display_data"
    }
   ],
   "source": [
    "plt.plot(x_points, y_points, marker = \"o\")\n",
    "plt.show()"
   ]
  },
  {
   "cell_type": "code",
   "execution_count": null,
   "metadata": {},
   "outputs": [],
   "source": []
  }
 ],
 "metadata": {
  "kernelspec": {
   "display_name": "base",
   "language": "python",
   "name": "python3"
  },
  "language_info": {
   "codemirror_mode": {
    "name": "ipython",
    "version": 3
   },
   "file_extension": ".py",
   "mimetype": "text/x-python",
   "name": "python",
   "nbconvert_exporter": "python",
   "pygments_lexer": "ipython3",
   "version": "3.12.3"
  }
 },
 "nbformat": 4,
 "nbformat_minor": 2
}
