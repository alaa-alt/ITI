{
 "cells": [
  {
   "cell_type": "code",
   "execution_count": 636,
   "metadata": {},
   "outputs": [],
   "source": [
    "import pandas as pd\n",
    "import numpy as np\n",
    "import matplotlib.pyplot as plt\n",
    "import math\n",
    "import random\n",
    "%matplotlib inline"
   ]
  },
  {
   "cell_type": "code",
   "execution_count": 637,
   "metadata": {},
   "outputs": [],
   "source": [
    "data = pd.read_csv(\"Data set CSV.csv\")"
   ]
  },
  {
   "cell_type": "code",
   "execution_count": null,
   "metadata": {},
   "outputs": [],
   "source": [
    "## Initializing Genetic algorithm Parameters ##\n",
    "population_size = 50\n",
    "generation_count = 100\n",
    "elitism_rate = 0.2\n",
    "crossover_prob = 0.6\n",
    "mutation_prob = 0.1\n",
    "tournament_size = 5"
   ]
  },
  {
   "cell_type": "code",
   "execution_count": 639,
   "metadata": {},
   "outputs": [],
   "source": [
    "class Gene:\n",
    "    def __init__(self, x, y, Name):\n",
    "        self.x = x\n",
    "        self.y = y\n",
    "        self.Name = Name\n",
    "    def __repr__(self):\n",
    "        return str(self.Name)\n",
    "\n",
    "    def distance_function(self, city):\n",
    "        distance = math.sqrt(((self.x-city.x)**2)+((self.y-city.y)**2))\n",
    "        return distance\n",
    "        "
   ]
  },
  {
   "cell_type": "code",
   "execution_count": 640,
   "metadata": {},
   "outputs": [],
   "source": [
    "gene_list = data.values.tolist()\n",
    "genes_list = [Gene(city[1], city[2], city[0]) for city in gene_list]"
   ]
  },
  {
   "cell_type": "code",
   "execution_count": null,
   "metadata": {},
   "outputs": [],
   "source": [
    "## Generating distance matrix ##\n",
    "def distance_matrix(genes_list):\n",
    "    n = len(genes_list)\n",
    "    distances = np.zeros((n,n))\n",
    "    for i in range(n):\n",
    "        for j in range(n):\n",
    "            distances[i][j] = genes_list[i].distance_function(genes_list[j])\n",
    "    return distances"
   ]
  },
  {
   "cell_type": "code",
   "execution_count": 642,
   "metadata": {},
   "outputs": [
    {
     "name": "stdout",
     "output_type": "stream",
     "text": [
      "[[ 0.         28.87330006 82.1295263  45.79853229 68.35015748 52.07763037\n",
      "  72.07872878 42.02118426 51.01660496 54.99985149 28.72962105 74.40947126\n",
      "  22.71014783 72.00534444 45.46281016]\n",
      " [28.87330006  0.         54.77322542 45.6589604  42.02945447 43.21709674\n",
      "  43.20558157 22.76963429 22.83126946 30.61841561 40.63515089 51.10681948\n",
      "  10.39059841 51.90414603 20.33195751]\n",
      " [82.1295263  54.77322542  0.         68.27106574 45.67884154 54.76484963\n",
      "  22.7582051  43.25551074 40.72127506 28.70629549 79.49407488 20.41259831\n",
      "  64.53727736 30.80890945 51.03909543]\n",
      " [45.79853229 45.6589604  68.27106574  0.         82.2889109  14.40183791\n",
      "  72.08048339 30.51648565 62.13119423 42.02542798 20.6351502  50.95841785\n",
      "  51.16833511 42.91122513 64.53535684]\n",
      " [68.35015748 42.02945447 45.67884154 82.2889109   0.         74.25389315\n",
      "  22.92069009 52.13033984 20.3585794  45.73414736 82.08402545 57.96169312\n",
      "  45.64007918 65.54310368 22.8873515 ]\n",
      " [52.07763037 43.21709674 54.76484963 14.40183791 74.25389315  0.\n",
      "  61.10753795 22.70224944 54.93979814 30.51591328 32.34820296 36.7315473\n",
      "  51.0984936  28.51022015 59.44634845]\n",
      " [72.07872878 43.20558157 22.7582051  72.08048339 22.92069009 61.10753795\n",
      "   0.         42.11940303 22.76396928 30.59175084 77.53443357 36.91232955\n",
      "  51.08136037 45.79179667 32.37410225]\n",
      " [42.02118426 22.76963429 43.25551074 30.51648565 52.13033984 22.70224944\n",
      "  42.11940303  0.         32.38730181 14.549322   36.59918969 32.44497035\n",
      "  32.38017953 30.52532435 36.84582256]\n",
      " [51.01660496 22.83126946 40.72127506 62.13119423 20.3585794  54.93979814\n",
      "  22.76396928 32.38730181  0.         28.96286069 61.9523956  45.82684537\n",
      "  28.98255228 51.11884231 10.31877394]\n",
      " [54.99985149 30.61841561 28.70629549 42.02542798 45.73414736 30.51591328\n",
      "  30.59175084 14.549322   28.96286069  0.         50.95297815 20.48842749\n",
      "  41.00901081 22.76003228 36.91619159]\n",
      " [28.72962105 40.63515089 79.49407488 20.6351502  82.08402545 32.34820296\n",
      "  77.53443357 36.59918969 61.9523956  50.95297815  0.         65.36344372\n",
      "  41.90305249 59.2402226  60.96603326]\n",
      " [74.40947126 51.10681948 20.41259831 50.95841785 57.96169312 36.7315473\n",
      "  36.91232955 32.44497035 45.82684537 20.48842749 65.36344372  0.\n",
      "  61.49740547 10.40132694 55.19820409]\n",
      " [22.71014783 10.39059841 64.53727736 51.16833511 45.64007918 51.0984936\n",
      "  51.08136037 32.38017953 28.98255228 41.00901081 41.90305249 61.49740547\n",
      "   0.         62.11602594 22.75277927]\n",
      " [72.00534444 51.90414603 30.80890945 42.91122513 65.54310368 28.51022015\n",
      "  45.79179667 30.52532435 51.11884231 22.76003228 59.2402226  10.40132694\n",
      "  62.11602594  0.         59.59594425]\n",
      " [45.46281016 20.33195751 51.03909543 64.53535684 22.8873515  59.44634845\n",
      "  32.37410225 36.84582256 10.31877394 36.91619159 60.96603326 55.19820409\n",
      "  22.75277927 59.59594425  0.        ]]\n"
     ]
    }
   ],
   "source": [
    "print(distance_matrix(genes_list))"
   ]
  },
  {
   "cell_type": "code",
   "execution_count": 643,
   "metadata": {},
   "outputs": [
    {
     "data": {
      "text/plain": [
       "list"
      ]
     },
     "execution_count": 643,
     "metadata": {},
     "output_type": "execute_result"
    }
   ],
   "source": [
    "type(genes_list)"
   ]
  },
  {
   "cell_type": "code",
   "execution_count": 644,
   "metadata": {},
   "outputs": [],
   "source": [
    "class Chromosome:\n",
    "    def __init__(self, genes_list, distance_matrix):\n",
    "        self.genes_list = genes_list\n",
    "        self.route = random.sample(genes_list, len(genes_list))\n",
    "        self.distance_matrix = distance_matrix\n",
    "        self.fitness_score = 1/self.calculate_distance()\n",
    "        \n",
    "    def calculate_distance(self):\n",
    "        total_distance = 0\n",
    "        route_list = self.route\n",
    "        for i in range(len(route_list)-1):\n",
    "            city1 = route_list[i]\n",
    "            city2 = route_list[i+1]\n",
    "            index1 = self.genes_list.index(city1)\n",
    "            index2 = self.genes_list.index(city2)\n",
    "            total_distance += self.distance_matrix[index1][index2]\n",
    "        index_last = self.genes_list.index(route_list[-1])\n",
    "        index_first = self.genes_list.index(route_list[0])\n",
    "        total_distance += self.distance_matrix[index_last][index_first]\n",
    "        return total_distance\n",
    "    def mutate(self, mutation_prob):\n",
    "        if np.random.rand() < mutation_prob:\n",
    "            n = len(self.route)\n",
    "            i,j = np.random.choice(n, 2, replace=False)\n",
    "            self.route[i], self.route[j] = self.route[j], self.route[i]\n",
    "            self.fitness_score = 1/self.calculate_distance()\n",
    "            \n",
    "    def crossover(self, other):\n",
    "        n = len(self.route)\n",
    "        child_route = [None]*n\n",
    "        half_parent = n//2\n",
    "        child_route[:half_parent] = self.route[:half_parent]\n",
    "        child_route[half_parent:] = [gene for gene in other.route if gene not in child_route]\n",
    "\n",
    "        return Chromosome(child_route, self.distance_matrix)\n",
    "    "
   ]
  },
  {
   "cell_type": "code",
   "execution_count": 645,
   "metadata": {},
   "outputs": [],
   "source": [
    "def initialize_population(population_size, genes_list, distance_matrix):\n",
    "    population = []\n",
    "    for i in range(population_size):\n",
    "        random_route = np.random.permutation(genes_list).tolist()\n",
    "        population.append(Chromosome(random_route, distance_matrix))\n",
    "    return population"
   ]
  },
  {
   "cell_type": "code",
   "execution_count": 646,
   "metadata": {},
   "outputs": [
    {
     "name": "stdout",
     "output_type": "stream",
     "text": [
      "Chromosome 1: [9.0, 7.0, 6.0, 11.0, 12.0, 2.0, 4.0, 14.0, 5.0, 3.0, 13.0, 10.0, 15.0, 8.0, 1.0]\n",
      "Chromosome 2: [1.0, 5.0, 11.0, 2.0, 6.0, 3.0, 14.0, 15.0, 10.0, 8.0, 9.0, 12.0, 7.0, 13.0, 4.0]\n",
      "Chromosome 3: [3.0, 7.0, 9.0, 10.0, 12.0, 14.0, 4.0, 1.0, 15.0, 5.0, 8.0, 13.0, 6.0, 11.0, 2.0]\n",
      "Chromosome 4: [15.0, 1.0, 11.0, 4.0, 2.0, 8.0, 7.0, 5.0, 13.0, 9.0, 12.0, 14.0, 3.0, 10.0, 6.0]\n",
      "Chromosome 5: [10.0, 8.0, 4.0, 11.0, 3.0, 9.0, 2.0, 7.0, 1.0, 12.0, 5.0, 6.0, 13.0, 15.0, 14.0]\n",
      "Chromosome 6: [12.0, 13.0, 2.0, 14.0, 9.0, 4.0, 8.0, 7.0, 1.0, 15.0, 3.0, 10.0, 11.0, 5.0, 6.0]\n",
      "Chromosome 7: [9.0, 2.0, 10.0, 3.0, 1.0, 13.0, 6.0, 5.0, 14.0, 12.0, 4.0, 7.0, 15.0, 8.0, 11.0]\n",
      "Chromosome 8: [12.0, 11.0, 8.0, 9.0, 5.0, 10.0, 7.0, 2.0, 6.0, 3.0, 15.0, 14.0, 4.0, 13.0, 1.0]\n",
      "Chromosome 9: [9.0, 3.0, 14.0, 10.0, 1.0, 13.0, 12.0, 11.0, 8.0, 15.0, 7.0, 6.0, 5.0, 2.0, 4.0]\n",
      "Chromosome 10: [7.0, 6.0, 12.0, 3.0, 1.0, 10.0, 14.0, 15.0, 2.0, 5.0, 4.0, 9.0, 11.0, 13.0, 8.0]\n",
      "Chromosome 11: [8.0, 15.0, 11.0, 2.0, 3.0, 1.0, 4.0, 7.0, 14.0, 13.0, 9.0, 10.0, 12.0, 6.0, 5.0]\n",
      "Chromosome 12: [1.0, 14.0, 6.0, 8.0, 12.0, 11.0, 9.0, 2.0, 10.0, 15.0, 3.0, 4.0, 5.0, 7.0, 13.0]\n",
      "Chromosome 13: [14.0, 5.0, 13.0, 4.0, 15.0, 2.0, 6.0, 9.0, 3.0, 10.0, 1.0, 7.0, 12.0, 8.0, 11.0]\n",
      "Chromosome 14: [13.0, 5.0, 11.0, 9.0, 12.0, 2.0, 10.0, 3.0, 14.0, 7.0, 6.0, 15.0, 1.0, 4.0, 8.0]\n",
      "Chromosome 15: [15.0, 6.0, 7.0, 3.0, 11.0, 4.0, 10.0, 12.0, 9.0, 2.0, 1.0, 14.0, 5.0, 13.0, 8.0]\n",
      "Chromosome 16: [13.0, 9.0, 7.0, 10.0, 11.0, 3.0, 8.0, 6.0, 5.0, 14.0, 12.0, 4.0, 2.0, 15.0, 1.0]\n",
      "Chromosome 17: [9.0, 15.0, 5.0, 3.0, 4.0, 14.0, 11.0, 1.0, 13.0, 10.0, 12.0, 7.0, 2.0, 8.0, 6.0]\n",
      "Chromosome 18: [10.0, 2.0, 5.0, 13.0, 7.0, 4.0, 1.0, 15.0, 6.0, 8.0, 9.0, 12.0, 14.0, 11.0, 3.0]\n",
      "Chromosome 19: [12.0, 1.0, 8.0, 11.0, 2.0, 15.0, 7.0, 5.0, 4.0, 3.0, 14.0, 6.0, 13.0, 10.0, 9.0]\n",
      "Chromosome 20: [9.0, 13.0, 10.0, 5.0, 12.0, 3.0, 1.0, 15.0, 8.0, 11.0, 14.0, 7.0, 6.0, 4.0, 2.0]\n",
      "Chromosome 21: [15.0, 13.0, 14.0, 9.0, 2.0, 6.0, 11.0, 7.0, 5.0, 4.0, 1.0, 3.0, 12.0, 8.0, 10.0]\n",
      "Chromosome 22: [5.0, 10.0, 12.0, 2.0, 8.0, 14.0, 6.0, 13.0, 1.0, 9.0, 15.0, 11.0, 7.0, 3.0, 4.0]\n",
      "Chromosome 23: [6.0, 9.0, 12.0, 11.0, 15.0, 8.0, 14.0, 2.0, 5.0, 10.0, 13.0, 3.0, 7.0, 4.0, 1.0]\n",
      "Chromosome 24: [5.0, 2.0, 4.0, 1.0, 11.0, 8.0, 13.0, 10.0, 6.0, 9.0, 12.0, 15.0, 14.0, 3.0, 7.0]\n",
      "Chromosome 25: [15.0, 12.0, 8.0, 14.0, 5.0, 10.0, 4.0, 7.0, 13.0, 11.0, 2.0, 1.0, 3.0, 6.0, 9.0]\n",
      "Chromosome 26: [6.0, 14.0, 9.0, 4.0, 1.0, 8.0, 15.0, 5.0, 7.0, 3.0, 11.0, 13.0, 2.0, 12.0, 10.0]\n",
      "Chromosome 27: [12.0, 15.0, 11.0, 3.0, 7.0, 1.0, 5.0, 14.0, 13.0, 10.0, 6.0, 9.0, 2.0, 8.0, 4.0]\n",
      "Chromosome 28: [15.0, 14.0, 4.0, 11.0, 3.0, 1.0, 13.0, 9.0, 12.0, 5.0, 2.0, 10.0, 8.0, 7.0, 6.0]\n",
      "Chromosome 29: [1.0, 5.0, 9.0, 15.0, 7.0, 6.0, 4.0, 14.0, 10.0, 8.0, 11.0, 3.0, 13.0, 2.0, 12.0]\n",
      "Chromosome 30: [1.0, 15.0, 11.0, 10.0, 4.0, 2.0, 12.0, 5.0, 6.0, 3.0, 7.0, 13.0, 9.0, 8.0, 14.0]\n",
      "Chromosome 31: [15.0, 5.0, 2.0, 1.0, 9.0, 4.0, 12.0, 8.0, 6.0, 11.0, 7.0, 13.0, 10.0, 14.0, 3.0]\n",
      "Chromosome 32: [2.0, 8.0, 9.0, 13.0, 6.0, 1.0, 11.0, 15.0, 3.0, 14.0, 12.0, 7.0, 4.0, 10.0, 5.0]\n",
      "Chromosome 33: [4.0, 12.0, 1.0, 14.0, 5.0, 7.0, 6.0, 2.0, 9.0, 11.0, 10.0, 8.0, 3.0, 13.0, 15.0]\n",
      "Chromosome 34: [9.0, 11.0, 12.0, 8.0, 2.0, 15.0, 6.0, 5.0, 1.0, 4.0, 10.0, 14.0, 13.0, 3.0, 7.0]\n",
      "Chromosome 35: [4.0, 14.0, 3.0, 9.0, 11.0, 2.0, 15.0, 8.0, 6.0, 7.0, 12.0, 10.0, 5.0, 1.0, 13.0]\n",
      "Chromosome 36: [10.0, 9.0, 14.0, 11.0, 12.0, 13.0, 2.0, 5.0, 1.0, 8.0, 4.0, 3.0, 7.0, 15.0, 6.0]\n",
      "Chromosome 37: [7.0, 10.0, 9.0, 5.0, 14.0, 1.0, 8.0, 12.0, 15.0, 11.0, 6.0, 4.0, 13.0, 2.0, 3.0]\n",
      "Chromosome 38: [13.0, 14.0, 9.0, 7.0, 10.0, 3.0, 8.0, 1.0, 2.0, 12.0, 6.0, 11.0, 5.0, 15.0, 4.0]\n",
      "Chromosome 39: [3.0, 8.0, 12.0, 2.0, 4.0, 14.0, 11.0, 5.0, 15.0, 13.0, 7.0, 10.0, 6.0, 1.0, 9.0]\n",
      "Chromosome 40: [8.0, 4.0, 11.0, 3.0, 6.0, 14.0, 7.0, 5.0, 12.0, 13.0, 9.0, 10.0, 1.0, 2.0, 15.0]\n",
      "Chromosome 41: [1.0, 8.0, 11.0, 12.0, 6.0, 7.0, 9.0, 2.0, 3.0, 15.0, 14.0, 13.0, 5.0, 4.0, 10.0]\n",
      "Chromosome 42: [14.0, 6.0, 8.0, 13.0, 1.0, 4.0, 3.0, 10.0, 15.0, 5.0, 2.0, 9.0, 7.0, 11.0, 12.0]\n",
      "Chromosome 43: [13.0, 11.0, 12.0, 8.0, 3.0, 14.0, 9.0, 6.0, 7.0, 10.0, 15.0, 5.0, 2.0, 1.0, 4.0]\n",
      "Chromosome 44: [12.0, 3.0, 4.0, 10.0, 2.0, 1.0, 14.0, 15.0, 7.0, 11.0, 9.0, 13.0, 6.0, 5.0, 8.0]\n",
      "Chromosome 45: [4.0, 5.0, 1.0, 15.0, 8.0, 13.0, 9.0, 7.0, 14.0, 2.0, 6.0, 12.0, 11.0, 3.0, 10.0]\n",
      "Chromosome 46: [12.0, 3.0, 14.0, 11.0, 6.0, 1.0, 4.0, 15.0, 13.0, 2.0, 5.0, 9.0, 8.0, 10.0, 7.0]\n",
      "Chromosome 47: [9.0, 7.0, 15.0, 2.0, 14.0, 3.0, 13.0, 8.0, 1.0, 6.0, 12.0, 5.0, 4.0, 11.0, 10.0]\n",
      "Chromosome 48: [7.0, 5.0, 1.0, 4.0, 12.0, 15.0, 11.0, 10.0, 13.0, 14.0, 9.0, 2.0, 8.0, 3.0, 6.0]\n",
      "Chromosome 49: [14.0, 3.0, 9.0, 11.0, 8.0, 10.0, 6.0, 4.0, 7.0, 5.0, 2.0, 13.0, 15.0, 12.0, 1.0]\n",
      "Chromosome 50: [1.0, 3.0, 10.0, 12.0, 13.0, 5.0, 15.0, 6.0, 9.0, 4.0, 2.0, 8.0, 11.0, 14.0, 7.0]\n"
     ]
    }
   ],
   "source": [
    "test_dist_matrix = distance_matrix(genes_list)\n",
    "initial_pop = initialize_population(population_size, genes_list, test_dist_matrix)\n",
    "for i, ch1 in enumerate (initial_pop):\n",
    "    print(f\"Chromosome {i+1}: {[gene.Name for gene in ch1.route]}\")"
   ]
  },
  {
   "cell_type": "code",
   "execution_count": null,
   "metadata": {},
   "outputs": [],
   "source": [
    "## Insert initial population chromosomes into old generation list ##\n",
    "old_generation = []\n",
    "old_generation.extend(initial_pop)"
   ]
  },
  {
   "cell_type": "code",
   "execution_count": 648,
   "metadata": {},
   "outputs": [],
   "source": [
    "def elitism (population, elitism_rate, population_size):\n",
    "    sorted_population = sorted(population, key=lambda x: x.fitness_score, reverse=True)\n",
    "    elite_count = int(elitism_rate * population_size)\n",
    "    elite = sorted_population[:elite_count]\n",
    "    return elite"
   ]
  },
  {
   "cell_type": "code",
   "execution_count": 649,
   "metadata": {},
   "outputs": [],
   "source": [
    "def selection(population, k):\n",
    "    tournament = np.random.choice(population, k, replace=False)\n",
    "    tournament = sorted(tournament, key=lambda x: x.fitness_score, reverse=True)\n",
    "    return tournament[0]"
   ]
  },
  {
   "cell_type": "code",
   "execution_count": 650,
   "metadata": {},
   "outputs": [],
   "source": [
    "def parent_selection(population, k):\n",
    "    parent1 = selection(population, k)\n",
    "    parent2 = selection(population, k)\n",
    "    while parent1 == parent2:\n",
    "        parent2 = selection(population, k)\n",
    "    return parent1, parent2"
   ]
  },
  {
   "cell_type": "code",
   "execution_count": 651,
   "metadata": {},
   "outputs": [],
   "source": [
    "def genetic_algorithm(genes_list, population_size,generation_count,elitism_rate, k_tournament, mutation_prob):\n",
    "    testing_dist_matrix = distance_matrix(genes_list)\n",
    "    population = initialize_population(population_size, genes_list, testing_dist_matrix)\n",
    "    for i in range(1, generation_count+1):\n",
    "        new_population = elitism(population, elitism_rate, population_size)\n",
    "        while len(new_population) < population_size:\n",
    "            parent1, parent2 = parent_selection(population, k_tournament)\n",
    "            if np.random.rand() < crossover_prob:\n",
    "                child = parent1.crossover(parent2)\n",
    "            else:\n",
    "                child = Chromosome(np.random.permutation(genes_list).tolist(), testing_dist_matrix)\n",
    "            if child not in new_population:\n",
    "                child.mutate(mutation_prob)\n",
    "                new_population.append(child)\n",
    "        population = new_population\n",
    "    best_route = min(population, key=lambda x: x.calculate_distance())\n",
    "    return best_route"
   ]
  },
  {
   "cell_type": "code",
   "execution_count": 652,
   "metadata": {},
   "outputs": [],
   "source": [
    "def cost_function(chromosome):\n",
    "    return chromosome.calculate_distance()"
   ]
  },
  {
   "cell_type": "code",
   "execution_count": null,
   "metadata": {},
   "outputs": [
    {
     "name": "stdout",
     "output_type": "stream",
     "text": [
      "Generation 100: Best route = [8.0, 2.0, 14.0, 5.0, 7.0, 3.0, 15.0, 1.0, 9.0, 12.0, 13.0, 11.0, 4.0, 10.0, 6.0, 8.0], Cost = 472.0603373655989\n"
     ]
    }
   ],
   "source": [
    "## Testing the genetic algorithm ##\n",
    "best_route = genetic_algorithm(genes_list, population_size, generation_count, elitism_rate, tournament_size, mutation_prob)\n",
    "best_route.route.append(best_route.route[0])\n",
    "cost = cost_function(best_route)\n",
    "print(f\"Generation {generation_count}: Best route = {[genes_list[gene] if isinstance(gene, int) else gene.Name for gene in best_route.route]}, Cost = {cost}\")"
   ]
  },
  {
   "cell_type": "code",
   "execution_count": 654,
   "metadata": {},
   "outputs": [
    {
     "data": {
      "image/png": "[encoded data removed]",
      "text/plain": [
       "<Figure size 640x480 with 1 Axes>"
      ]
     },
     "metadata": {},
     "output_type": "display_data"
    }
   ],
   "source": [
    "def plot_route(chromosome):\n",
    "    x_coords = [gene.x for gene in chromosome.route]\n",
    "    y_coords = [gene.y for gene in chromosome.route]\n",
    "    x_coords.append(x_coords[0])\n",
    "    y_coords.append(y_coords[0])\n",
    "    plt.plot(x_coords, y_coords, marker='o')\n",
    "    plt.grid(True)\n",
    "    plt.show()\n",
    "plot_route(best_route)"
   ]
  },
  {
   "cell_type": "code",
   "execution_count": null,
   "metadata": {},
   "outputs": [],
   "source": []
  }
 ],
 "metadata": {
  "kernelspec": {
   "display_name": "base",
   "language": "python",
   "name": "python3"
  },
  "language_info": {
   "codemirror_mode": {
    "name": "ipython",
    "version": 3
   },
   "file_extension": ".py",
   "mimetype": "text/x-python",
   "name": "python",
   "nbconvert_exporter": "python",
   "pygments_lexer": "ipython3",
   "version": "3.12.3"
  }
 },
 "nbformat": 4,
 "nbformat_minor": 2
}
