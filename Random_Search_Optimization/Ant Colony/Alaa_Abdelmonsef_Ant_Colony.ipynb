{
 "cells": [
  {
   "cell_type": "code",
   "execution_count": 40,
   "metadata": {},
   "outputs": [],
   "source": [
    "import numpy as np\n",
    "import matplotlib.pyplot as plt\n",
    "import pandas as pd\n",
    "import math\n",
    "%matplotlib inline"
   ]
  },
  {
   "cell_type": "code",
   "execution_count": 41,
   "metadata": {},
   "outputs": [],
   "source": [
    "num_ants = 10\n",
    "num_iterations = 50\n",
    "alpha = 1 \n",
    "beta = 2  \n",
    "evaporation_rate = 0.1"
   ]
  },
  {
   "cell_type": "code",
   "execution_count": 42,
   "metadata": {},
   "outputs": [],
   "source": [
    "data = pd.read_csv(\"Data set CSV.csv\")"
   ]
  },
  {
   "cell_type": "code",
   "execution_count": 43,
   "metadata": {},
   "outputs": [],
   "source": [
    "class City:\n",
    "    def __init__(self, x, y, Name):\n",
    "        self.x = x\n",
    "        self.y = y\n",
    "        self.Name = Name\n",
    "    def __repr__(self):\n",
    "        return str(self.Name)\n",
    "\n",
    "    def distance_function(self, city):\n",
    "        distance = math.sqrt(((self.x-city.x)**2)+((self.y-city.y)**2))\n",
    "        return distance\n",
    "      "
   ]
  },
  {
   "cell_type": "code",
   "execution_count": 44,
   "metadata": {},
   "outputs": [],
   "source": [
    "city_list = data.values.tolist()\n",
    "cities_list = [City(city[1], city[2], city[0]) for city in city_list]"
   ]
  },
  {
   "cell_type": "code",
   "execution_count": 45,
   "metadata": {},
   "outputs": [],
   "source": [
    "def calculate_cost_matrix(cities_list):\n",
    "    n = len(cities_list)\n",
    "    distances = np.zeros((n,n))\n",
    "    for i in range(n):\n",
    "        for j in range(n):\n",
    "            distances[i][j] = cities_list[i].distance_function(cities_list[j])\n",
    "    return distances"
   ]
  },
  {
   "cell_type": "code",
   "execution_count": 46,
   "metadata": {},
   "outputs": [],
   "source": [
    "def tour_cost(tour, cost_matrix):\n",
    "    total_cost = 0\n",
    "    for i in range(len(tour)-1):\n",
    "        total_cost += cost_matrix[tour[i]][tour[i+1]]\n",
    "    return total_cost"
   ]
  },
  {
   "cell_type": "code",
   "execution_count": 47,
   "metadata": {},
   "outputs": [],
   "source": [
    "def init_pheromone_matrix(n_cities, cost_matrix):\n",
    "    avg_cost = np.mean(cost_matrix[cost_matrix>0])\n",
    "    tao_0 = 1/(n_cities*avg_cost)\n",
    "    pheromone_matrix = np.full((n_cities, n_cities), tao_0)\n",
    "    np.fill_diagonal(pheromone_matrix, 0)\n",
    "    return pheromone_matrix"
   ]
  },
  {
   "cell_type": "code",
   "execution_count": 48,
   "metadata": {},
   "outputs": [],
   "source": [
    "def update_pheromone(pheromone_matrix, ants, evaporation_rate):\n",
    "    n_cities = len(pheromone_matrix)\n",
    "    pheromone_matrix *= (1-evaporation_rate)\n",
    "    for ant in ants:\n",
    "        pheromone_deposit = 1/ant.tour_length\n",
    "        for j in range(len(ant.tour)-1):\n",
    "            city1, city2 = ant.tour[j], ant.tour[j+1]\n",
    "            pheromone_matrix[city1][city2] += pheromone_deposit\n",
    "            pheromone_matrix[city2][city1] += pheromone_deposit\n",
    "    return pheromone_matrix"
   ]
  },
  {
   "cell_type": "code",
   "execution_count": 49,
   "metadata": {},
   "outputs": [],
   "source": [
    "class Ant:\n",
    "    def __init__(self, start_city, city_number):\n",
    "        self.start_city = start_city\n",
    "        self.current_city = start_city\n",
    "        self.visited = set([start_city])\n",
    "        self.tour = [start_city]\n",
    "        self.tour_length = 0\n",
    "        \n",
    "    def next_city(self, pheromone_matrix, cost_matrix, alpha, beta):\n",
    "        n = len(cost_matrix)\n",
    "        not_visited = [city for city in range(n) if city not in self.visited]\n",
    "        if not not_visited:\n",
    "            return None\n",
    "        pheromone = pheromone_matrix[self.current_city][not_visited]\n",
    "        dist_inv = 1/cost_matrix[self.current_city][not_visited]\n",
    "        prob = (pheromone**alpha)*(dist_inv**beta)\n",
    "        prob = prob/np.sum(prob)\n",
    "        next_city = np.random.choice(not_visited, p=prob)\n",
    "        return next_city\n",
    "    def move(self, next_city, cost_matrix):\n",
    "        self.tour.append(next_city)\n",
    "        self.visited.add(next_city)\n",
    "        self.tour_length += cost_matrix[self.current_city][next_city]\n",
    "        self.current_city = next_city\n",
    "    def complete_tour(self, cost_matrix):\n",
    "        self.tour.append(self.start_city)\n",
    "        self.tour_length += cost_matrix[self.current_city][self.start_city]\n",
    "        "
   ]
  },
  {
   "cell_type": "code",
   "execution_count": 50,
   "metadata": {},
   "outputs": [],
   "source": [
    "def ant_colony_algorithm(cost_matrix, n_ants, iterations, alpha, beta, evaporation_rate):\n",
    "    test_cost_matrix = cost_matrix\n",
    "    n_cities = len(test_cost_matrix)\n",
    "    pheromone_matrix = init_pheromone_matrix(n_cities, test_cost_matrix)\n",
    "    best_tour = None\n",
    "    best_cost = float('inf')\n",
    "    for iteration in range(iterations):\n",
    "        ants = [Ant(start_city=np.random.randint(n_cities), city_number= n_cities)for j in range(n_ants)]\n",
    "        for ant in ants:\n",
    "            while len(ant.visited) < n_cities:\n",
    "                next_city = ant.next_city(pheromone_matrix, test_cost_matrix, alpha, beta)\n",
    "                ant.move(next_city, test_cost_matrix)\n",
    "            ant.complete_tour(test_cost_matrix)\n",
    "            if ant.tour_length < best_cost:\n",
    "                best_tour = ant.tour\n",
    "                best_cost = ant.tour_length\n",
    "        pheromone_matrix = update_pheromone(pheromone_matrix, ants, evaporation_rate)\n",
    "        print(f\"Iteration {iteration + 1}: Best cost so far = {best_cost}\")\n",
    "    return best_tour, best_cost"
   ]
  },
  {
   "cell_type": "code",
   "execution_count": 51,
   "metadata": {},
   "outputs": [
    {
     "name": "stdout",
     "output_type": "stream",
     "text": [
      "Iteration 1: Best cost so far = 430.7273197055678\n",
      "Iteration 2: Best cost so far = 346.9945918038028\n",
      "Iteration 3: Best cost so far = 342.4275748605587\n",
      "Iteration 4: Best cost so far = 329.15404142878043\n",
      "Iteration 5: Best cost so far = 308.9364634236407\n",
      "Iteration 6: Best cost so far = 299.960046306089\n",
      "Iteration 7: Best cost so far = 299.960046306089\n",
      "Iteration 8: Best cost so far = 299.960046306089\n",
      "Iteration 9: Best cost so far = 299.960046306089\n",
      "Iteration 10: Best cost so far = 289.4091744568742\n",
      "Iteration 11: Best cost so far = 289.4091744568742\n",
      "Iteration 12: Best cost so far = 289.4091744568742\n",
      "Iteration 13: Best cost so far = 289.4091744568742\n",
      "Iteration 14: Best cost so far = 289.4091744568742\n",
      "Iteration 15: Best cost so far = 289.4091744568742\n",
      "Iteration 16: Best cost so far = 289.4091744568742\n",
      "Iteration 17: Best cost so far = 284.3810904080332\n",
      "Iteration 18: Best cost so far = 284.3810904080332\n",
      "Iteration 19: Best cost so far = 284.3810904080332\n",
      "Iteration 20: Best cost so far = 284.3810904080332\n",
      "Iteration 21: Best cost so far = 284.3810904080332\n",
      "Iteration 22: Best cost so far = 284.3810904080332\n",
      "Iteration 23: Best cost so far = 284.3810904080332\n",
      "Iteration 24: Best cost so far = 284.3810904080331\n",
      "Iteration 25: Best cost so far = 284.3810904080331\n",
      "Iteration 26: Best cost so far = 284.3810904080331\n",
      "Iteration 27: Best cost so far = 284.3810904080331\n",
      "Iteration 28: Best cost so far = 284.3810904080331\n",
      "Iteration 29: Best cost so far = 284.3810904080331\n",
      "Iteration 30: Best cost so far = 284.3810904080331\n",
      "Iteration 31: Best cost so far = 284.3810904080331\n",
      "Iteration 32: Best cost so far = 284.3810904080331\n",
      "Iteration 33: Best cost so far = 284.3810904080331\n",
      "Iteration 34: Best cost so far = 284.3810904080331\n",
      "Iteration 35: Best cost so far = 284.3810904080331\n",
      "Iteration 36: Best cost so far = 284.3810904080331\n",
      "Iteration 37: Best cost so far = 284.3810904080331\n",
      "Iteration 38: Best cost so far = 284.3810904080331\n",
      "Iteration 39: Best cost so far = 284.3810904080331\n",
      "Iteration 40: Best cost so far = 284.3810904080331\n",
      "Iteration 41: Best cost so far = 284.3810904080331\n",
      "Iteration 42: Best cost so far = 284.3810904080331\n",
      "Iteration 43: Best cost so far = 284.3810904080331\n",
      "Iteration 44: Best cost so far = 284.3810904080331\n",
      "Iteration 45: Best cost so far = 284.3810904080331\n",
      "Iteration 46: Best cost so far = 284.3810904080331\n",
      "Iteration 47: Best cost so far = 284.3810904080331\n",
      "Iteration 48: Best cost so far = 284.3810904080331\n",
      "Iteration 49: Best cost so far = 284.3810904080331\n",
      "Iteration 50: Best cost so far = 284.3810904080331\n",
      "\n",
      "Best tour found: [4, 6, 2, 11, 13, 9, 7, 5, 3, 10, 0, 12, 1, 14, 8, 4]\n",
      "Best tour cost: 284.3810904080331\n"
     ]
    }
   ],
   "source": [
    "best_tour, best_cost = ant_colony_algorithm(cost_matrix, num_ants, num_iterations, alpha, beta, evaporation_rate)\n",
    "\n",
    "print(\"\\nBest tour found:\", best_tour)\n",
    "print(\"Best tour cost:\", best_cost)"
   ]
  },
  {
   "cell_type": "code",
   "execution_count": 54,
   "metadata": {},
   "outputs": [],
   "source": [
    "def plot_best_tour(best_tour, cities_list):\n",
    "    x_coords = [cities_list[i].x for i in best_tour]\n",
    "    y_coords = [cities_list[i].y for i in best_tour]\n",
    "    plt.figure(figsize=(8, 6))\n",
    "    plt.plot(x_coords, y_coords, marker='o')\n",
    "    plt.scatter(x_coords, y_coords)\n",
    "    plt.grid()\n",
    "    plt.show()\n"
   ]
  },
  {
   "cell_type": "code",
   "execution_count": 55,
   "metadata": {},
   "outputs": [
    {
     "data": {
      "image/png": "[encoded data removed]",
      "text/plain": [
       "<Figure size 800x600 with 1 Axes>"
      ]
     },
     "metadata": {},
     "output_type": "display_data"
    }
   ],
   "source": [
    "plot_best_tour(best_tour, cities_list)"
   ]
  },
  {
   "cell_type": "code",
   "execution_count": null,
   "metadata": {},
   "outputs": [],
   "source": []
  }
 ],
 "metadata": {
  "kernelspec": {
   "display_name": "base",
   "language": "python",
   "name": "python3"
  },
  "language_info": {
   "codemirror_mode": {
    "name": "ipython",
    "version": 3
   },
   "file_extension": ".py",
   "mimetype": "text/x-python",
   "name": "python",
   "nbconvert_exporter": "python",
   "pygments_lexer": "ipython3",
   "version": "3.12.3"
  }
 },
 "nbformat": 4,
 "nbformat_minor": 2
}
