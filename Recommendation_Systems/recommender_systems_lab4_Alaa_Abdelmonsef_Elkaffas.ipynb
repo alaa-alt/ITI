{
  "cells": [
    {
      "cell_type": "markdown",
      "metadata": {
        "id": "view-in-github",
        "colab_type": "text"
      },
      "source": [
        "<a href=\"https://colab.research.google.com/github/alaa-alt/ITI/blob/main/Recommendation_Systems/recommender_systems_lab4_Alaa_Abdelmonsef_Elkaffas.ipynb\" target=\"_parent\"><img src=\"https://colab.research.google.com/assets/colab-badge.svg\" alt=\"Open In Colab\"/></a>"
      ]
    },
    {
      "cell_type": "markdown",
      "metadata": {
        "id": "6_JxloWb8ff3"
      },
      "source": [
        "$$ ITI \\space AI-Pro: \\space Intake \\space 45 $$\n",
        "$$ Recommender \\space Systems $$\n",
        "$$ Lab \\space no. \\space 4 $$"
      ]
    },
    {
      "cell_type": "markdown",
      "metadata": {
        "id": "qo8nc3XZ8ff5"
      },
      "source": [
        "import torch\n",
        "import torch.nn as nn\n",
        "import torch.optim as optim\n",
        "import torch.nn.functional as F\n",
        "import torchvision\n",
        "import torchvision.transforms as transforms\n",
        "import matplotlib.pyplot as plt\n",
        "import numpy as np"
      ]
    },
    {
      "cell_type": "code",
      "source": [
        "import torch\n",
        "import torch.nn as nn\n",
        "import torch.optim as optim\n",
        "import torch.nn.functional as F\n",
        "import torchvision\n",
        "import torchvision.transforms as transforms\n",
        "import matplotlib.pyplot as plt\n",
        "import numpy as np"
      ],
      "metadata": {
        "id": "LGqJCOlc9rIh"
      },
      "execution_count": null,
      "outputs": []
    },
    {
      "cell_type": "markdown",
      "metadata": {
        "id": "bRCz4E-J8ff5"
      },
      "source": [
        "# Check if GPU is available and set device accordingly\n"
      ]
    },
    {
      "cell_type": "code",
      "execution_count": null,
      "metadata": {
        "id": "HhSNVQSt8ff5",
        "colab": {
          "base_uri": "https://localhost:8080/"
        },
        "outputId": "7e8a00ec-7840-44e0-8219-9e7d56e9430e"
      },
      "outputs": [
        {
          "output_type": "stream",
          "name": "stdout",
          "text": [
            "Using device: cuda:0\n"
          ]
        }
      ],
      "source": [
        "device = torch.device(\"cuda:0\" if torch.cuda.is_available() else \"cpu\")\n",
        "print(f\"Using device: {device}\")"
      ]
    },
    {
      "cell_type": "markdown",
      "metadata": {
        "id": "iEcaE7zH8ff5"
      },
      "source": [
        "## 1. Tensors - The Fundamental Data Structure in PyTorch"
      ]
    },
    {
      "cell_type": "markdown",
      "metadata": {
        "id": "66CtgULg8ff6"
      },
      "source": [
        "# Creating tensors\n"
      ]
    },
    {
      "cell_type": "code",
      "execution_count": null,
      "metadata": {
        "id": "mTnryrEn8ff6",
        "colab": {
          "base_uri": "https://localhost:8080/"
        },
        "outputId": "45f4fa15-1915-4781-81e6-0487268982ad"
      },
      "outputs": [
        {
          "output_type": "stream",
          "name": "stdout",
          "text": [
            "Tensor from list: tensor([1, 2, 3, 4])\n",
            "Tensor from NumPy: tensor([1, 2, 3, 4])\n",
            "Float32  tensor: tensor([1., 2., 3., 4.])\n",
            "Float64 tensor: tensor([1., 2., 3., 4.], dtype=torch.float64)\n",
            "\n",
            "Tensors with specific shapes:\n",
            "Zeros tensor (3x4):\n",
            "tensor([[0., 0., 0., 0.],\n",
            "        [0., 0., 0., 0.],\n",
            "        [0., 0., 0., 0.]])\n",
            "Ones tensor (2x3):\n",
            "tensor([[1., 1., 1.],\n",
            "        [1., 1., 1.]])\n",
            "Random tensor (3x3):\n",
            "tensor([[0.3616, 0.9961, 0.0408],\n",
            "        [0.2909, 0.2790, 0.0837],\n",
            "        [0.6187, 0.6450, 0.7803]])\n"
          ]
        }
      ],
      "source": [
        "# From Python lists\n",
        "x = torch.tensor([1, 2, 3, 4])\n",
        "print(f\"Tensor from list: {x}\")\n",
        "# From NumPy arrays\n",
        "np_array = np.array([1, 2, 3, 4])\n",
        "x_from_numpy = torch.from_numpy(np_array)\n",
        "print(f\"Tensor from NumPy: {x_from_numpy}\")\n",
        "# Tensor with specific data type (float32, float64)\n",
        "x_float = torch.tensor([1, 2, 3, 4], dtype=torch.float32)\n",
        "print(f\"Float32  tensor: {x_float}\")\n",
        "x_float2 = torch.tensor([1, 2, 3, 4], dtype=torch.float64)\n",
        "print(f\"Float64 tensor: {x_float2}\")\n",
        "# Creating tensors with specific shapes\n",
        "zeros = torch.zeros(3, 4)\n",
        "ones = torch.ones(2, 3)\n",
        "rand_tensor = torch.rand(3, 3)\n",
        "print(\"\\nTensors with specific shapes:\")\n",
        "print(f\"Zeros tensor (3x4):\\n{zeros}\")\n",
        "print(f\"Ones tensor (2x3):\\n{ones}\")\n",
        "print(f\"Random tensor (3x3):\\n{rand_tensor}\")"
      ]
    },
    {
      "cell_type": "markdown",
      "metadata": {
        "id": "zg4Jcllx8ff6"
      },
      "source": [
        "# Tensor operations\n"
      ]
    },
    {
      "cell_type": "code",
      "execution_count": null,
      "metadata": {
        "id": "jH-10yhP8ff7",
        "colab": {
          "base_uri": "https://localhost:8080/"
        },
        "outputId": "91179d3a-90fb-4e65-8ff4-0005f1bf0b91"
      },
      "outputs": [
        {
          "output_type": "stream",
          "name": "stdout",
          "text": [
            "\n",
            "Tensor operations:\n",
            "a + b = tensor([5., 7., 9.])\n",
            "a * b = tensor([ 4., 10., 18.])\n",
            "\n",
            "Original tensor:\n",
            "tensor([[1, 2, 3],\n",
            "        [4, 5, 6]])\n",
            "Reshaped tensor:\n",
            "tensor([[1, 2],\n",
            "        [3, 4],\n",
            "        [5, 6]])\n",
            "Transposed tensor:\n",
            "tensor([[1, 4],\n",
            "        [2, 5],\n",
            "        [3, 6]])\n",
            "\n",
            "Tensor moved to GPU: cuda:0\n"
          ]
        }
      ],
      "source": [
        "# Adding, multiplication\n",
        "a = torch.tensor([1, 2, 3], dtype=torch.float32)\n",
        "b = torch.tensor([4, 5, 6], dtype=torch.float32)\n",
        "print(\"\\nTensor operations:\")\n",
        "print(f\"a + b = {a + b}\")\n",
        "print(f\"a * b = {a * b}\")\n",
        "# Reshaping tensors\n",
        "c = torch.tensor([[1, 2, 3], [4, 5, 6]])\n",
        "print(f\"\\nOriginal tensor:\\n{c}\")\n",
        "print(f\"Reshaped tensor:\\n{c.reshape(3, 2)}\")\n",
        "print(f\"Transposed tensor:\\n{c.t()}\")\n",
        "# Moving tensors to GPU if available\n",
        "if torch.cuda.is_available():\n",
        "    x_gpu = x.to(device)\n",
        "    print(f\"\\nTensor moved to GPU: {x_gpu.device}\")"
      ]
    },
    {
      "cell_type": "markdown",
      "metadata": {
        "id": "lrjbmVVO8ff7"
      },
      "source": [
        "## 2. Autograd - Automatic Differentiation"
      ]
    },
    {
      "cell_type": "code",
      "execution_count": null,
      "metadata": {
        "id": "4qPZwGi68ff7",
        "colab": {
          "base_uri": "https://localhost:8080/"
        },
        "outputId": "417d7c64-bb65-4ae2-d064-202ed90bb6b5"
      },
      "outputs": [
        {
          "output_type": "stream",
          "name": "stdout",
          "text": [
            "\n",
            "Autograd example:\n",
            "y = x^2 + 3x + 1 = tensor([11.], grad_fn=<AddBackward0>) when x = tensor([2.], requires_grad=True)\n",
            "dy/dx = 2x + 3 = tensor([7.]) when x = tensor([2.], requires_grad=True)\n",
            "First gradient: tensor([4.])\n",
            "Accumulated gradient (should be wrong): tensor([16.])\n",
            "Correct gradient after zeroing: tensor([12.])\n"
          ]
        }
      ],
      "source": [
        "# Creating tensors with gradient tracking\n",
        "x = torch.tensor([2.0], requires_grad=True)\n",
        "y = x ** 2 + 3*x + 1\n",
        "print(\"\\nAutograd example:\")\n",
        "print(f\"y = x^2 + 3x + 1 = {y} when x = {x}\")\n",
        "# Computing gradients\n",
        "y.backward()\n",
        "print(f\"dy/dx = 2x + 3 = {x.grad} when x = {x}\")\n",
        "# Example of gradient accumulation and zeroing\n",
        "x = torch.tensor([2.0], requires_grad=True)\n",
        "y = x ** 2\n",
        "y.backward()\n",
        "print(f\"First gradient: {x.grad}\")\n",
        "# Gradient will accumulate if we don't zero it\n",
        "y = x ** 3\n",
        "y.backward()\n",
        "print(f\"Accumulated gradient (should be wrong): {x.grad}\")\n",
        "# Zero the gradient and compute again\n",
        "x.grad.zero_()\n",
        "y = x ** 3\n",
        "y.backward()\n",
        "print(f\"Correct gradient after zeroing: {x.grad}\")"
      ]
    },
    {
      "cell_type": "markdown",
      "metadata": {
        "id": "C3mElBrF8ff7"
      },
      "source": [
        "## 3. Neural Networks with nn.Module\n"
      ]
    },
    {
      "cell_type": "code",
      "execution_count": null,
      "metadata": {
        "id": "6hfeV4xa8ff7",
        "colab": {
          "base_uri": "https://localhost:8080/"
        },
        "outputId": "4ff316fb-2244-47ef-e274-09eca92debbe"
      },
      "outputs": [
        {
          "output_type": "stream",
          "name": "stdout",
          "text": [
            "\n",
            "Simple Neural Network:\n",
            "SimpleNN(\n",
            "  (fc1): Linear(in_features=10, out_features=20, bias=True)\n",
            "  (relu): ReLU()\n",
            "  (fc2): Linear(in_features=20, out_features=2, bias=True)\n",
            ")\n",
            "\n",
            "Input shape: torch.Size([5, 10])\n",
            "Output shape: torch.Size([5, 2])\n",
            "\n",
            "Model parameters:\n",
            "fc1.weight: torch.Size([20, 10])\n",
            "fc1.bias: torch.Size([20])\n",
            "fc2.weight: torch.Size([2, 20])\n",
            "fc2.bias: torch.Size([2])\n"
          ]
        }
      ],
      "source": [
        "# Define a simple neural network\n",
        "class SimpleNN(nn.Module):\n",
        "    def __init__(self, input_size, hidden_size, output_size):\n",
        "        super(SimpleNN, self).__init__()\n",
        "        self.fc1 = nn.Linear(input_size, hidden_size)\n",
        "        self.relu = nn.ReLU()\n",
        "        self.fc2 = nn.Linear(hidden_size, output_size)\n",
        "\n",
        "    def forward(self, x):\n",
        "        x = self.fc1(x)\n",
        "        x = self.relu(x)\n",
        "        x = self.fc2(x)\n",
        "        return x\n",
        "# Create a model instance\n",
        "model = SimpleNN(input_size=10, hidden_size=20, output_size=2)\n",
        "print(\"\\nSimple Neural Network:\")\n",
        "print(model)\n",
        "# Random input\n",
        "x = torch.randn(5, 10)  # 5 samples, 10 features each\n",
        "print(f\"\\nInput shape: {x.shape}\")\n",
        "# Forward pass\n",
        "output = model(x)\n",
        "print(f\"Output shape: {output.shape}\")\n",
        "# Access model parameters, print them\n",
        "print(\"\\nModel parameters:\")\n",
        "for name, param in model.named_parameters():\n",
        "    print(f\"{name}: {param.shape}\")"
      ]
    },
    {
      "cell_type": "markdown",
      "metadata": {
        "id": "B_-l1JEv8ff8"
      },
      "source": [
        "## 4. Loss Functions and Optimizers\n"
      ]
    },
    {
      "cell_type": "code",
      "execution_count": null,
      "metadata": {
        "id": "l3l-zB3X8ff8",
        "colab": {
          "base_uri": "https://localhost:8080/"
        },
        "outputId": "0c00420e-3d53-42a0-de01-173c09ed45a8"
      },
      "outputs": [
        {
          "output_type": "stream",
          "name": "stdout",
          "text": [
            "\n",
            "Training example:\n",
            "Epoch 1, Loss: 0.7329\n",
            "Epoch 2, Loss: 0.7323\n",
            "Epoch 3, Loss: 0.7318\n",
            "Epoch 4, Loss: 0.7312\n",
            "Epoch 5, Loss: 0.7307\n"
          ]
        }
      ],
      "source": [
        "# Create some dummy data\n",
        "inputs = torch.randn(100, 10)\n",
        "targets = torch.randint(0, 2, (100,))\n",
        "# Create a model\n",
        "model = SimpleNN(input_size=10, hidden_size=20, output_size=2)\n",
        "# Define loss function and optimizer\n",
        "criterion = nn.CrossEntropyLoss()\n",
        "optimizer = optim.SGD(model.parameters(), lr=0.01)\n",
        "print(\"\\nTraining example:\")\n",
        "# Train for 5 epochs\n",
        "for epoch in range(5):\n",
        "    # Forward pass\n",
        "    outputs = model(inputs)\n",
        "    loss = criterion(outputs, targets)\n",
        "\n",
        "    # Backward and optimize\n",
        "    optimizer.zero_grad()\n",
        "    loss.backward()\n",
        "    optimizer.step()\n",
        "\n",
        "    print(f\"Epoch {epoch+1}, Loss: {loss.item():.4f}\")"
      ]
    },
    {
      "cell_type": "markdown",
      "metadata": {
        "id": "G7q1L8ho8ff8"
      },
      "source": [
        "## 5. Datasets and DataLoaders\n"
      ]
    },
    {
      "cell_type": "code",
      "execution_count": null,
      "metadata": {
        "id": "7TbVT3_x8ff8",
        "colab": {
          "base_uri": "https://localhost:8080/",
          "height": 328
        },
        "outputId": "34029f98-1825-4151-b767-8f7aad4a0baa"
      },
      "outputs": [
        {
          "output_type": "stream",
          "name": "stderr",
          "text": [
            "100%|██████████| 9.91M/9.91M [00:00<00:00, 14.6MB/s]\n",
            "100%|██████████| 28.9k/28.9k [00:00<00:00, 485kB/s]\n",
            "100%|██████████| 1.65M/1.65M [00:00<00:00, 3.82MB/s]\n",
            "100%|██████████| 4.54k/4.54k [00:00<00:00, 6.75MB/s]"
          ]
        },
        {
          "output_type": "stream",
          "name": "stdout",
          "text": [
            "\n",
            "Dataset and DataLoader:\n",
            "Number of training samples: 60000\n",
            "Number of test samples: 10000\n",
            "Number of batches in trainloader: 938\n"
          ]
        },
        {
          "output_type": "stream",
          "name": "stderr",
          "text": [
            "\n"
          ]
        },
        {
          "output_type": "stream",
          "name": "stdout",
          "text": [
            "Batch shape: torch.Size([64, 1, 28, 28])\n",
            "Labels: tensor([7, 7, 1, 6, 0, 6, 5, 4])\n",
            "\n",
            "Sample images from MNIST dataset:\n"
          ]
        },
        {
          "output_type": "display_data",
          "data": {
            "text/plain": [
              "<Figure size 640x480 with 1 Axes>"
            ],
            "image/png": "[encoded data removed]"
          },
          "metadata": {}
        }
      ],
      "source": [
        "# Define transformations\n",
        "transform = transforms.Compose([\n",
        "    transforms.ToTensor(),\n",
        "    transforms.Normalize((0.5,), (0.5,))])\n",
        "# Load MNIST dataset\n",
        "trainset = torchvision.datasets.MNIST(root='./data', train=True,\n",
        "                                      download=True, transform=transform)\n",
        "testset = torchvision.datasets.MNIST(root='./data', train=False,\n",
        "                                     download=True, transform=transform)\n",
        "# Create DataLoaders\n",
        "trainloader = torch.utils.data.DataLoader(trainset, batch_size=64,\n",
        "                                          shuffle=True, num_workers=2)\n",
        "testloader = torch.utils.data.DataLoader(testset, batch_size=64,\n",
        "                                         shuffle=False, num_workers=2)\n",
        "print(\"\\nDataset and DataLoader:\")\n",
        "print(f\"Number of training samples: {len(trainset)}\")\n",
        "print(f\"Number of test samples: {len(testset)}\")\n",
        "print(f\"Number of batches in trainloader: {len(trainloader)}\")\n",
        "# Visualize a batch of data\n",
        "dataiter = iter(trainloader)\n",
        "images, labels = next(dataiter)\n",
        "\n",
        "print(f\"Batch shape: {images.shape}\")\n",
        "print(f\"Labels: {labels[:8]}\")\n",
        "# Function to display images\n",
        "def imshow(img):\n",
        "    img = img / 2 + 0.5  # Unnormalize\n",
        "    npimg = img.numpy()\n",
        "    plt.imshow(np.transpose(npimg, (1, 2, 0)))\n",
        "    plt.axis('off')\n",
        "    plt.show()\n",
        "# Display a batch of images\n",
        "print(\"\\nSample images from MNIST dataset:\")\n",
        "# Uncomment the following line to display images when running in a notebook\n",
        "imshow(torchvision.utils.make_grid(images[:8]))"
      ]
    },
    {
      "cell_type": "markdown",
      "metadata": {
        "id": "9A36GlCV8ff8"
      },
      "source": [
        "## 6. Convolutional Neural Networks (CNNs)\n"
      ]
    },
    {
      "cell_type": "code",
      "execution_count": null,
      "metadata": {
        "id": "VQ6a5QlR8ff8",
        "colab": {
          "base_uri": "https://localhost:8080/"
        },
        "outputId": "a6f70fec-011f-4889-ddf3-9b64503ed42e"
      },
      "outputs": [
        {
          "output_type": "stream",
          "name": "stdout",
          "text": [
            "\n",
            "Convolutional Neural Network:\n",
            "SimpleCNN(\n",
            "  (conv1): Conv2d(1, 32, kernel_size=(3, 3), stride=(1, 1), padding=(1, 1))\n",
            "  (pool): MaxPool2d(kernel_size=2, stride=2, padding=0, dilation=1, ceil_mode=False)\n",
            "  (conv2): Conv2d(32, 64, kernel_size=(3, 3), stride=(1, 1), padding=(1, 1))\n",
            "  (fc1): Linear(in_features=3136, out_features=128, bias=True)\n",
            "  (fc2): Linear(in_features=128, out_features=10, bias=True)\n",
            ")\n"
          ]
        }
      ],
      "source": [
        "# Define a CNN model\n",
        "class SimpleCNN(nn.Module):\n",
        "    def __init__(self):\n",
        "        super(SimpleCNN, self).__init__()\n",
        "        self.conv1 = nn.Conv2d(1, 32, kernel_size=3, stride=1, padding=1)\n",
        "        self.pool = nn.MaxPool2d(kernel_size=2, stride=2)\n",
        "        self.conv2 = nn.Conv2d(32, 64, kernel_size=3, stride=1, padding=1)\n",
        "        self.fc1 = nn.Linear(64 * 7 * 7, 128)\n",
        "        self.fc2 = nn.Linear(128, 10)\n",
        "\n",
        "    def forward(self, x):\n",
        "        x = self.pool(F.relu(self.conv1(x)))\n",
        "        x = self.pool(F.relu(self.conv2(x)))\n",
        "        x = x.view(-1, 64 * 7 * 7)\n",
        "        x = F.relu(self.fc1(x))\n",
        "        x = self.fc2(x)\n",
        "        return x\n",
        "# Create a CNN model\n",
        "cnn_model = SimpleCNN()\n",
        "print(\"\\nConvolutional Neural Network:\")\n",
        "print(cnn_model)"
      ]
    },
    {
      "cell_type": "markdown",
      "metadata": {
        "id": "5_LJFSCL8ff8"
      },
      "source": [
        "## 7. Training a CNN on MNIST\n"
      ]
    },
    {
      "cell_type": "code",
      "execution_count": null,
      "metadata": {
        "id": "R_P3XuAP8ff8",
        "colab": {
          "base_uri": "https://localhost:8080/"
        },
        "outputId": "3caca984-c28f-4346-a10d-80b6d82a2fa8"
      },
      "outputs": [
        {
          "output_type": "stream",
          "name": "stdout",
          "text": [
            "\n",
            "Training CNN on MNIST:\n",
            "Epoch 1, Batch 100, Loss: 0.726, Accuracy: 78.55%\n",
            "Epoch 1, Batch 200, Loss: 0.195, Accuracy: 86.43%\n",
            "Epoch 1, Batch 300, Loss: 0.135, Accuracy: 89.46%\n",
            "Epoch 1, Batch 400, Loss: 0.095, Accuracy: 91.40%\n",
            "Epoch 1, Batch 500, Loss: 0.090, Accuracy: 92.58%\n",
            "Epoch 1, Batch 600, Loss: 0.085, Accuracy: 93.41%\n",
            "Epoch 1, Batch 700, Loss: 0.073, Accuracy: 94.05%\n",
            "Epoch 1, Batch 800, Loss: 0.072, Accuracy: 94.52%\n",
            "Epoch 1, Batch 900, Loss: 0.066, Accuracy: 94.91%\n",
            "Epoch 1 completed\n",
            "Epoch 2, Batch 100, Loss: 0.054, Accuracy: 98.34%\n",
            "Epoch 2, Batch 200, Loss: 0.052, Accuracy: 98.35%\n",
            "Epoch 2, Batch 300, Loss: 0.054, Accuracy: 98.40%\n",
            "Epoch 2, Batch 400, Loss: 0.047, Accuracy: 98.42%\n",
            "Epoch 2, Batch 500, Loss: 0.047, Accuracy: 98.45%\n",
            "Epoch 2, Batch 600, Loss: 0.054, Accuracy: 98.43%\n",
            "Epoch 2, Batch 700, Loss: 0.037, Accuracy: 98.48%\n",
            "Epoch 2, Batch 800, Loss: 0.044, Accuracy: 98.50%\n",
            "Epoch 2, Batch 900, Loss: 0.044, Accuracy: 98.52%\n",
            "Epoch 2 completed\n"
          ]
        }
      ],
      "source": [
        "# Move model to device (GPU if available)\n",
        "cnn_model = cnn_model.to(device)\n",
        "# Define loss function and optimizer\n",
        "criterion = nn.CrossEntropyLoss()\n",
        "optimizer = optim.Adam(cnn_model.parameters(), lr=0.001)\n",
        "# Train function\n",
        "def train_model(model, loader, criterion, optimizer, num_epochs=2):\n",
        "    print(\"\\nTraining CNN on MNIST:\")\n",
        "    model.train()\n",
        "    for epoch in range(num_epochs):\n",
        "        running_loss = 0.0\n",
        "        correct = 0\n",
        "        total = 0\n",
        "\n",
        "        for i, (images, labels) in enumerate(loader):\n",
        "            images, labels = images.to(device), labels.to(device)\n",
        "\n",
        "            # Zero the parameter gradients\n",
        "            optimizer.zero_grad()\n",
        "\n",
        "            # Forward pass\n",
        "            outputs = model(images)\n",
        "            loss = criterion(outputs, labels)\n",
        "\n",
        "            # Backward and optimize\n",
        "            loss.backward()\n",
        "            optimizer.step()\n",
        "\n",
        "            # Track statistics\n",
        "            running_loss += loss.item()\n",
        "            _, predicted = torch.max(outputs.data, 1)\n",
        "            total += labels.size(0)\n",
        "            correct += (predicted == labels).sum().item()\n",
        "\n",
        "            # Print statistics every 100 mini-batches\n",
        "            if i % 100 == 99:\n",
        "                print(f\"Epoch {epoch+1}, Batch {i+1}, Loss: {running_loss/100:.3f}, \"\n",
        "                      f\"Accuracy: {100 * correct / total:.2f}%\")\n",
        "                running_loss = 0.0\n",
        "\n",
        "        print(f\"Epoch {epoch+1} completed\")\n",
        "\n",
        "# Comment out the following line to skip training\n",
        "train_model(cnn_model, trainloader, criterion, optimizer, num_epochs=2)"
      ]
    },
    {
      "cell_type": "markdown",
      "metadata": {
        "id": "0oV1TpW08ff8"
      },
      "source": [
        "## 8. Evaluating the Model\n"
      ]
    },
    {
      "cell_type": "code",
      "execution_count": null,
      "metadata": {
        "id": "bvF4iZcD8ff8",
        "colab": {
          "base_uri": "https://localhost:8080/"
        },
        "outputId": "6c180627-5952-4cca-8d56-af6f97f03eb5"
      },
      "outputs": [
        {
          "output_type": "stream",
          "name": "stdout",
          "text": [
            "\n",
            "Test Accuracy: 98.84%\n"
          ]
        }
      ],
      "source": [
        "def evaluate_model(model, loader):\n",
        "    model.eval()\n",
        "    correct = 0\n",
        "    total = 0\n",
        "\n",
        "    with torch.no_grad():  # Disable gradient computation\n",
        "        for images, labels in loader:\n",
        "            images, labels = images.to(device), labels.to(device)\n",
        "            outputs = model(images)\n",
        "            _, predicted = torch.max(outputs.data, 1)\n",
        "            total += labels.size(0)\n",
        "            correct += (predicted == labels).sum().item()\n",
        "\n",
        "    print(f\"\\nTest Accuracy: {100 * correct / total:.2f}%\")\n",
        "\n",
        "# Comment out the following line to skip evaluation\n",
        "evaluate_model(cnn_model, testloader)"
      ]
    },
    {
      "cell_type": "markdown",
      "metadata": {
        "id": "72ECRgn38ff8"
      },
      "source": [
        "## 9. Saving and Loading Models\n"
      ]
    },
    {
      "cell_type": "code",
      "execution_count": null,
      "metadata": {
        "id": "hsvdjihZ8ff8",
        "colab": {
          "base_uri": "https://localhost:8080/"
        },
        "outputId": "39d6495e-dea4-408d-94cb-f179fb6282f7"
      },
      "outputs": [
        {
          "output_type": "stream",
          "name": "stdout",
          "text": [
            "\n",
            "Model saved to mnist_cnn.pth\n",
            "Model loaded successfully\n"
          ]
        }
      ],
      "source": [
        "# Save model\n",
        "model_path = \"mnist_cnn.pth\"\n",
        "torch.save(cnn_model.state_dict(), model_path)\n",
        "print(f\"\\nModel saved to {model_path}\")\n",
        "# Load model\n",
        "new_model = SimpleCNN()\n",
        "new_model.load_state_dict(torch.load(model_path))\n",
        "new_model.to(device)\n",
        "print(\"Model loaded successfully\")"
      ]
    },
    {
      "cell_type": "markdown",
      "metadata": {
        "id": "gY2H7dRw8ff8"
      },
      "source": [
        "## 10. Transfer Learning\n"
      ]
    },
    {
      "cell_type": "code",
      "execution_count": null,
      "metadata": {
        "id": "bO7EeePS8ff8",
        "colab": {
          "base_uri": "https://localhost:8080/"
        },
        "outputId": "184a7372-3d8a-4a1c-af51-cc2f64cf7f11"
      },
      "outputs": [
        {
          "output_type": "stream",
          "name": "stderr",
          "text": [
            "/usr/local/lib/python3.11/dist-packages/torchvision/models/_utils.py:208: UserWarning: The parameter 'pretrained' is deprecated since 0.13 and may be removed in the future, please use 'weights' instead.\n",
            "  warnings.warn(\n",
            "/usr/local/lib/python3.11/dist-packages/torchvision/models/_utils.py:223: UserWarning: Arguments other than a weight enum or `None` for 'weights' are deprecated since 0.13 and may be removed in the future. The current behavior is equivalent to passing `weights=ResNet18_Weights.IMAGENET1K_V1`. You can also use `weights=ResNet18_Weights.DEFAULT` to get the most up-to-date weights.\n",
            "  warnings.warn(msg)\n",
            "Downloading: \"https://download.pytorch.org/models/resnet18-f37072fd.pth\" to /root/.cache/torch/hub/checkpoints/resnet18-f37072fd.pth\n",
            "100%|██████████| 44.7M/44.7M [00:00<00:00, 168MB/s]\n"
          ]
        },
        {
          "output_type": "stream",
          "name": "stdout",
          "text": [
            "\n",
            "Transfer Learning Model:\n",
            "Using ResNet18 with modified input layer and output layer\n"
          ]
        }
      ],
      "source": [
        "# Define a new model based on a pre-trained network\n",
        "class TransferModel(nn.Module):\n",
        "    def __init__(self, num_classes=10):\n",
        "        super(TransferModel, self).__init__()\n",
        "        # Use a pre-trained ResNet18 model\n",
        "        self.resnet = torchvision.models.resnet18(pretrained=True)\n",
        "\n",
        "        # Replace the last fully connected layer\n",
        "        num_features = self.resnet.fc.in_features\n",
        "        self.resnet.fc = nn.Linear(num_features, num_classes)\n",
        "\n",
        "        # Modify the first convolution layer to accept grayscale input\n",
        "        self.resnet.conv1 = nn.Conv2d(1, 64, kernel_size=7, stride=2, padding=3, bias=False)\n",
        "\n",
        "    def forward(self, x):\n",
        "        return self.resnet(x)\n",
        "# Create transfer learning model\n",
        "transfer_model = TransferModel()\n",
        "print(\"\\nTransfer Learning Model:\")\n",
        "print(f\"Using ResNet18 with modified input layer and output layer\")"
      ]
    },
    {
      "cell_type": "markdown",
      "metadata": {
        "id": "gjby964Q8ff8"
      },
      "source": [
        "## 11. Advanced Techniques: Learning Rate Scheduler\n"
      ]
    },
    {
      "cell_type": "code",
      "execution_count": null,
      "metadata": {
        "id": "rlrCrzvt8ff8",
        "colab": {
          "base_uri": "https://localhost:8080/"
        },
        "outputId": "af177128-9876-4e14-bfb3-8aeb16f2d35f"
      },
      "outputs": [
        {
          "output_type": "stream",
          "name": "stdout",
          "text": [
            "\n",
            "Learning rate scheduler:\n",
            "Initial learning rate: 0.01\n",
            "Epoch 0: Learning rate = 0.01\n",
            "Epoch 3: Learning rate = 0.01\n",
            "Epoch 6: Learning rate = 0.001\n",
            "Epoch 9: Learning rate = 0.001\n",
            "Epoch 12: Learning rate = 0.001\n"
          ]
        },
        {
          "output_type": "stream",
          "name": "stderr",
          "text": [
            "/usr/local/lib/python3.11/dist-packages/torch/optim/lr_scheduler.py:227: UserWarning: Detected call of `lr_scheduler.step()` before `optimizer.step()`. In PyTorch 1.1.0 and later, you should call them in the opposite order: `optimizer.step()` before `lr_scheduler.step()`.  Failure to do this will result in PyTorch skipping the first value of the learning rate schedule. See more details at https://pytorch.org/docs/stable/optim.html#how-to-adjust-learning-rate\n",
            "  warnings.warn(\n"
          ]
        }
      ],
      "source": [
        "# Define a learning rate scheduler\n",
        "optimizer = optim.SGD(transfer_model.parameters(), lr=0.01, momentum=0.9)\n",
        "scheduler = optim.lr_scheduler.StepLR(optimizer, step_size=7, gamma=0.1)\n",
        "\n",
        "print(\"\\nLearning rate scheduler:\")\n",
        "print(f\"Initial learning rate: {optimizer.param_groups[0]['lr']}\")\n",
        "# Simulate training for 15 epochs\n",
        "for epoch in range(15):\n",
        "    # Training code would go here\n",
        "\n",
        "    # Step the scheduler\n",
        "    scheduler.step()\n",
        "    if epoch % 3 == 0:\n",
        "        print(f\"Epoch {epoch}: Learning rate = {optimizer.param_groups[0]['lr']}\")"
      ]
    },
    {
      "cell_type": "markdown",
      "metadata": {
        "id": "rjgursQr8ff8"
      },
      "source": [
        "## 12. Custom Datasets\n"
      ]
    },
    {
      "cell_type": "code",
      "execution_count": null,
      "metadata": {
        "id": "uy4FsMNA8ff8",
        "colab": {
          "base_uri": "https://localhost:8080/"
        },
        "outputId": "978af2d0-528f-4440-aad3-26dcb0002b09"
      },
      "outputs": [
        {
          "output_type": "stream",
          "name": "stdout",
          "text": [
            "\n",
            "Custom Dataset:\n",
            "Dataset size: 100\n",
            "Batch size: torch.Size([10, 1, 28, 28])\n"
          ]
        }
      ],
      "source": [
        "# Define a custom dataset\n",
        "class CustomDataset(torch.utils.data.Dataset):\n",
        "    def __init__(self, data, labels, transform=None):\n",
        "        self.data = data\n",
        "        self.labels = labels\n",
        "        self.transform = transform\n",
        "\n",
        "    def __len__(self):\n",
        "        return len(self.data)\n",
        "\n",
        "    def __getitem__(self, idx):\n",
        "        sample = self.data[idx]\n",
        "        if self.transform:\n",
        "            sample = self.transform(sample)\n",
        "        return sample, self.labels[idx]\n",
        "# Create a simple custom dataset\n",
        "data = torch.randn(100, 1, 28, 28)  # 100 grayscale images of size 28x28\n",
        "labels = torch.randint(0, 10, (100,))  # Random labels between 0 and 9\n",
        "\n",
        "custom_dataset = CustomDataset(data, labels)\n",
        "custom_loader = torch.utils.data.DataLoader(custom_dataset, batch_size=10, shuffle=True)\n",
        "\n",
        "print(\"\\nCustom Dataset:\")\n",
        "print(f\"Dataset size: {len(custom_dataset)}\")\n",
        "print(f\"Batch size: {next(iter(custom_loader))[0].shape}\")"
      ]
    },
    {
      "cell_type": "markdown",
      "metadata": {
        "id": "PqKstJVm8ff9"
      },
      "source": [
        "----------------------------------------------\n",
        "\n",
        "$$ Wish \\space you \\space all \\space the \\space best \\space ♡ $$\n",
        "$$ Mahmoud \\space Shawqi $$"
      ]
    }
  ],
  "metadata": {
    "kernelspec": {
      "display_name": "Python 3",
      "name": "python3"
    },
    "language_info": {
      "name": "python",
      "version": "3.10.15"
    },
    "colab": {
      "provenance": [],
      "gpuType": "T4",
      "include_colab_link": true
    },
    "accelerator": "GPU"
  },
  "nbformat": 4,
  "nbformat_minor": 0
}