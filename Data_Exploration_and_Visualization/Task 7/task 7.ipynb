{
 "cells": [
  {
   "cell_type": "code",
   "execution_count": 1,
   "metadata": {},
   "outputs": [],
   "source": [
    "import pandas as pd\n",
    "import matplotlib.pyplot as plt\n",
    "import seaborn as sns\n",
    "import numpy as np"
   ]
  },
  {
   "cell_type": "code",
   "execution_count": 2,
   "metadata": {},
   "outputs": [
    {
     "data": {
      "application/vnd.microsoft.datawrangler.viewer.v0+json": {
       "columns": [
        {
         "name": "index",
         "rawType": "int64",
         "type": "integer"
        },
        {
         "name": "country",
         "rawType": "object",
         "type": "string"
        },
        {
         "name": "1800",
         "rawType": "object",
         "type": "unknown"
        },
        {
         "name": "1801",
         "rawType": "object",
         "type": "unknown"
        },
        {
         "name": "1802",
         "rawType": "object",
         "type": "unknown"
        },
        {
         "name": "1803",
         "rawType": "object",
         "type": "unknown"
        },
        {
         "name": "1804",
         "rawType": "object",
         "type": "unknown"
        },
        {
         "name": "1805",
         "rawType": "object",
         "type": "unknown"
        },
        {
         "name": "1806",
         "rawType": "object",
         "type": "unknown"
        },
        {
         "name": "1807",
         "rawType": "object",
         "type": "unknown"
        },
        {
         "name": "1808",
         "rawType": "object",
         "type": "unknown"
        },
        {
         "name": "1809",
         "rawType": "object",
         "type": "unknown"
        },
        {
         "name": "1810",
         "rawType": "object",
         "type": "unknown"
        },
        {
         "name": "1811",
         "rawType": "object",
         "type": "unknown"
        },
        {
         "name": "1812",
         "rawType": "object",
         "type": "unknown"
        },
        {
         "name": "1813",
         "rawType": "object",
         "type": "unknown"
        },
        {
         "name": "1814",
         "rawType": "object",
         "type": "unknown"
        },
        {
         "name": "1815",
         "rawType": "object",
         "type": "unknown"
        },
        {
         "name": "1816",
         "rawType": "object",
         "type": "unknown"
        },
        {
         "name": "1817",
         "rawType": "object",
         "type": "unknown"
        },
        {
         "name": "1818",
         "rawType": "object",
         "type": "unknown"
        },
        {
         "name": "1819",
         "rawType": "object",
         "type": "unknown"
        },
        {
         "name": "1820",
         "rawType": "object",
         "type": "unknown"
        },
        {
         "name": "1821",
         "rawType": "object",
         "type": "unknown"
        },
        {
         "name": "1822",
         "rawType": "object",
         "type": "unknown"
        },
        {
         "name": "1823",
         "rawType": "object",
         "type": "unknown"
        },
        {
         "name": "1824",
         "rawType": "object",
         "type": "unknown"
        },
        {
         "name": "1825",
         "rawType": "object",
         "type": "unknown"
        },
        {
         "name": "1826",
         "rawType": "object",
         "type": "unknown"
        },
        {
         "name": "1827",
         "rawType": "object",
         "type": "unknown"
        },
        {
         "name": "1828",
         "rawType": "object",
         "type": "unknown"
        },
        {
         "name": "1829",
         "rawType": "object",
         "type": "unknown"
        },
        {
         "name": "1830",
         "rawType": "object",
         "type": "unknown"
        },
        {
         "name": "1831",
         "rawType": "object",
         "type": "unknown"
        },
        {
         "name": "1832",
         "rawType": "object",
         "type": "unknown"
        },
        {
         "name": "1833",
         "rawType": "object",
         "type": "unknown"
        },
        {
         "name": "1834",
         "rawType": "object",
         "type": "unknown"
        },
        {
         "name": "1835",
         "rawType": "object",
         "type": "unknown"
        },
        {
         "name": "1836",
         "rawType": "object",
         "type": "unknown"
        },
        {
         "name": "1837",
         "rawType": "object",
         "type": "unknown"
        },
        {
         "name": "1838",
         "rawType": "object",
         "type": "unknown"
        },
        {
         "name": "1839",
         "rawType": "object",
         "type": "unknown"
        },
        {
         "name": "1840",
         "rawType": "object",
         "type": "unknown"
        },
        {
         "name": "1841",
         "rawType": "object",
         "type": "unknown"
        },
        {
         "name": "1842",
         "rawType": "object",
         "type": "unknown"
        },
        {
         "name": "1843",
         "rawType": "object",
         "type": "unknown"
        },
        {
         "name": "1844",
         "rawType": "object",
         "type": "unknown"
        },
        {
         "name": "1845",
         "rawType": "object",
         "type": "unknown"
        },
        {
         "name": "1846",
         "rawType": "object",
         "type": "unknown"
        },
        {
         "name": "1847",
         "rawType": "object",
         "type": "unknown"
        },
        {
         "name": "1848",
         "rawType": "object",
         "type": "unknown"
        },
        {
         "name": "1849",
         "rawType": "object",
         "type": "unknown"
        },
        {
         "name": "1850",
         "rawType": "object",
         "type": "unknown"
        },
        {
         "name": "1851",
         "rawType": "object",
         "type": "unknown"
        },
        {
         "name": "1852",
         "rawType": "object",
         "type": "unknown"
        },
        {
         "name": "1853",
         "rawType": "object",
         "type": "unknown"
        },
        {
         "name": "1854",
         "rawType": "object",
         "type": "unknown"
        },
        {
         "name": "1855",
         "rawType": "object",
         "type": "unknown"
        },
        {
         "name": "1856",
         "rawType": "object",
         "type": "unknown"
        },
        {
         "name": "1857",
         "rawType": "object",
         "type": "unknown"
        },
        {
         "name": "1858",
         "rawType": "object",
         "type": "unknown"
        },
        {
         "name": "1859",
         "rawType": "object",
         "type": "unknown"
        },
        {
         "name": "1860",
         "rawType": "object",
         "type": "unknown"
        },
        {
         "name": "1861",
         "rawType": "object",
         "type": "unknown"
        },
        {
         "name": "1862",
         "rawType": "object",
         "type": "unknown"
        },
        {
         "name": "1863",
         "rawType": "object",
         "type": "unknown"
        },
        {
         "name": "1864",
         "rawType": "object",
         "type": "unknown"
        },
        {
         "name": "1865",
         "rawType": "object",
         "type": "unknown"
        },
        {
         "name": "1866",
         "rawType": "object",
         "type": "unknown"
        },
        {
         "name": "1867",
         "rawType": "object",
         "type": "unknown"
        },
        {
         "name": "1868",
         "rawType": "object",
         "type": "unknown"
        },
        {
         "name": "1869",
         "rawType": "object",
         "type": "unknown"
        },
        {
         "name": "1870",
         "rawType": "object",
         "type": "unknown"
        },
        {
         "name": "1871",
         "rawType": "object",
         "type": "unknown"
        },
        {
         "name": "1872",
         "rawType": "object",
         "type": "unknown"
        },
        {
         "name": "1873",
         "rawType": "object",
         "type": "unknown"
        },
        {
         "name": "1874",
         "rawType": "object",
         "type": "unknown"
        },
        {
         "name": "1875",
         "rawType": "object",
         "type": "unknown"
        },
        {
         "name": "1876",
         "rawType": "object",
         "type": "unknown"
        },
        {
         "name": "1877",
         "rawType": "object",
         "type": "unknown"
        },
        {
         "name": "1878",
         "rawType": "object",
         "type": "unknown"
        },
        {
         "name": "1879",
         "rawType": "object",
         "type": "unknown"
        },
        {
         "name": "1880",
         "rawType": "object",
         "type": "unknown"
        },
        {
         "name": "1881",
         "rawType": "object",
         "type": "unknown"
        },
        {
         "name": "1882",
         "rawType": "object",
         "type": "unknown"
        },
        {
         "name": "1883",
         "rawType": "object",
         "type": "unknown"
        },
        {
         "name": "1884",
         "rawType": "object",
         "type": "unknown"
        },
        {
         "name": "1885",
         "rawType": "object",
         "type": "unknown"
        },
        {
         "name": "1886",
         "rawType": "object",
         "type": "unknown"
        },
        {
         "name": "1887",
         "rawType": "object",
         "type": "unknown"
        },
        {
         "name": "1888",
         "rawType": "object",
         "type": "unknown"
        },
        {
         "name": "1889",
         "rawType": "object",
         "type": "unknown"
        },
        {
         "name": "1890",
         "rawType": "object",
         "type": "unknown"
        },
        {
         "name": "1891",
         "rawType": "object",
         "type": "unknown"
        },
        {
         "name": "1892",
         "rawType": "object",
         "type": "unknown"
        },
        {
         "name": "1893",
         "rawType": "object",
         "type": "unknown"
        },
        {
         "name": "1894",
         "rawType": "object",
         "type": "unknown"
        },
        {
         "name": "1895",
         "rawType": "object",
         "type": "unknown"
        },
        {
         "name": "1896",
         "rawType": "object",
         "type": "unknown"
        },
        {
         "name": "1897",
         "rawType": "object",
         "type": "unknown"
        },
        {
         "name": "1898",
         "rawType": "object",
         "type": "unknown"
        },
        {
         "name": "1899",
         "rawType": "object",
         "type": "unknown"
        },
        {
         "name": "1900",
         "rawType": "object",
         "type": "unknown"
        },
        {
         "name": "1901",
         "rawType": "object",
         "type": "unknown"
        },
        {
         "name": "1902",
         "rawType": "object",
         "type": "unknown"
        },
        {
         "name": "1903",
         "rawType": "object",
         "type": "unknown"
        },
        {
         "name": "1904",
         "rawType": "object",
         "type": "unknown"
        },
        {
         "name": "1905",
         "rawType": "object",
         "type": "unknown"
        },
        {
         "name": "1906",
         "rawType": "object",
         "type": "unknown"
        },
        {
         "name": "1907",
         "rawType": "object",
         "type": "unknown"
        },
        {
         "name": "1908",
         "rawType": "object",
         "type": "unknown"
        },
        {
         "name": "1909",
         "rawType": "object",
         "type": "unknown"
        },
        {
         "name": "1910",
         "rawType": "object",
         "type": "unknown"
        },
        {
         "name": "1911",
         "rawType": "object",
         "type": "unknown"
        },
        {
         "name": "1912",
         "rawType": "object",
         "type": "unknown"
        },
        {
         "name": "1913",
         "rawType": "object",
         "type": "unknown"
        },
        {
         "name": "1914",
         "rawType": "object",
         "type": "unknown"
        },
        {
         "name": "1915",
         "rawType": "object",
         "type": "unknown"
        },
        {
         "name": "1916",
         "rawType": "object",
         "type": "unknown"
        },
        {
         "name": "1917",
         "rawType": "object",
         "type": "unknown"
        },
        {
         "name": "1918",
         "rawType": "object",
         "type": "unknown"
        },
        {
         "name": "1919",
         "rawType": "object",
         "type": "unknown"
        },
        {
         "name": "1920",
         "rawType": "object",
         "type": "unknown"
        },
        {
         "name": "1921",
         "rawType": "object",
         "type": "unknown"
        },
        {
         "name": "1922",
         "rawType": "object",
         "type": "unknown"
        },
        {
         "name": "1923",
         "rawType": "object",
         "type": "unknown"
        },
        {
         "name": "1924",
         "rawType": "object",
         "type": "unknown"
        },
        {
         "name": "1925",
         "rawType": "object",
         "type": "unknown"
        },
        {
         "name": "1926",
         "rawType": "object",
         "type": "unknown"
        },
        {
         "name": "1927",
         "rawType": "object",
         "type": "unknown"
        },
        {
         "name": "1928",
         "rawType": "object",
         "type": "unknown"
        },
        {
         "name": "1929",
         "rawType": "object",
         "type": "unknown"
        },
        {
         "name": "1930",
         "rawType": "object",
         "type": "unknown"
        },
        {
         "name": "1931",
         "rawType": "object",
         "type": "unknown"
        },
        {
         "name": "1932",
         "rawType": "object",
         "type": "unknown"
        },
        {
         "name": "1933",
         "rawType": "object",
         "type": "unknown"
        },
        {
         "name": "1934",
         "rawType": "object",
         "type": "unknown"
        },
        {
         "name": "1935",
         "rawType": "object",
         "type": "unknown"
        },
        {
         "name": "1936",
         "rawType": "object",
         "type": "unknown"
        },
        {
         "name": "1937",
         "rawType": "object",
         "type": "unknown"
        },
        {
         "name": "1938",
         "rawType": "object",
         "type": "unknown"
        },
        {
         "name": "1939",
         "rawType": "object",
         "type": "unknown"
        },
        {
         "name": "1940",
         "rawType": "object",
         "type": "unknown"
        },
        {
         "name": "1941",
         "rawType": "object",
         "type": "unknown"
        },
        {
         "name": "1942",
         "rawType": "object",
         "type": "unknown"
        },
        {
         "name": "1943",
         "rawType": "object",
         "type": "unknown"
        },
        {
         "name": "1944",
         "rawType": "object",
         "type": "unknown"
        },
        {
         "name": "1945",
         "rawType": "object",
         "type": "unknown"
        },
        {
         "name": "1946",
         "rawType": "object",
         "type": "unknown"
        },
        {
         "name": "1947",
         "rawType": "object",
         "type": "unknown"
        },
        {
         "name": "1948",
         "rawType": "object",
         "type": "unknown"
        },
        {
         "name": "1949",
         "rawType": "object",
         "type": "unknown"
        },
        {
         "name": "1950",
         "rawType": "object",
         "type": "unknown"
        },
        {
         "name": "1951",
         "rawType": "object",
         "type": "unknown"
        },
        {
         "name": "1952",
         "rawType": "object",
         "type": "unknown"
        },
        {
         "name": "1953",
         "rawType": "object",
         "type": "unknown"
        },
        {
         "name": "1954",
         "rawType": "object",
         "type": "unknown"
        },
        {
         "name": "1955",
         "rawType": "object",
         "type": "unknown"
        },
        {
         "name": "1956",
         "rawType": "object",
         "type": "unknown"
        },
        {
         "name": "1957",
         "rawType": "object",
         "type": "string"
        },
        {
         "name": "1958",
         "rawType": "object",
         "type": "string"
        },
        {
         "name": "1959",
         "rawType": "object",
         "type": "string"
        },
        {
         "name": "1960",
         "rawType": "object",
         "type": "string"
        },
        {
         "name": "1961",
         "rawType": "object",
         "type": "string"
        },
        {
         "name": "1962",
         "rawType": "object",
         "type": "string"
        },
        {
         "name": "1963",
         "rawType": "object",
         "type": "string"
        },
        {
         "name": "1964",
         "rawType": "object",
         "type": "string"
        },
        {
         "name": "1965",
         "rawType": "object",
         "type": "string"
        },
        {
         "name": "1966",
         "rawType": "object",
         "type": "string"
        },
        {
         "name": "1967",
         "rawType": "object",
         "type": "string"
        },
        {
         "name": "1968",
         "rawType": "object",
         "type": "string"
        },
        {
         "name": "1969",
         "rawType": "object",
         "type": "string"
        },
        {
         "name": "1970",
         "rawType": "object",
         "type": "string"
        },
        {
         "name": "1971",
         "rawType": "object",
         "type": "string"
        },
        {
         "name": "1972",
         "rawType": "object",
         "type": "string"
        },
        {
         "name": "1973",
         "rawType": "object",
         "type": "string"
        },
        {
         "name": "1974",
         "rawType": "object",
         "type": "string"
        },
        {
         "name": "1975",
         "rawType": "object",
         "type": "string"
        },
        {
         "name": "1976",
         "rawType": "object",
         "type": "string"
        },
        {
         "name": "1977",
         "rawType": "object",
         "type": "string"
        },
        {
         "name": "1978",
         "rawType": "object",
         "type": "string"
        },
        {
         "name": "1979",
         "rawType": "object",
         "type": "string"
        },
        {
         "name": "1980",
         "rawType": "object",
         "type": "string"
        },
        {
         "name": "1981",
         "rawType": "object",
         "type": "string"
        },
        {
         "name": "1982",
         "rawType": "object",
         "type": "string"
        },
        {
         "name": "1983",
         "rawType": "object",
         "type": "string"
        },
        {
         "name": "1984",
         "rawType": "object",
         "type": "string"
        },
        {
         "name": "1985",
         "rawType": "object",
         "type": "string"
        },
        {
         "name": "1986",
         "rawType": "object",
         "type": "string"
        },
        {
         "name": "1987",
         "rawType": "object",
         "type": "string"
        },
        {
         "name": "1988",
         "rawType": "object",
         "type": "string"
        },
        {
         "name": "1989",
         "rawType": "object",
         "type": "string"
        },
        {
         "name": "1990",
         "rawType": "object",
         "type": "string"
        },
        {
         "name": "1991",
         "rawType": "object",
         "type": "string"
        },
        {
         "name": "1992",
         "rawType": "object",
         "type": "string"
        },
        {
         "name": "1993",
         "rawType": "object",
         "type": "string"
        },
        {
         "name": "1994",
         "rawType": "object",
         "type": "string"
        },
        {
         "name": "1995",
         "rawType": "object",
         "type": "string"
        },
        {
         "name": "1996",
         "rawType": "object",
         "type": "string"
        },
        {
         "name": "1997",
         "rawType": "object",
         "type": "string"
        },
        {
         "name": "1998",
         "rawType": "object",
         "type": "string"
        },
        {
         "name": "1999",
         "rawType": "object",
         "type": "string"
        },
        {
         "name": "2000",
         "rawType": "object",
         "type": "string"
        },
        {
         "name": "2001",
         "rawType": "object",
         "type": "string"
        },
        {
         "name": "2002",
         "rawType": "object",
         "type": "string"
        },
        {
         "name": "2003",
         "rawType": "object",
         "type": "string"
        },
        {
         "name": "2004",
         "rawType": "object",
         "type": "string"
        },
        {
         "name": "2005",
         "rawType": "object",
         "type": "string"
        },
        {
         "name": "2006",
         "rawType": "object",
         "type": "string"
        },
        {
         "name": "2007",
         "rawType": "object",
         "type": "string"
        },
        {
         "name": "2008",
         "rawType": "object",
         "type": "string"
        },
        {
         "name": "2009",
         "rawType": "object",
         "type": "string"
        },
        {
         "name": "2010",
         "rawType": "object",
         "type": "string"
        },
        {
         "name": "2011",
         "rawType": "object",
         "type": "string"
        },
        {
         "name": "2012",
         "rawType": "object",
         "type": "string"
        },
        {
         "name": "2013",
         "rawType": "object",
         "type": "string"
        },
        {
         "name": "2014",
         "rawType": "object",
         "type": "string"
        },
        {
         "name": "2015",
         "rawType": "object",
         "type": "string"
        },
        {
         "name": "2016",
         "rawType": "object",
         "type": "string"
        },
        {
         "name": "2017",
         "rawType": "object",
         "type": "string"
        },
        {
         "name": "2018",
         "rawType": "object",
         "type": "string"
        },
        {
         "name": "2019",
         "rawType": "object",
         "type": "string"
        },
        {
         "name": "2020",
         "rawType": "object",
         "type": "string"
        },
        {
         "name": "2021",
         "rawType": "object",
         "type": "string"
        },
        {
         "name": "2022",
         "rawType": "object",
         "type": "string"
        },
        {
         "name": "2023",
         "rawType": "object",
         "type": "string"
        },
        {
         "name": "2024",
         "rawType": "object",
         "type": "string"
        },
        {
         "name": "2025",
         "rawType": "object",
         "type": "string"
        },
        {
         "name": "2026",
         "rawType": "object",
         "type": "string"
        },
        {
         "name": "2027",
         "rawType": "object",
         "type": "string"
        },
        {
         "name": "2028",
         "rawType": "object",
         "type": "string"
        },
        {
         "name": "2029",
         "rawType": "object",
         "type": "string"
        },
        {
         "name": "2030",
         "rawType": "object",
         "type": "string"
        },
        {
         "name": "2031",
         "rawType": "object",
         "type": "string"
        },
        {
         "name": "2032",
         "rawType": "object",
         "type": "string"
        },
        {
         "name": "2033",
         "rawType": "object",
         "type": "string"
        },
        {
         "name": "2034",
         "rawType": "object",
         "type": "string"
        },
        {
         "name": "2035",
         "rawType": "object",
         "type": "string"
        },
        {
         "name": "2036",
         "rawType": "object",
         "type": "string"
        },
        {
         "name": "2037",
         "rawType": "object",
         "type": "string"
        },
        {
         "name": "2038",
         "rawType": "object",
         "type": "string"
        },
        {
         "name": "2039",
         "rawType": "object",
         "type": "string"
        },
        {
         "name": "2040",
         "rawType": "object",
         "type": "string"
        },
        {
         "name": "2041",
         "rawType": "object",
         "type": "string"
        },
        {
         "name": "2042",
         "rawType": "object",
         "type": "string"
        },
        {
         "name": "2043",
         "rawType": "object",
         "type": "string"
        },
        {
         "name": "2044",
         "rawType": "object",
         "type": "string"
        },
        {
         "name": "2045",
         "rawType": "object",
         "type": "string"
        },
        {
         "name": "2046",
         "rawType": "object",
         "type": "string"
        },
        {
         "name": "2047",
         "rawType": "object",
         "type": "string"
        },
        {
         "name": "2048",
         "rawType": "object",
         "type": "string"
        },
        {
         "name": "2049",
         "rawType": "object",
         "type": "string"
        },
        {
         "name": "2050",
         "rawType": "object",
         "type": "string"
        },
        {
         "name": "2051",
         "rawType": "object",
         "type": "string"
        },
        {
         "name": "2052",
         "rawType": "object",
         "type": "string"
        },
        {
         "name": "2053",
         "rawType": "object",
         "type": "string"
        },
        {
         "name": "2054",
         "rawType": "object",
         "type": "string"
        },
        {
         "name": "2055",
         "rawType": "object",
         "type": "string"
        },
        {
         "name": "2056",
         "rawType": "object",
         "type": "string"
        },
        {
         "name": "2057",
         "rawType": "object",
         "type": "string"
        },
        {
         "name": "2058",
         "rawType": "object",
         "type": "string"
        },
        {
         "name": "2059",
         "rawType": "object",
         "type": "string"
        },
        {
         "name": "2060",
         "rawType": "object",
         "type": "string"
        },
        {
         "name": "2061",
         "rawType": "object",
         "type": "string"
        },
        {
         "name": "2062",
         "rawType": "object",
         "type": "string"
        },
        {
         "name": "2063",
         "rawType": "object",
         "type": "string"
        },
        {
         "name": "2064",
         "rawType": "object",
         "type": "string"
        },
        {
         "name": "2065",
         "rawType": "object",
         "type": "string"
        },
        {
         "name": "2066",
         "rawType": "object",
         "type": "string"
        },
        {
         "name": "2067",
         "rawType": "object",
         "type": "string"
        },
        {
         "name": "2068",
         "rawType": "object",
         "type": "string"
        },
        {
         "name": "2069",
         "rawType": "object",
         "type": "string"
        },
        {
         "name": "2070",
         "rawType": "object",
         "type": "string"
        },
        {
         "name": "2071",
         "rawType": "object",
         "type": "string"
        },
        {
         "name": "2072",
         "rawType": "object",
         "type": "string"
        },
        {
         "name": "2073",
         "rawType": "object",
         "type": "string"
        },
        {
         "name": "2074",
         "rawType": "object",
         "type": "string"
        },
        {
         "name": "2075",
         "rawType": "object",
         "type": "string"
        },
        {
         "name": "2076",
         "rawType": "object",
         "type": "string"
        },
        {
         "name": "2077",
         "rawType": "object",
         "type": "string"
        },
        {
         "name": "2078",
         "rawType": "object",
         "type": "string"
        },
        {
         "name": "2079",
         "rawType": "object",
         "type": "string"
        },
        {
         "name": "2080",
         "rawType": "object",
         "type": "string"
        },
        {
         "name": "2081",
         "rawType": "object",
         "type": "string"
        },
        {
         "name": "2082",
         "rawType": "object",
         "type": "string"
        },
        {
         "name": "2083",
         "rawType": "object",
         "type": "string"
        },
        {
         "name": "2084",
         "rawType": "object",
         "type": "string"
        },
        {
         "name": "2085",
         "rawType": "object",
         "type": "string"
        },
        {
         "name": "2086",
         "rawType": "object",
         "type": "string"
        },
        {
         "name": "2087",
         "rawType": "object",
         "type": "string"
        },
        {
         "name": "2088",
         "rawType": "object",
         "type": "string"
        },
        {
         "name": "2089",
         "rawType": "object",
         "type": "string"
        },
        {
         "name": "2090",
         "rawType": "object",
         "type": "string"
        },
        {
         "name": "2091",
         "rawType": "object",
         "type": "string"
        },
        {
         "name": "2092",
         "rawType": "object",
         "type": "string"
        },
        {
         "name": "2093",
         "rawType": "object",
         "type": "string"
        },
        {
         "name": "2094",
         "rawType": "object",
         "type": "string"
        },
        {
         "name": "2095",
         "rawType": "object",
         "type": "string"
        },
        {
         "name": "2096",
         "rawType": "object",
         "type": "string"
        },
        {
         "name": "2097",
         "rawType": "object",
         "type": "string"
        },
        {
         "name": "2098",
         "rawType": "object",
         "type": "string"
        },
        {
         "name": "2099",
         "rawType": "object",
         "type": "string"
        },
        {
         "name": "2100",
         "rawType": "object",
         "type": "string"
        }
       ],
       "conversionMethod": "pd.DataFrame",
       "ref": "1c784088-08bb-4b44-97cd-8bb06db06d3e",
       "rows": [
        [
         "0",
         "Afghanistan",
         "3.28M",
         "3.28M",
         "3.28M",
         "3.28M",
         "3.28M",
         "3.28M",
         "3.28M",
         "3.28M",
         "3.28M",
         "3.28M",
         "3.28M",
         "3.28M",
         "3.28M",
         "3.28M",
         "3.28M",
         "3.28M",
         "3.28M",
         "3.28M",
         "3.28M",
         "3.28M",
         "3.29M",
         "3.3M",
         "3.31M",
         "3.32M",
         "3.34M",
         "3.35M",
         "3.37M",
         "3.38M",
         "3.4M",
         "3.41M",
         "3.43M",
         "3.45M",
         "3.46M",
         "3.48M",
         "3.49M",
         "3.51M",
         "3.52M",
         "3.54M",
         "3.55M",
         "3.57M",
         "3.59M",
         "3.6M",
         "3.62M",
         "3.63M",
         "3.65M",
         "3.67M",
         "3.68M",
         "3.7M",
         "3.72M",
         "3.73M",
         "3.75M",
         "3.77M",
         "3.79M",
         "3.81M",
         "3.83M",
         "3.84M",
         "3.86M",
         "3.88M",
         "3.9M",
         "3.92M",
         "3.94M",
         "3.96M",
         "3.98M",
         "4M",
         "4.02M",
         "4.04M",
         "4.06M",
         "4.08M",
         "4.1M",
         "4.12M",
         "4.14M",
         "4.16M",
         "4.18M",
         "4.21M",
         "4.23M",
         "4.25M",
         "4.27M",
         "4.29M",
         "4.31M",
         "4.33M",
         "4.35M",
         "4.38M",
         "4.4M",
         "4.42M",
         "4.44M",
         "4.46M",
         "4.49M",
         "4.51M",
         "4.53M",
         "4.55M",
         "4.58M",
         "4.6M",
         "4.62M",
         "4.65M",
         "4.67M",
         "4.69M",
         "4.71M",
         "4.74M",
         "4.76M",
         "4.79M",
         "4.83M",
         "4.88M",
         "4.94M",
         "5M",
         "5.06M",
         "5.13M",
         "5.2M",
         "5.26M",
         "5.33M",
         "5.47M",
         "5.68M",
         "5.98M",
         "6.36M",
         "6.85M",
         "7.37M",
         "7.92M",
         "8.52M",
         "9.17M",
         "9.88M",
         "10.3M",
         "10.6M",
         "10.5M",
         "10.3M",
         "9.71M",
         "9.2M",
         "8.72M",
         "8.26M",
         "7.83M",
         "7.42M",
         "7.1M",
         "6.87M",
         "6.72M",
         "6.64M",
         "6.64M",
         "6.64M",
         "6.64M",
         "6.64M",
         "6.64M",
         "6.64M",
         "6.66M",
         "6.7M",
         "6.77M",
         "6.85M",
         "6.95M",
         "7.06M",
         "7.17M",
         "7.28M",
         "7.39M",
         "7.5M",
         "7.62M",
         "7.75M",
         "7.84M",
         "7.94M",
         "8.04M",
         "8.15M",
         "8.27M",
         "8.4M",
         "8.54M",
         "8.68M",
         "8.83M",
         "9M",
         "9.17M",
         "9.35M",
         "9.54M",
         "9.74M",
         "9.96M",
         "10.2M",
         "10.4M",
         "10.6M",
         "10.9M",
         "11.2M",
         "11.5M",
         "11.8M",
         "12.1M",
         "12.4M",
         "12.7M",
         "12.9M",
         "13.2M",
         "13.3M",
         "13.4M",
         "13.4M",
         "13.2M",
         "12.9M",
         "12.5M",
         "12.2M",
         "11.9M",
         "11.7M",
         "11.6M",
         "11.6M",
         "11.9M",
         "12.4M",
         "13.3M",
         "14.5M",
         "15.8M",
         "17.1M",
         "18.1M",
         "18.9M",
         "19.4M",
         "19.7M",
         "20.2M",
         "20.8M",
         "21.6M",
         "22.6M",
         "23.7M",
         "24.7M",
         "25.7M",
         "26.4M",
         "27.1M",
         "27.7M",
         "28.4M",
         "29.2M",
         "30.1M",
         "31.2M",
         "32.3M",
         "33.4M",
         "34.4M",
         "35.4M",
         "36.3M",
         "37.2M",
         "38M",
         "38.9M",
         "39.8M",
         "40.8M",
         "41.7M",
         "42.6M",
         "43.5M",
         "44.4M",
         "45.4M",
         "46.3M",
         "47.2M",
         "48.1M",
         "49M",
         "49.9M",
         "50.8M",
         "51.7M",
         "52.6M",
         "53.5M",
         "54.3M",
         "55.2M",
         "56.1M",
         "56.9M",
         "57.7M",
         "58.6M",
         "59.4M",
         "60.2M",
         "61M",
         "61.7M",
         "62.5M",
         "63.2M",
         "64M",
         "64.7M",
         "65.4M",
         "66.1M",
         "66.7M",
         "67.4M",
         "68M",
         "68.6M",
         "69.2M",
         "69.8M",
         "70.3M",
         "70.8M",
         "71.4M",
         "71.8M",
         "72.3M",
         "72.8M",
         "73.2M",
         "73.6M",
         "74M",
         "74.3M",
         "74.7M",
         "75M",
         "75.3M",
         "75.5M",
         "75.8M",
         "76M",
         "76.2M",
         "76.4M",
         "76.5M",
         "76.7M",
         "76.8M",
         "76.9M",
         "76.9M",
         "77M",
         "77M",
         "77M",
         "77M",
         "77M",
         "76.9M",
         "76.9M",
         "76.8M",
         "76.7M",
         "76.6M",
         "76.4M",
         "76.3M",
         "76.1M",
         "76M",
         "75.8M",
         "75.6M",
         "75.4M",
         "75.2M",
         "74.9M"
        ],
        [
         "1",
         "Angola",
         "1.57M",
         "1.57M",
         "1.57M",
         "1.57M",
         "1.57M",
         "1.57M",
         "1.57M",
         "1.57M",
         "1.57M",
         "1.57M",
         "1.57M",
         "1.57M",
         "1.57M",
         "1.57M",
         "1.57M",
         "1.57M",
         "1.57M",
         "1.57M",
         "1.57M",
         "1.57M",
         "1.58M",
         "1.59M",
         "1.61M",
         "1.64M",
         "1.66M",
         "1.69M",
         "1.71M",
         "1.74M",
         "1.76M",
         "1.79M",
         "1.81M",
         "1.84M",
         "1.87M",
         "1.9M",
         "1.92M",
         "1.95M",
         "1.98M",
         "2.01M",
         "2.04M",
         "2.07M",
         "2.1M",
         "2.13M",
         "2.16M",
         "2.19M",
         "2.23M",
         "2.26M",
         "2.29M",
         "2.33M",
         "2.36M",
         "2.39M",
         "2.42M",
         "2.45M",
         "2.47M",
         "2.49M",
         "2.51M",
         "2.53M",
         "2.55M",
         "2.57M",
         "2.6M",
         "2.62M",
         "2.64M",
         "2.66M",
         "2.68M",
         "2.71M",
         "2.73M",
         "2.75M",
         "2.78M",
         "2.8M",
         "2.82M",
         "2.84M",
         "2.87M",
         "2.89M",
         "2.91M",
         "2.93M",
         "2.94M",
         "2.96M",
         "2.98M",
         "3M",
         "3.02M",
         "3.04M",
         "3.06M",
         "3.08M",
         "3.1M",
         "3.12M",
         "3.14M",
         "3.16M",
         "3.18M",
         "3.2M",
         "3.22M",
         "3.23M",
         "3.24M",
         "3.24M",
         "3.24M",
         "3.23M",
         "3.21M",
         "3.2M",
         "3.19M",
         "3.18M",
         "3.17M",
         "3.15M",
         "3.14M",
         "3.12M",
         "3.1M",
         "3.08M",
         "3.06M",
         "3.04M",
         "3.02M",
         "3M",
         "2.98M",
         "2.96M",
         "2.95M",
         "2.93M",
         "2.92M",
         "2.92M",
         "2.91M",
         "2.9M",
         "2.89M",
         "2.88M",
         "2.87M",
         "2.87M",
         "2.88M",
         "2.9M",
         "2.94M",
         "2.98M",
         "3.03M",
         "3.07M",
         "3.12M",
         "3.16M",
         "3.21M",
         "3.26M",
         "3.31M",
         "3.35M",
         "3.4M",
         "3.45M",
         "3.5M",
         "3.55M",
         "3.6M",
         "3.65M",
         "3.7M",
         "3.75M",
         "3.81M",
         "3.87M",
         "3.94M",
         "4.01M",
         "4.08M",
         "4.16M",
         "4.23M",
         "4.31M",
         "4.39M",
         "4.47M",
         "4.55M",
         "4.62M",
         "4.71M",
         "4.82M",
         "4.94M",
         "5.04M",
         "5.14M",
         "5.23M",
         "5.31M",
         "5.38M",
         "5.45M",
         "5.53M",
         "5.61M",
         "5.68M",
         "5.73M",
         "5.77M",
         "5.78M",
         "5.77M",
         "5.77M",
         "5.8M",
         "5.89M",
         "6.04M",
         "6.25M",
         "6.5M",
         "6.76M",
         "7.02M",
         "7.28M",
         "7.53M",
         "7.79M",
         "8.06M",
         "8.34M",
         "8.64M",
         "8.95M",
         "9.28M",
         "9.61M",
         "9.96M",
         "10.3M",
         "10.7M",
         "11.1M",
         "11.5M",
         "11.8M",
         "12.2M",
         "12.7M",
         "13.1M",
         "13.5M",
         "13.9M",
         "14.4M",
         "14.9M",
         "15.4M",
         "15.9M",
         "16.4M",
         "16.9M",
         "17.5M",
         "18.1M",
         "18.8M",
         "19.4M",
         "20.1M",
         "20.9M",
         "21.7M",
         "22.5M",
         "23.4M",
         "24.2M",
         "25.1M",
         "26M",
         "26.9M",
         "27.9M",
         "28.8M",
         "29.8M",
         "30.8M",
         "31.8M",
         "32.9M",
         "33.9M",
         "35M",
         "36.1M",
         "37.3M",
         "38.5M",
         "39.7M",
         "40.9M",
         "42.2M",
         "43.5M",
         "44.8M",
         "46.2M",
         "47.6M",
         "49M",
         "50.5M",
         "52M",
         "53.5M",
         "55M",
         "56.6M",
         "58.2M",
         "59.8M",
         "61.4M",
         "63.1M",
         "64.8M",
         "66.5M",
         "68.3M",
         "70.1M",
         "71.9M",
         "73.7M",
         "75.5M",
         "77.4M",
         "79.3M",
         "81.2M",
         "83.2M",
         "85.1M",
         "87.1M",
         "89.1M",
         "91.1M",
         "93.2M",
         "95.3M",
         "97.3M",
         "99.5M",
         "102M",
         "104M",
         "106M",
         "108M",
         "110M",
         "112M",
         "115M",
         "117M",
         "119M",
         "121M",
         "124M",
         "126M",
         "128M",
         "131M",
         "133M",
         "135M",
         "137M",
         "140M",
         "142M",
         "144M",
         "147M",
         "149M",
         "151M",
         "154M",
         "156M",
         "158M",
         "161M",
         "163M",
         "165M",
         "168M",
         "170M",
         "172M",
         "175M",
         "177M",
         "179M",
         "182M",
         "184M",
         "186M",
         "188M"
        ],
        [
         "2",
         "Albania",
         "400k",
         "402k",
         "404k",
         "405k",
         "407k",
         "409k",
         "411k",
         "413k",
         "414k",
         "416k",
         "418k",
         "420k",
         "422k",
         "424k",
         "426k",
         "427k",
         "429k",
         "431k",
         "433k",
         "435k",
         "437k",
         "439k",
         "441k",
         "443k",
         "445k",
         "447k",
         "449k",
         "451k",
         "453k",
         "455k",
         "457k",
         "459k",
         "461k",
         "463k",
         "465k",
         "467k",
         "470k",
         "472k",
         "474k",
         "476k",
         "478k",
         "480k",
         "482k",
         "485k",
         "487k",
         "489k",
         "491k",
         "493k",
         "496k",
         "498k",
         "501k",
         "505k",
         "510k",
         "515k",
         "520k",
         "525k",
         "530k",
         "535k",
         "540k",
         "545k",
         "551k",
         "556k",
         "561k",
         "567k",
         "572k",
         "578k",
         "584k",
         "589k",
         "595k",
         "601k",
         "606k",
         "612k",
         "618k",
         "624k",
         "630k",
         "636k",
         "642k",
         "648k",
         "655k",
         "661k",
         "667k",
         "674k",
         "680k",
         "687k",
         "693k",
         "700k",
         "707k",
         "714k",
         "720k",
         "727k",
         "735k",
         "742k",
         "749k",
         "757k",
         "764k",
         "772k",
         "780k",
         "788k",
         "795k",
         "803k",
         "811k",
         "819k",
         "826k",
         "834k",
         "842k",
         "849k",
         "857k",
         "865k",
         "873k",
         "881k",
         "888k",
         "895k",
         "901k",
         "907k",
         "913k",
         "919k",
         "926k",
         "932k",
         "938k",
         "944k",
         "949k",
         "955k",
         "960k",
         "965k",
         "970k",
         "975k",
         "980k",
         "985k",
         "990k",
         "997k",
         "1M",
         "1.01M",
         "1.02M",
         "1.03M",
         "1.04M",
         "1.05M",
         "1.06M",
         "1.08M",
         "1.09M",
         "1.1M",
         "1.11M",
         "1.12M",
         "1.14M",
         "1.15M",
         "1.16M",
         "1.18M",
         "1.19M",
         "1.21M",
         "1.22M",
         "1.24M",
         "1.26M",
         "1.29M",
         "1.32M",
         "1.35M",
         "1.38M",
         "1.42M",
         "1.46M",
         "1.5M",
         "1.54M",
         "1.59M",
         "1.64M",
         "1.69M",
         "1.74M",
         "1.79M",
         "1.84M",
         "1.9M",
         "1.95M",
         "2M",
         "2.05M",
         "2.1M",
         "2.15M",
         "2.2M",
         "2.25M",
         "2.31M",
         "2.36M",
         "2.41M",
         "2.46M",
         "2.52M",
         "2.57M",
         "2.63M",
         "2.68M",
         "2.74M",
         "2.79M",
         "2.84M",
         "2.9M",
         "2.97M",
         "3.04M",
         "3.12M",
         "3.2M",
         "3.26M",
         "3.29M",
         "3.28M",
         "3.25M",
         "3.2M",
         "3.15M",
         "3.11M",
         "3.1M",
         "3.1M",
         "3.11M",
         "3.12M",
         "3.13M",
         "3.13M",
         "3.13M",
         "3.12M",
         "3.1M",
         "3.09M",
         "3.06M",
         "3.03M",
         "3M",
         "2.97M",
         "2.95M",
         "2.93M",
         "2.91M",
         "2.9M",
         "2.9M",
         "2.89M",
         "2.89M",
         "2.88M",
         "2.88M",
         "2.88M",
         "2.88M",
         "2.87M",
         "2.87M",
         "2.86M",
         "2.85M",
         "2.84M",
         "2.83M",
         "2.82M",
         "2.81M",
         "2.8M",
         "2.79M",
         "2.77M",
         "2.76M",
         "2.75M",
         "2.74M",
         "2.72M",
         "2.71M",
         "2.69M",
         "2.67M",
         "2.65M",
         "2.63M",
         "2.62M",
         "2.6M",
         "2.58M",
         "2.55M",
         "2.53M",
         "2.51M",
         "2.49M",
         "2.47M",
         "2.45M",
         "2.42M",
         "2.4M",
         "2.38M",
         "2.36M",
         "2.33M",
         "2.31M",
         "2.29M",
         "2.26M",
         "2.24M",
         "2.21M",
         "2.19M",
         "2.17M",
         "2.14M",
         "2.12M",
         "2.09M",
         "2.07M",
         "2.04M",
         "2.02M",
         "1.99M",
         "1.97M",
         "1.94M",
         "1.92M",
         "1.89M",
         "1.86M",
         "1.83M",
         "1.81M",
         "1.78M",
         "1.75M",
         "1.72M",
         "1.69M",
         "1.66M",
         "1.63M",
         "1.6M",
         "1.57M",
         "1.54M",
         "1.51M",
         "1.48M",
         "1.45M",
         "1.42M",
         "1.39M",
         "1.36M",
         "1.33M",
         "1.3M",
         "1.27M",
         "1.25M",
         "1.22M",
         "1.19M",
         "1.17M",
         "1.14M",
         "1.11M",
         "1.09M"
        ],
        [
         "3",
         "Andorra",
         "2650",
         "2650",
         "2650",
         "2650",
         "2650",
         "2650",
         "2650",
         "2650",
         "2650",
         "2650",
         "2650",
         "2650",
         "2650",
         "2650",
         "2650",
         "2650",
         "2650",
         "2650",
         "2650",
         "2660",
         "2670",
         "2680",
         "2690",
         "2710",
         "2730",
         "2750",
         "2770",
         "2790",
         "2810",
         "2830",
         "2850",
         "2870",
         "2890",
         "2910",
         "2930",
         "2950",
         "2970",
         "2990",
         "3010",
         "3030",
         "3060",
         "3080",
         "3100",
         "3120",
         "3140",
         "3170",
         "3190",
         "3210",
         "3230",
         "3260",
         "3280",
         "3300",
         "3320",
         "3350",
         "3370",
         "3390",
         "3420",
         "3440",
         "3460",
         "3490",
         "3510",
         "3540",
         "3560",
         "3590",
         "3610",
         "3640",
         "3660",
         "3690",
         "3710",
         "3740",
         "3760",
         "3790",
         "3820",
         "3840",
         "3870",
         "3900",
         "3920",
         "3950",
         "3980",
         "4010",
         "4030",
         "4060",
         "4090",
         "4120",
         "4150",
         "4170",
         "4200",
         "4230",
         "4260",
         "4290",
         "4320",
         "4350",
         "4380",
         "4410",
         "4440",
         "4470",
         "4500",
         "4540",
         "4570",
         "4600",
         "4630",
         "4660",
         "4690",
         "4730",
         "4760",
         "4790",
         "4830",
         "4860",
         "4890",
         "4940",
         "4990",
         "5060",
         "5150",
         "5240",
         "5330",
         "5430",
         "5530",
         "5630",
         "5740",
         "5800",
         "5820",
         "5800",
         "5740",
         "5630",
         "5530",
         "5430",
         "5330",
         "5240",
         "5140",
         "5080",
         "5040",
         "5040",
         "5060",
         "5120",
         "5170",
         "5230",
         "5280",
         "5340",
         "5390",
         "5450",
         "5510",
         "5570",
         "5630",
         "5690",
         "5750",
         "5810",
         "5870",
         "5930",
         "5990",
         "6080",
         "6200",
         "6690",
         "7250",
         "7860",
         "8530",
         "9230",
         "9980",
         "10.8k",
         "11.6k",
         "12.5k",
         "13.4k",
         "14.4k",
         "15.4k",
         "16.4k",
         "17.5k",
         "18.5k",
         "19.6k",
         "20.8k",
         "21.9k",
         "23.1k",
         "24.3k",
         "25.6k",
         "26.9k",
         "28.2k",
         "29.5k",
         "30.7k",
         "31.8k",
         "32.8k",
         "33.7k",
         "34.8k",
         "36.1k",
         "37.5k",
         "39.1k",
         "40.9k",
         "42.7k",
         "44.6k",
         "46.5k",
         "48.5k",
         "50.4k",
         "52.5k",
         "54.5k",
         "56.7k",
         "58.9k",
         "61k",
         "62.7k",
         "63.9k",
         "64.4k",
         "64.3k",
         "64.1k",
         "64.4k",
         "65.4k",
         "67.3k",
         "70k",
         "73.2k",
         "76.3k",
         "78.9k",
         "81k",
         "82.7k",
         "83.9k",
         "84.5k",
         "84.5k",
         "83.7k",
         "82.4k",
         "80.8k",
         "79.2k",
         "78k",
         "77.3k",
         "77k",
         "77k",
         "77.1k",
         "77.3k",
         "77.4k",
         "77.5k",
         "77.6k",
         "77.7k",
         "77.8k",
         "77.9k",
         "77.9k",
         "77.9k",
         "77.9k",
         "77.9k",
         "77.9k",
         "78k",
         "78k",
         "78k",
         "78k",
         "78k",
         "78k",
         "77.9k",
         "77.9k",
         "77.9k",
         "77.8k",
         "77.7k",
         "77.6k",
         "77.5k",
         "77.3k",
         "77.1k",
         "76.9k",
         "76.7k",
         "76.4k",
         "76.1k",
         "75.8k",
         "75.4k",
         "75k",
         "74.6k",
         "74.2k",
         "73.8k",
         "73.3k",
         "72.8k",
         "72.3k",
         "71.8k",
         "71.3k",
         "70.8k",
         "70.2k",
         "69.7k",
         "69.2k",
         "68.7k",
         "68.3k",
         "67.8k",
         "67.4k",
         "66.9k",
         "66.5k",
         "66.2k",
         "65.8k",
         "65.5k",
         "65.2k",
         "64.9k",
         "64.6k",
         "64.4k",
         "64.2k",
         "64k",
         "63.9k",
         "63.7k",
         "63.6k",
         "63.5k",
         "63.4k",
         "63.3k",
         "63.3k",
         "63.2k",
         "63.1k",
         "63.1k",
         "63k",
         "62.9k",
         "62.9k",
         "62.8k",
         "62.7k",
         "62.7k",
         "62.6k",
         "62.5k",
         "62.5k",
         "62.4k"
        ],
        [
         "4",
         "United Arab Emirates",
         "40.2k",
         "40.2k",
         "40.2k",
         "40.2k",
         "40.2k",
         "40.2k",
         "40.2k",
         "40.2k",
         "40.2k",
         "40.2k",
         "40.2k",
         "40.2k",
         "40.2k",
         "40.2k",
         "40.2k",
         "40.2k",
         "40.2k",
         "40.2k",
         "40.2k",
         "40.2k",
         "40.2k",
         "40.2k",
         "40.2k",
         "40.2k",
         "40.2k",
         "40.2k",
         "40.2k",
         "40.2k",
         "40.2k",
         "40.2k",
         "40.2k",
         "40.2k",
         "40.2k",
         "40.2k",
         "40.2k",
         "40.2k",
         "40.2k",
         "40.2k",
         "40.2k",
         "40.2k",
         "40.2k",
         "40.2k",
         "40.2k",
         "40.2k",
         "40.2k",
         "40.2k",
         "40.2k",
         "40.2k",
         "40.2k",
         "40.2k",
         "40.2k",
         "40.1k",
         "40.1k",
         "40.1k",
         "40k",
         "40k",
         "40k",
         "40k",
         "39.9k",
         "39.9k",
         "39.9k",
         "39.9k",
         "39.8k",
         "39.8k",
         "39.8k",
         "39.8k",
         "39.7k",
         "39.7k",
         "39.7k",
         "39.7k",
         "39.8k",
         "39.9k",
         "40.1k",
         "40.3k",
         "40.5k",
         "40.7k",
         "40.9k",
         "41.1k",
         "41.4k",
         "41.6k",
         "41.8k",
         "42k",
         "42.2k",
         "42.5k",
         "42.7k",
         "42.9k",
         "43.1k",
         "43.4k",
         "43.6k",
         "43.8k",
         "44.1k",
         "44.3k",
         "44.5k",
         "44.8k",
         "45k",
         "45.3k",
         "45.5k",
         "45.7k",
         "46k",
         "46.2k",
         "46.5k",
         "46.7k",
         "47k",
         "47.2k",
         "47.5k",
         "47.7k",
         "48k",
         "48.2k",
         "48.5k",
         "48.8k",
         "49.1k",
         "49.4k",
         "49.8k",
         "50.2k",
         "50.5k",
         "50.9k",
         "51.3k",
         "51.7k",
         "52.2k",
         "52.6k",
         "53.1k",
         "53.5k",
         "54k",
         "54.4k",
         "54.9k",
         "55.4k",
         "55.8k",
         "56.3k",
         "56.8k",
         "57.3k",
         "57.8k",
         "58.2k",
         "58.7k",
         "59.2k",
         "59.7k",
         "60.3k",
         "60.8k",
         "61.3k",
         "61.8k",
         "62.3k",
         "62.9k",
         "63.4k",
         "63.9k",
         "64.5k",
         "65k",
         "65.6k",
         "66.1k",
         "66.7k",
         "67.3k",
         "68.2k",
         "69.6k",
         "67.5k",
         "69.2k",
         "72.8k",
         "76.5k",
         "79.6k",
         "81.6k",
         "83k",
         "84.4k",
         "87.2k",
         "92.4k",
         "101k",
         "112k",
         "125k",
         "138k",
         "150k",
         "160k",
         "170k",
         "183k",
         "203k",
         "235k",
         "277k",
         "331k",
         "395k",
         "467k",
         "548k",
         "638k",
         "735k",
         "835k",
         "932k",
         "1.02M",
         "1.1M",
         "1.16M",
         "1.23M",
         "1.29M",
         "1.37M",
         "1.45M",
         "1.53M",
         "1.63M",
         "1.73M",
         "1.83M",
         "1.94M",
         "2.05M",
         "2.17M",
         "2.29M",
         "2.42M",
         "2.54M",
         "2.67M",
         "2.81M",
         "2.97M",
         "3.13M",
         "3.3M",
         "3.48M",
         "3.71M",
         "4.07M",
         "4.59M",
         "5.3M",
         "6.17M",
         "7.09M",
         "7.92M",
         "8.55M",
         "8.95M",
         "9.14M",
         "9.2M",
         "9.21M",
         "9.26M",
         "9.36M",
         "9.49M",
         "9.63M",
         "9.77M",
         "9.89M",
         "9.99M",
         "10.1M",
         "10.2M",
         "10.2M",
         "10.3M",
         "10.4M",
         "10.5M",
         "10.6M",
         "10.6M",
         "10.7M",
         "10.7M",
         "10.7M",
         "10.7M",
         "10.7M",
         "10.7M",
         "10.7M",
         "10.7M",
         "10.7M",
         "10.7M",
         "10.6M",
         "10.6M",
         "10.6M",
         "10.6M",
         "10.6M",
         "10.6M",
         "10.5M",
         "10.5M",
         "10.5M",
         "10.4M",
         "10.4M",
         "10.4M",
         "10.4M",
         "10.4M",
         "10.4M",
         "10.5M",
         "10.5M",
         "10.5M",
         "10.6M",
         "10.6M",
         "10.6M",
         "10.7M",
         "10.7M",
         "10.7M",
         "10.8M",
         "10.8M",
         "10.9M",
         "10.9M",
         "11M",
         "11M",
         "11.1M",
         "11.1M",
         "11.1M",
         "11.2M",
         "11.3M",
         "11.3M",
         "11.4M",
         "11.4M",
         "11.5M",
         "11.5M",
         "11.6M",
         "11.7M",
         "11.7M",
         "11.8M",
         "11.9M",
         "11.9M",
         "12M",
         "12.1M",
         "12.1M",
         "12.2M",
         "12.3M",
         "12.3M",
         "12.4M",
         "12.5M",
         "12.5M",
         "12.6M",
         "12.7M",
         "12.7M",
         "12.8M",
         "12.8M",
         "12.9M"
        ]
       ],
       "shape": {
        "columns": 302,
        "rows": 5
       }
      },
      "text/html": [
       "<div>\n",
       "<style scoped>\n",
       "    .dataframe tbody tr th:only-of-type {\n",
       "        vertical-align: middle;\n",
       "    }\n",
       "\n",
       "    .dataframe tbody tr th {\n",
       "        vertical-align: top;\n",
       "    }\n",
       "\n",
       "    .dataframe thead th {\n",
       "        text-align: right;\n",
       "    }\n",
       "</style>\n",
       "<table border=\"1\" class=\"dataframe\">\n",
       "  <thead>\n",
       "    <tr style=\"text-align: right;\">\n",
       "      <th></th>\n",
       "      <th>country</th>\n",
       "      <th>1800</th>\n",
       "      <th>1801</th>\n",
       "      <th>1802</th>\n",
       "      <th>1803</th>\n",
       "      <th>1804</th>\n",
       "      <th>1805</th>\n",
       "      <th>1806</th>\n",
       "      <th>1807</th>\n",
       "      <th>1808</th>\n",
       "      <th>...</th>\n",
       "      <th>2091</th>\n",
       "      <th>2092</th>\n",
       "      <th>2093</th>\n",
       "      <th>2094</th>\n",
       "      <th>2095</th>\n",
       "      <th>2096</th>\n",
       "      <th>2097</th>\n",
       "      <th>2098</th>\n",
       "      <th>2099</th>\n",
       "      <th>2100</th>\n",
       "    </tr>\n",
       "  </thead>\n",
       "  <tbody>\n",
       "    <tr>\n",
       "      <th>0</th>\n",
       "      <td>Afghanistan</td>\n",
       "      <td>3.28M</td>\n",
       "      <td>3.28M</td>\n",
       "      <td>3.28M</td>\n",
       "      <td>3.28M</td>\n",
       "      <td>3.28M</td>\n",
       "      <td>3.28M</td>\n",
       "      <td>3.28M</td>\n",
       "      <td>3.28M</td>\n",
       "      <td>3.28M</td>\n",
       "      <td>...</td>\n",
       "      <td>76.6M</td>\n",
       "      <td>76.4M</td>\n",
       "      <td>76.3M</td>\n",
       "      <td>76.1M</td>\n",
       "      <td>76M</td>\n",
       "      <td>75.8M</td>\n",
       "      <td>75.6M</td>\n",
       "      <td>75.4M</td>\n",
       "      <td>75.2M</td>\n",
       "      <td>74.9M</td>\n",
       "    </tr>\n",
       "    <tr>\n",
       "      <th>1</th>\n",
       "      <td>Angola</td>\n",
       "      <td>1.57M</td>\n",
       "      <td>1.57M</td>\n",
       "      <td>1.57M</td>\n",
       "      <td>1.57M</td>\n",
       "      <td>1.57M</td>\n",
       "      <td>1.57M</td>\n",
       "      <td>1.57M</td>\n",
       "      <td>1.57M</td>\n",
       "      <td>1.57M</td>\n",
       "      <td>...</td>\n",
       "      <td>168M</td>\n",
       "      <td>170M</td>\n",
       "      <td>172M</td>\n",
       "      <td>175M</td>\n",
       "      <td>177M</td>\n",
       "      <td>179M</td>\n",
       "      <td>182M</td>\n",
       "      <td>184M</td>\n",
       "      <td>186M</td>\n",
       "      <td>188M</td>\n",
       "    </tr>\n",
       "    <tr>\n",
       "      <th>2</th>\n",
       "      <td>Albania</td>\n",
       "      <td>400k</td>\n",
       "      <td>402k</td>\n",
       "      <td>404k</td>\n",
       "      <td>405k</td>\n",
       "      <td>407k</td>\n",
       "      <td>409k</td>\n",
       "      <td>411k</td>\n",
       "      <td>413k</td>\n",
       "      <td>414k</td>\n",
       "      <td>...</td>\n",
       "      <td>1.33M</td>\n",
       "      <td>1.3M</td>\n",
       "      <td>1.27M</td>\n",
       "      <td>1.25M</td>\n",
       "      <td>1.22M</td>\n",
       "      <td>1.19M</td>\n",
       "      <td>1.17M</td>\n",
       "      <td>1.14M</td>\n",
       "      <td>1.11M</td>\n",
       "      <td>1.09M</td>\n",
       "    </tr>\n",
       "    <tr>\n",
       "      <th>3</th>\n",
       "      <td>Andorra</td>\n",
       "      <td>2650</td>\n",
       "      <td>2650</td>\n",
       "      <td>2650</td>\n",
       "      <td>2650</td>\n",
       "      <td>2650</td>\n",
       "      <td>2650</td>\n",
       "      <td>2650</td>\n",
       "      <td>2650</td>\n",
       "      <td>2650</td>\n",
       "      <td>...</td>\n",
       "      <td>63k</td>\n",
       "      <td>62.9k</td>\n",
       "      <td>62.9k</td>\n",
       "      <td>62.8k</td>\n",
       "      <td>62.7k</td>\n",
       "      <td>62.7k</td>\n",
       "      <td>62.6k</td>\n",
       "      <td>62.5k</td>\n",
       "      <td>62.5k</td>\n",
       "      <td>62.4k</td>\n",
       "    </tr>\n",
       "    <tr>\n",
       "      <th>4</th>\n",
       "      <td>United Arab Emirates</td>\n",
       "      <td>40.2k</td>\n",
       "      <td>40.2k</td>\n",
       "      <td>40.2k</td>\n",
       "      <td>40.2k</td>\n",
       "      <td>40.2k</td>\n",
       "      <td>40.2k</td>\n",
       "      <td>40.2k</td>\n",
       "      <td>40.2k</td>\n",
       "      <td>40.2k</td>\n",
       "      <td>...</td>\n",
       "      <td>12.3M</td>\n",
       "      <td>12.4M</td>\n",
       "      <td>12.5M</td>\n",
       "      <td>12.5M</td>\n",
       "      <td>12.6M</td>\n",
       "      <td>12.7M</td>\n",
       "      <td>12.7M</td>\n",
       "      <td>12.8M</td>\n",
       "      <td>12.8M</td>\n",
       "      <td>12.9M</td>\n",
       "    </tr>\n",
       "  </tbody>\n",
       "</table>\n",
       "<p>5 rows × 302 columns</p>\n",
       "</div>"
      ],
      "text/plain": [
       "                country   1800   1801   1802   1803   1804   1805   1806  \\\n",
       "0           Afghanistan  3.28M  3.28M  3.28M  3.28M  3.28M  3.28M  3.28M   \n",
       "1                Angola  1.57M  1.57M  1.57M  1.57M  1.57M  1.57M  1.57M   \n",
       "2               Albania   400k   402k   404k   405k   407k   409k   411k   \n",
       "3               Andorra   2650   2650   2650   2650   2650   2650   2650   \n",
       "4  United Arab Emirates  40.2k  40.2k  40.2k  40.2k  40.2k  40.2k  40.2k   \n",
       "\n",
       "    1807   1808  ...   2091   2092   2093   2094   2095   2096   2097   2098  \\\n",
       "0  3.28M  3.28M  ...  76.6M  76.4M  76.3M  76.1M    76M  75.8M  75.6M  75.4M   \n",
       "1  1.57M  1.57M  ...   168M   170M   172M   175M   177M   179M   182M   184M   \n",
       "2   413k   414k  ...  1.33M   1.3M  1.27M  1.25M  1.22M  1.19M  1.17M  1.14M   \n",
       "3   2650   2650  ...    63k  62.9k  62.9k  62.8k  62.7k  62.7k  62.6k  62.5k   \n",
       "4  40.2k  40.2k  ...  12.3M  12.4M  12.5M  12.5M  12.6M  12.7M  12.7M  12.8M   \n",
       "\n",
       "    2099   2100  \n",
       "0  75.2M  74.9M  \n",
       "1   186M   188M  \n",
       "2  1.11M  1.09M  \n",
       "3  62.5k  62.4k  \n",
       "4  12.8M  12.9M  \n",
       "\n",
       "[5 rows x 302 columns]"
      ]
     },
     "execution_count": 2,
     "metadata": {},
     "output_type": "execute_result"
    }
   ],
   "source": [
    "df = pd.read_excel('population_total.xlsx')\n",
    "df.head()"
   ]
  },
  {
   "cell_type": "code",
   "execution_count": 3,
   "metadata": {},
   "outputs": [
    {
     "name": "stdout",
     "output_type": "stream",
     "text": [
      "Index(['country',      1800,      1801,      1802,      1803,      1804,\n",
      "            1805,      1806,      1807,      1808,\n",
      "       ...\n",
      "            2091,      2092,      2093,      2094,      2095,      2096,\n",
      "            2097,      2098,      2099,      2100],\n",
      "      dtype='object', length=302)\n",
      "country    object\n",
      "1800       object\n",
      "1801       object\n",
      "1802       object\n",
      "1803       object\n",
      "            ...  \n",
      "2096       object\n",
      "2097       object\n",
      "2098       object\n",
      "2099       object\n",
      "2100       object\n",
      "Length: 302, dtype: object\n"
     ]
    }
   ],
   "source": [
    "print(df.columns)  \n",
    "print(df.dtypes)"
   ]
  },
  {
   "cell_type": "code",
   "execution_count": 4,
   "metadata": {},
   "outputs": [
    {
     "data": {
      "application/vnd.microsoft.datawrangler.viewer.v0+json": {
       "columns": [
        {
         "name": "index",
         "rawType": "int64",
         "type": "integer"
        },
        {
         "name": "country",
         "rawType": "object",
         "type": "string"
        },
        {
         "name": "year",
         "rawType": "object",
         "type": "unknown"
        },
        {
         "name": "population",
         "rawType": "object",
         "type": "unknown"
        }
       ],
       "conversionMethod": "pd.DataFrame",
       "ref": "ff01ea44-561e-4052-b6f2-0b1a0523932b",
       "rows": [
        [
         "0",
         "Afghanistan",
         "1800",
         "3.28M"
        ],
        [
         "1",
         "Angola",
         "1800",
         "1.57M"
        ],
        [
         "2",
         "Albania",
         "1800",
         "400k"
        ],
        [
         "3",
         "Andorra",
         "1800",
         "2650"
        ],
        [
         "4",
         "United Arab Emirates",
         "1800",
         "40.2k"
        ],
        [
         "5",
         "Argentina",
         "1800",
         "534k"
        ],
        [
         "6",
         "Armenia",
         "1800",
         "413k"
        ],
        [
         "7",
         "Antigua and Barbuda",
         "1800",
         "37k"
        ],
        [
         "8",
         "Australia",
         "1800",
         "200k"
        ],
        [
         "9",
         "Austria",
         "1800",
         "3M"
        ],
        [
         "10",
         "Azerbaijan",
         "1800",
         "880k"
        ],
        [
         "11",
         "Burundi",
         "1800",
         "899k"
        ],
        [
         "12",
         "Belgium",
         "1800",
         "3.25M"
        ],
        [
         "13",
         "Benin",
         "1800",
         "637k"
        ],
        [
         "14",
         "Burkina Faso",
         "1800",
         "1.67M"
        ],
        [
         "15",
         "Bangladesh",
         "1800",
         "19.2M"
        ],
        [
         "16",
         "Bulgaria",
         "1800",
         "2.25M"
        ],
        [
         "17",
         "Bahrain",
         "1800",
         "64.5k"
        ],
        [
         "18",
         "Bahamas",
         "1800",
         "27.4k"
        ],
        [
         "19",
         "Bosnia and Herzegovina",
         "1800",
         "852k"
        ],
        [
         "20",
         "Belarus",
         "1800",
         "2.36M"
        ],
        [
         "21",
         "Belize",
         "1800",
         "25.5k"
        ],
        [
         "22",
         "Bolivia",
         "1800",
         "887k"
        ],
        [
         "23",
         "Brazil",
         "1800",
         "2.5M"
        ],
        [
         "24",
         "Barbados",
         "1800",
         "81.7k"
        ],
        [
         "25",
         "Brunei",
         "1800",
         "2260"
        ],
        [
         "26",
         "Bhutan",
         "1800",
         "392k"
        ],
        [
         "27",
         "Botswana",
         "1800",
         "121k"
        ],
        [
         "28",
         "Central African Republic",
         "1800",
         "479k"
        ],
        [
         "29",
         "Canada",
         "1800",
         "500k"
        ],
        [
         "30",
         "Switzerland",
         "1800",
         "1.75M"
        ],
        [
         "31",
         "Chile",
         "1800",
         "771k"
        ],
        [
         "32",
         "China",
         "1800",
         "330M"
        ],
        [
         "33",
         "Cote d'Ivoire",
         "1800",
         "1.09M"
        ],
        [
         "34",
         "Cameroon",
         "1800",
         "1.86M"
        ],
        [
         "35",
         "Congo, Dem. Rep.",
         "1800",
         "5.16M"
        ],
        [
         "36",
         "Congo, Rep.",
         "1800",
         "314k"
        ],
        [
         "37",
         "Colombia",
         "1800",
         "1.21M"
        ],
        [
         "38",
         "Comoros",
         "1800",
         "56.3k"
        ],
        [
         "39",
         "Cape Verde",
         "1800",
         "55.7k"
        ],
        [
         "40",
         "Costa Rica",
         "1800",
         "53k"
        ],
        [
         "41",
         "Cuba",
         "1800",
         "272k"
        ],
        [
         "42",
         "Cyprus",
         "1800",
         "184k"
        ],
        [
         "43",
         "Czech Republic",
         "1800",
         "5.52M"
        ],
        [
         "44",
         "Germany",
         "1800",
         "18M"
        ],
        [
         "45",
         "Djibouti",
         "1800",
         "22.8k"
        ],
        [
         "46",
         "Dominica",
         "1800",
         "19.9k"
        ],
        [
         "47",
         "Denmark",
         "1800",
         "1M"
        ],
        [
         "48",
         "Dominican Republic",
         "1800",
         "150k"
        ],
        [
         "49",
         "Algeria",
         "1800",
         "2.5M"
        ]
       ],
       "shape": {
        "columns": 3,
        "rows": 59297
       }
      },
      "text/html": [
       "<div>\n",
       "<style scoped>\n",
       "    .dataframe tbody tr th:only-of-type {\n",
       "        vertical-align: middle;\n",
       "    }\n",
       "\n",
       "    .dataframe tbody tr th {\n",
       "        vertical-align: top;\n",
       "    }\n",
       "\n",
       "    .dataframe thead th {\n",
       "        text-align: right;\n",
       "    }\n",
       "</style>\n",
       "<table border=\"1\" class=\"dataframe\">\n",
       "  <thead>\n",
       "    <tr style=\"text-align: right;\">\n",
       "      <th></th>\n",
       "      <th>country</th>\n",
       "      <th>year</th>\n",
       "      <th>population</th>\n",
       "    </tr>\n",
       "  </thead>\n",
       "  <tbody>\n",
       "    <tr>\n",
       "      <th>0</th>\n",
       "      <td>Afghanistan</td>\n",
       "      <td>1800</td>\n",
       "      <td>3.28M</td>\n",
       "    </tr>\n",
       "    <tr>\n",
       "      <th>1</th>\n",
       "      <td>Angola</td>\n",
       "      <td>1800</td>\n",
       "      <td>1.57M</td>\n",
       "    </tr>\n",
       "    <tr>\n",
       "      <th>2</th>\n",
       "      <td>Albania</td>\n",
       "      <td>1800</td>\n",
       "      <td>400k</td>\n",
       "    </tr>\n",
       "    <tr>\n",
       "      <th>3</th>\n",
       "      <td>Andorra</td>\n",
       "      <td>1800</td>\n",
       "      <td>2650</td>\n",
       "    </tr>\n",
       "    <tr>\n",
       "      <th>4</th>\n",
       "      <td>United Arab Emirates</td>\n",
       "      <td>1800</td>\n",
       "      <td>40.2k</td>\n",
       "    </tr>\n",
       "    <tr>\n",
       "      <th>...</th>\n",
       "      <td>...</td>\n",
       "      <td>...</td>\n",
       "      <td>...</td>\n",
       "    </tr>\n",
       "    <tr>\n",
       "      <th>59292</th>\n",
       "      <td>Samoa</td>\n",
       "      <td>2100</td>\n",
       "      <td>310k</td>\n",
       "    </tr>\n",
       "    <tr>\n",
       "      <th>59293</th>\n",
       "      <td>Yemen</td>\n",
       "      <td>2100</td>\n",
       "      <td>53.2M</td>\n",
       "    </tr>\n",
       "    <tr>\n",
       "      <th>59294</th>\n",
       "      <td>South Africa</td>\n",
       "      <td>2100</td>\n",
       "      <td>79.2M</td>\n",
       "    </tr>\n",
       "    <tr>\n",
       "      <th>59295</th>\n",
       "      <td>Zambia</td>\n",
       "      <td>2100</td>\n",
       "      <td>81.5M</td>\n",
       "    </tr>\n",
       "    <tr>\n",
       "      <th>59296</th>\n",
       "      <td>Zimbabwe</td>\n",
       "      <td>2100</td>\n",
       "      <td>31M</td>\n",
       "    </tr>\n",
       "  </tbody>\n",
       "</table>\n",
       "<p>59297 rows × 3 columns</p>\n",
       "</div>"
      ],
      "text/plain": [
       "                    country  year population\n",
       "0               Afghanistan  1800      3.28M\n",
       "1                    Angola  1800      1.57M\n",
       "2                   Albania  1800       400k\n",
       "3                   Andorra  1800       2650\n",
       "4      United Arab Emirates  1800      40.2k\n",
       "...                     ...   ...        ...\n",
       "59292                 Samoa  2100       310k\n",
       "59293                 Yemen  2100      53.2M\n",
       "59294          South Africa  2100      79.2M\n",
       "59295                Zambia  2100      81.5M\n",
       "59296              Zimbabwe  2100        31M\n",
       "\n",
       "[59297 rows x 3 columns]"
      ]
     },
     "execution_count": 4,
     "metadata": {},
     "output_type": "execute_result"
    }
   ],
   "source": [
    "df=pd.melt(df,id_vars=['country'],var_name='year',value_name='population')\n",
    "df"
   ]
  },
  {
   "cell_type": "code",
   "execution_count": 5,
   "metadata": {},
   "outputs": [
    {
     "name": "stdout",
     "output_type": "stream",
     "text": [
      "                country  year population\n",
      "0           Afghanistan  1800      3.28M\n",
      "1                Angola  1800      1.57M\n",
      "2               Albania  1800       400k\n",
      "3               Andorra  1800       2650\n",
      "4  United Arab Emirates  1800      40.2k\n",
      "country       object\n",
      "year          object\n",
      "population    object\n",
      "dtype: object\n"
     ]
    }
   ],
   "source": [
    "print(df.head())  \n",
    "print(df.dtypes)"
   ]
  },
  {
   "cell_type": "code",
   "execution_count": 6,
   "metadata": {},
   "outputs": [
    {
     "name": "stdout",
     "output_type": "stream",
     "text": [
      "['3.28M' '1.57M' '400k' '2650' '40.2k' '534k' '413k' '37k' '200k' '3M'\n",
      " '880k' '899k' '3.25M' '637k' '1.67M' '19.2M' '2.25M' '64.5k' '27.4k'\n",
      " '852k']\n"
     ]
    }
   ],
   "source": [
    "df['year'] = df['year'].astype(int)\n",
    "df['country'] = df['country'].astype('category')\n",
    "df['population'] = df['population'].astype(str)\n",
    "print(df['population'].unique()[:20])"
   ]
  },
  {
   "cell_type": "code",
   "execution_count": null,
   "metadata": {},
   "outputs": [],
   "source": [
    "def replace_pop_count(value):\n",
    "    value = str(value).upper()\n",
    "    if 'K' in value:\n",
    "        return float(value.replace('K', '')) * 1_000\n",
    "    elif 'M' in value:\n",
    "        return float(value.replace('M', '')) * 1_000_000\n",
    "    elif 'B' in value:\n",
    "        return float(value.replace('B', '')) * 1_000_000_000\n",
    "    else:\n",
    "        return float(value)\n",
    "\n",
    "df['population'] = df['population'].astype(str).apply(replace_pop_count)\n",
    "\n"
   ]
  },
  {
   "cell_type": "code",
   "execution_count": 9,
   "metadata": {},
   "outputs": [
    {
     "name": "stdout",
     "output_type": "stream",
     "text": [
      "<class 'pandas.core.frame.DataFrame'>\n",
      "RangeIndex: 59297 entries, 0 to 59296\n",
      "Data columns (total 3 columns):\n",
      " #   Column      Non-Null Count  Dtype   \n",
      "---  ------      --------------  -----   \n",
      " 0   country     59297 non-null  category\n",
      " 1   year        59297 non-null  int32   \n",
      " 2   population  59297 non-null  float64 \n",
      "dtypes: category(1), float64(1), int32(1)\n",
      "memory usage: 816.4 KB\n"
     ]
    }
   ],
   "source": [
    "df.info()"
   ]
  },
  {
   "cell_type": "code",
   "execution_count": 10,
   "metadata": {},
   "outputs": [
    {
     "name": "stdout",
     "output_type": "stream",
     "text": [
      "float64\n",
      "[3.28e+06 1.57e+06 4.00e+05 2.65e+03 4.02e+04 5.34e+05 4.13e+05 3.70e+04\n",
      " 2.00e+05 3.00e+06 8.80e+05 8.99e+05 3.25e+06 6.37e+05 1.67e+06 1.92e+07\n",
      " 2.25e+06 6.45e+04 2.74e+04 8.52e+05]\n"
     ]
    }
   ],
   "source": [
    "print(df['population'].dtype)\n",
    "print(df['population'].unique()[:20])"
   ]
  },
  {
   "cell_type": "code",
   "execution_count": 12,
   "metadata": {},
   "outputs": [
    {
     "name": "stdout",
     "output_type": "stream",
     "text": [
      "Empty DataFrame\n",
      "Columns: [country, year, population]\n",
      "Index: []\n"
     ]
    }
   ],
   "source": [
    "print(df[df.duplicated(subset=['country', 'year'], keep=False)])"
   ]
  },
  {
   "cell_type": "code",
   "execution_count": 14,
   "metadata": {},
   "outputs": [
    {
     "name": "stdout",
     "output_type": "stream",
     "text": [
      "Number of unique countries: 197\n",
      "Year range: 1800 to 2100\n"
     ]
    },
    {
     "data": {
      "image/png": "[encoded data removed]",
      "text/plain": [
       "<Figure size 1000x600 with 1 Axes>"
      ]
     },
     "metadata": {},
     "output_type": "display_data"
    }
   ],
   "source": [
    "print(\"Number of unique countries:\", df['country'].nunique())\n",
    "print(\"Year range:\", df['year'].min(), \"to\", df['year'].max())\n",
    "population_trend = df.groupby('year')['population'].sum()\n",
    "plt.figure(figsize=(10, 6))\n",
    "plt.plot(population_trend.index, population_trend.values)\n",
    "plt.xlabel('Year')\n",
    "plt.ylabel('Global Population')\n",
    "plt.title('Global Population Trend from 1800 to 2100')\n",
    "plt.grid(True)\n",
    "plt.show()\n"
   ]
  },
  {
   "cell_type": "code",
   "execution_count": 28,
   "metadata": {},
   "outputs": [
    {
     "name": "stdout",
     "output_type": "stream",
     "text": [
      "                country    population\n",
      "59179             India  1.450000e+09\n",
      "59132             China  1.060000e+09\n",
      "59228           Nigeria  7.330000e+08\n",
      "59286     United States  4.340000e+08\n",
      "59236          Pakistan  4.030000e+08\n",
      "59135  Congo, Dem. Rep.  3.620000e+08\n",
      "59178         Indonesia  3.210000e+08\n",
      "59155          Ethiopia  2.940000e+08\n",
      "59282          Tanzania  2.860000e+08\n",
      "59151             Egypt  2.250000e+08\n"
     ]
    }
   ],
   "source": [
    "latest_year = df['year'].max()\n",
    "top_countries = df[df['year'] == latest_year].nlargest(10, 'population')\n",
    "\n",
    "print(top_countries[['country', 'population']])  # Debugging step"
   ]
  },
  {
   "cell_type": "code",
   "execution_count": 17,
   "metadata": {},
   "outputs": [
    {
     "data": {
      "image/png": "[encoded data removed]",
      "text/plain": [
       "<Figure size 1000x500 with 1 Axes>"
      ]
     },
     "metadata": {},
     "output_type": "display_data"
    }
   ],
   "source": [
    "country = \"Egypt\"\n",
    "country_trend = df[df['country'] == country]\n",
    "\n",
    "plt.figure(figsize=(10, 5))\n",
    "plt.plot(country_trend['year'], country_trend['population'], marker='o', linestyle='-')\n",
    "plt.xlabel(\"Year\")\n",
    "plt.ylabel(\"Population\")\n",
    "plt.title(f\"Population Growth of {country} Over Time\")\n",
    "plt.grid(True)\n",
    "plt.show()\n"
   ]
  },
  {
   "cell_type": "code",
   "execution_count": 37,
   "metadata": {},
   "outputs": [
    {
     "name": "stderr",
     "output_type": "stream",
     "text": [
      "C:\\Users\\alaa6\\AppData\\Local\\Temp\\ipykernel_23340\\3433443586.py:1: FutureWarning: The default of observed=False is deprecated and will be changed to True in a future version of pandas. Pass observed=False to retain current behavior or observed=True to adopt the future default and silence this warning.\n",
      "  country_population_changes = df.groupby('country')['population'].agg(lambda x: ((x.iloc[-1] - x.iloc[0]) / x.iloc[0]) * 100)\n"
     ]
    },
    {
     "data": {
      "image/png": "[encoded data removed]",
      "text/plain": [
       "<Figure size 640x480 with 1 Axes>"
      ]
     },
     "metadata": {},
     "output_type": "display_data"
    }
   ],
   "source": [
    "country_population_changes = df.groupby('country')['population'].agg(lambda x: ((x.iloc[-1] - x.iloc[0]) / x.iloc[0]) * 100)\n",
    "growth = country_population_changes.sort_values(ascending=False)\n",
    "growth.head(10).plot(kind='bar')\n",
    "plt.xlabel('Country')\n",
    "plt.ylabel('Population Change Rate%')\n",
    "plt.title('Top 10 Countries with the Highest Population Growth Rates')\n",
    "plt.show()"
   ]
  },
  {
   "cell_type": "code",
   "execution_count": null,
   "metadata": {},
   "outputs": [],
   "source": []
  }
 ],
 "metadata": {
  "kernelspec": {
   "display_name": "base",
   "language": "python",
   "name": "python3"
  },
  "language_info": {
   "codemirror_mode": {
    "name": "ipython",
    "version": 3
   },
   "file_extension": ".py",
   "mimetype": "text/x-python",
   "name": "python",
   "nbconvert_exporter": "python",
   "pygments_lexer": "ipython3",
   "version": "3.12.3"
  }
 },
 "nbformat": 4,
 "nbformat_minor": 2
}
