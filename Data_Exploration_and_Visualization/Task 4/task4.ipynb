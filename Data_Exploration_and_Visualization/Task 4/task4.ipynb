{
 "cells": [
  {
   "cell_type": "code",
   "execution_count": 1,
   "metadata": {},
   "outputs": [],
   "source": [
    "from selenium import webdriver\n",
    "import pandas as pd"
   ]
  },
  {
   "cell_type": "code",
   "execution_count": 2,
   "metadata": {},
   "outputs": [],
   "source": [
    "fawzy = webdriver.Chrome()"
   ]
  },
  {
   "cell_type": "code",
   "execution_count": 3,
   "metadata": {},
   "outputs": [],
   "source": [
    "fawzy.get(\"https://www.amazon.in/gp/bestsellers/books/\")"
   ]
  },
  {
   "cell_type": "code",
   "execution_count": 4,
   "metadata": {},
   "outputs": [
    {
     "data": {
      "text/plain": [
       "['Unbarbaad : For Those Who Feel Lost by Shobhit Nirwan',\n",
       " 'Too Good to Be True : A smart, funny will-they-won’t-they romance by mostlysane',\n",
       " 'Delhi Police Constable, HCM & AWO/TPO 4 Books Combo (2025) By Ankit Bhati Sir RWA -Mathematics, Reasoning, GS and Computer.',\n",
       " 'My First Library: Boxset of 10 Board Books for Kids',\n",
       " 'Rd Sharma Class 10 Maths 2025-26 CBSE Examinations | R D Sharma Class 10 Mathematics with MCQ Book (Set of 2 Books)',\n",
       " 'The Psychology of Money',\n",
       " 'Dopamine Detox : A Short Guide to Remove Distractions and Get Your Brain to Do Hard Things',\n",
       " 'Atomic Habits',\n",
       " 'White Nights – Fyodor Dostoyevsky | A Million-Copy Bestseller | A Timeless Story of Love, Longing & Solitude – Penguin Classics',\n",
       " 'PW NTA NEET Rankers Test Series 2025 Updated as per Latest NEET Pattern 180 Questions Verified & Curated by Expert Faculties | 10 Full Syllabus + 4 Part Syllabus (Class 11 & 12) | OMR Sheet, Solution Booklet with NCERT References',\n",
       " 'The Power of Your Subconscious Mind: Original Classic Edition | Premium Paperback',\n",
       " 'Animals Tales From Panchtantra: Timeless Stories for Children From Ancient India',\n",
       " 'All In One Social Science CBSE Class 10th Based On Latest NCERT For CBSE Exams 2025 | Mind map in each chapter | Clear & Concise Theory | Intext & Chapter Exercises | Sample Question Papers',\n",
       " 'Thank You for Leaving: Learning to be okay with saying goodbye | A new book by one of India’s highest selling authors - Rithvik Singh',\n",
       " 'GUNAHO KA DEVTA',\n",
       " 'The Art of Being Alone: Loneliness Was My Cage, Solitude Is My Home (English)',\n",
       " 'Mythakon Se Vigyan Tak RAZA GAUHAR',\n",
       " \"Don't Believe Everything You Think (English)\",\n",
       " 'Little Colouring Books for Kids (Set of 10 Books) - Gift to children for painting, drawing and coloring - Alphabets, Animals, Birds, Flags, Flowers, ... Transport, Vegetables - 3 to 6 years old',\n",
       " 'All In One Science CBSE Class 10th Based On Latest NCERT For CBSE Exams 2025 | Mind map in each chapter | Clear & Concise Theory | Intext & Chapter Exercises | Sample Question Papers',\n",
       " 'My First Book of Patterns Pencil Control: Patterns Practice book for kids (Pattern Writing)',\n",
       " 'Story Books for Kids - Second Reader (Illustrated) (Set of 6 Books) - Phonic stories - Bedtime Stories - 3 Years to 6 Years Old - Read Aloud to Infants, Toddlers',\n",
       " 'Moral Story Books for Kids (Illustrated) - English Short Stories with Colourful Pictures - Bedtime Children Story Book - 3 Years to 6 Years Old Children - Read Aloud to Infants, Toddlers (Set of 10 Books)',\n",
       " 'Writing Practice Boxset: Pack of 4 Books (Writing Fun: Write And Practice Capital Letters, Small Letters, Patterns and Numbers 1 to 10)',\n",
       " 'Can We Be Strangers Again?',\n",
       " 'The Mountain Is You: Transforming Self-Sabotage Into Self-Mastery (English)',\n",
       " 'Khan Sir Pocket GK General Knowledge (Samanya Gyan) By Khan Sir 2nd Revised September 2024 Edition useful for all competitive Exams',\n",
       " 'Money Myths and Mantras',\n",
       " 'Ikigai: Japanese secret to long and happy life',\n",
       " 'My First 365 Coloring Book: Jumbo Coloring Book For Kids (With Tear Out Sheets)',\n",
       " 'The Golden Road : How Ancient India Transformed the World',\n",
       " 'NCERT Textbooks in English for class 12 - Flamingo and Vistas - 12074 &12075',\n",
       " 'The 5 Types of Wealth : A Transformative Guide to Design Your Dream Life',\n",
       " 'PW NTA NEET Rankers Test Series 2025 Verified & Curated by Expert Faculties | 10 Full Syllabus + 4 Part Syllabus (Class 11 & 12) | OMR Sheet, Solution Booklet with NCERT References',\n",
       " \"Grandma's Bag of Stories (R/J)\",\n",
       " 'The Power of Your Subconscious Mind: Original Edition | Premium Paperback',\n",
       " 'Magic of the Lost Temple (Over 2 Lakh Copies sold)',\n",
       " \"Man's Search For Meaning: The classic tribute to hope from the Holocaust | Must read classics by Victor E. Frankl\",\n",
       " 'The Diary of A Young Girl',\n",
       " 'Meditations',\n",
       " 'The Cantonment Conspiracy: A Military Thriller',\n",
       " 'Norwegian Wood: Million copy bestseller by Japanese author Haruki Murakami',\n",
       " 'The Art of Letting Go',\n",
       " 'Amma Diarylo Konni Pageelu',\n",
       " 'Static G.K By Ankit Bhati And Naveen Sir In Hindi Latest 2025',\n",
       " 'Coloring Books Box Set: Pack of 12 Copy Color Books For Children',\n",
       " '101 Pencil Control Activity Book For Kids: Tracing Practise Book Age 2+',\n",
       " 'BlackBook of English Vocabulary May 2024 by Nikhil Gupta',\n",
       " 'The Alchemist',\n",
       " 'S ISLAMIC STORE original product - The Holy Quran English with New Edition Urdu Translation & Transliteration in Roman Script with Transliteration & Arabic Text 5 Star Paper Quality (HUDA QURAN)']"
      ]
     },
     "execution_count": 4,
     "metadata": {},
     "output_type": "execute_result"
    }
   ],
   "source": [
    "book_title = fawzy.find_elements(\"xpath\", \"//*/div/div/a/span/div\")\n",
    "titles = [item.text.strip() for item in book_title if item.text.strip() != \"\"]\n",
    "titles"
   ]
  },
  {
   "cell_type": "code",
   "execution_count": 5,
   "metadata": {},
   "outputs": [
    {
     "data": {
      "text/plain": [
       "['₹249.00',\n",
       " '₹239.00',\n",
       " '₹499.00',\n",
       " '₹398.00',\n",
       " '₹595.00',\n",
       " '₹290.00',\n",
       " '₹189.00',\n",
       " '₹549.00',\n",
       " '₹118.00',\n",
       " '₹569.00',\n",
       " '₹149.00',\n",
       " '₹199.00',\n",
       " '₹375.00',\n",
       " '₹205.00',\n",
       " '₹217.00',\n",
       " '₹198.00',\n",
       " '₹299.00',\n",
       " '₹198.00',\n",
       " '₹185.00',\n",
       " '₹399.00',\n",
       " '₹129.00',\n",
       " '₹139.00',\n",
       " '₹228.00',\n",
       " '₹199.00',\n",
       " '₹278.00',\n",
       " '₹250.00',\n",
       " '₹214.00',\n",
       " '₹275.00',\n",
       " '₹354.00',\n",
       " '₹199.00',\n",
       " '₹585.00',\n",
       " '₹120.00',\n",
       " '₹379.00',\n",
       " '₹566.00',\n",
       " '₹163.00',\n",
       " '₹149.00',\n",
       " '₹203.00',\n",
       " '₹195.00',\n",
       " '₹139.00',\n",
       " '₹139.00',\n",
       " '₹307.00',\n",
       " '₹359.00',\n",
       " '₹219.00',\n",
       " '₹215.00',\n",
       " '₹159.00',\n",
       " '₹369.00',\n",
       " '₹179.00',\n",
       " '₹285.00',\n",
       " '₹258.00',\n",
       " '₹459.00']"
      ]
     },
     "execution_count": 5,
     "metadata": {},
     "output_type": "execute_result"
    }
   ],
   "source": [
    "price = fawzy.find_elements(\"xpath\", \"//*/div/div/div/div/div/a/div/span/span\")\n",
    "prices = [item.text.strip() for item in price if item.text.strip() != \"\"]\n",
    "prices"
   ]
  },
  {
   "cell_type": "code",
   "execution_count": 6,
   "metadata": {},
   "outputs": [
    {
     "name": "stdout",
     "output_type": "stream",
     "text": [
      "                                                Title    Price\n",
      "0   Unbarbaad : For Those Who Feel Lost by Shobhit...  ₹249.00\n",
      "1   Too Good to Be True : A smart, funny will-they...  ₹239.00\n",
      "2   Delhi Police Constable, HCM & AWO/TPO 4 Books ...  ₹499.00\n",
      "3   My First Library: Boxset of 10 Board Books for...  ₹398.00\n",
      "4   Rd Sharma Class 10 Maths 2025-26 CBSE Examinat...  ₹595.00\n",
      "5                             The Psychology of Money  ₹290.00\n",
      "6   Dopamine Detox : A Short Guide to Remove Distr...  ₹189.00\n",
      "7                                       Atomic Habits  ₹549.00\n",
      "8   White Nights – Fyodor Dostoyevsky | A Million-...  ₹118.00\n",
      "9   PW NTA NEET Rankers Test Series 2025 Updated a...  ₹569.00\n",
      "10  The Power of Your Subconscious Mind: Original ...  ₹149.00\n",
      "11  Animals Tales From Panchtantra: Timeless Stori...  ₹199.00\n",
      "12  All In One Social Science CBSE Class 10th Base...  ₹375.00\n",
      "13  Thank You for Leaving: Learning to be okay wit...  ₹205.00\n",
      "14                                    GUNAHO KA DEVTA  ₹217.00\n",
      "15  The Art of Being Alone: Loneliness Was My Cage...  ₹198.00\n",
      "16                 Mythakon Se Vigyan Tak RAZA GAUHAR  ₹299.00\n",
      "17       Don't Believe Everything You Think (English)  ₹198.00\n",
      "18  Little Colouring Books for Kids (Set of 10 Boo...  ₹185.00\n",
      "19  All In One Science CBSE Class 10th Based On La...  ₹399.00\n",
      "20  My First Book of Patterns Pencil Control: Patt...  ₹129.00\n",
      "21  Story Books for Kids - Second Reader (Illustra...  ₹139.00\n",
      "22  Moral Story Books for Kids (Illustrated) - Eng...  ₹228.00\n",
      "23  Writing Practice Boxset: Pack of 4 Books (Writ...  ₹199.00\n",
      "24                         Can We Be Strangers Again?  ₹278.00\n",
      "25  The Mountain Is You: Transforming Self-Sabotag...  ₹250.00\n",
      "26  Khan Sir Pocket GK General Knowledge (Samanya ...  ₹214.00\n",
      "27                            Money Myths and Mantras  ₹275.00\n",
      "28     Ikigai: Japanese secret to long and happy life  ₹354.00\n",
      "29  My First 365 Coloring Book: Jumbo Coloring Boo...  ₹199.00\n",
      "30  The Golden Road : How Ancient India Transforme...  ₹585.00\n",
      "31  NCERT Textbooks in English for class 12 - Flam...  ₹120.00\n",
      "32  The 5 Types of Wealth : A Transformative Guide...  ₹379.00\n",
      "33  PW NTA NEET Rankers Test Series 2025 Verified ...  ₹566.00\n",
      "34                     Grandma's Bag of Stories (R/J)  ₹163.00\n",
      "35  The Power of Your Subconscious Mind: Original ...  ₹149.00\n",
      "36  Magic of the Lost Temple (Over 2 Lakh Copies s...  ₹203.00\n",
      "37  Man's Search For Meaning: The classic tribute ...  ₹195.00\n",
      "38                          The Diary of A Young Girl  ₹139.00\n",
      "39                                        Meditations  ₹139.00\n",
      "40     The Cantonment Conspiracy: A Military Thriller  ₹307.00\n",
      "41  Norwegian Wood: Million copy bestseller by Jap...  ₹359.00\n",
      "42                              The Art of Letting Go  ₹219.00\n",
      "43                         Amma Diarylo Konni Pageelu  ₹215.00\n",
      "44  Static G.K By Ankit Bhati And Naveen Sir In Hi...  ₹159.00\n",
      "45  Coloring Books Box Set: Pack of 12 Copy Color ...  ₹369.00\n",
      "46  101 Pencil Control Activity Book For Kids: Tra...  ₹179.00\n",
      "47  BlackBook of English Vocabulary May 2024 by Ni...  ₹285.00\n",
      "48                                      The Alchemist  ₹258.00\n",
      "49  S ISLAMIC STORE original product - The Holy Qu...  ₹459.00\n"
     ]
    }
   ],
   "source": [
    "book_data = []\n",
    "\n",
    "for title, price in zip(titles, prices):\n",
    "    book_data.append({\"Title\": title, \"Price\": price})\n",
    "df = pd.DataFrame(book_data)\n",
    "print(df)\n"
   ]
  },
  {
   "cell_type": "code",
   "execution_count": 7,
   "metadata": {},
   "outputs": [],
   "source": [
    "df.to_csv('books.csv', index=False)"
   ]
  },
  {
   "cell_type": "code",
   "execution_count": null,
   "metadata": {},
   "outputs": [],
   "source": []
  }
 ],
 "metadata": {
  "kernelspec": {
   "display_name": "base",
   "language": "python",
   "name": "python3"
  },
  "language_info": {
   "codemirror_mode": {
    "name": "ipython",
    "version": 3
   },
   "file_extension": ".py",
   "mimetype": "text/x-python",
   "name": "python",
   "nbconvert_exporter": "python",
   "pygments_lexer": "ipython3",
   "version": "3.12.3"
  }
 },
 "nbformat": 4,
 "nbformat_minor": 2
}
