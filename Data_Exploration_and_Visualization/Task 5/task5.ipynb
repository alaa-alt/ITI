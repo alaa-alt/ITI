{
 "cells": [
  {
   "cell_type": "code",
   "execution_count": 1,
   "metadata": {},
   "outputs": [],
   "source": [
    "import pandas as pd\n",
    "import numpy as np\n",
    "import matplotlib.pyplot as plt\n",
    "%matplotlib inline"
   ]
  },
  {
   "cell_type": "code",
   "execution_count": 18,
   "metadata": {},
   "outputs": [
    {
     "data": {
      "application/vnd.microsoft.datawrangler.viewer.v0+json": {
       "columns": [
        {
         "name": "index",
         "rawType": "int64",
         "type": "integer"
        },
        {
         "name": "date",
         "rawType": "object",
         "type": "string"
        },
        {
         "name": "new_cases",
         "rawType": "float64",
         "type": "float"
        },
        {
         "name": "new_deaths",
         "rawType": "float64",
         "type": "float"
        },
        {
         "name": "new_tests",
         "rawType": "float64",
         "type": "float"
        }
       ],
       "conversionMethod": "pd.DataFrame",
       "ref": "2ade9ba9-e25c-4f25-ae11-740703d46fcc",
       "rows": [
        [
         "0",
         "2019-12-31",
         "0.0",
         "0.0",
         null
        ],
        [
         "1",
         "2020-01-01",
         "0.0",
         "0.0",
         null
        ],
        [
         "2",
         "2020-01-02",
         "0.0",
         "0.0",
         null
        ],
        [
         "3",
         "2020-01-03",
         "0.0",
         "0.0",
         null
        ],
        [
         "4",
         "2020-01-04",
         "0.0",
         "0.0",
         null
        ]
       ],
       "shape": {
        "columns": 4,
        "rows": 5
       }
      },
      "text/html": [
       "<div>\n",
       "<style scoped>\n",
       "    .dataframe tbody tr th:only-of-type {\n",
       "        vertical-align: middle;\n",
       "    }\n",
       "\n",
       "    .dataframe tbody tr th {\n",
       "        vertical-align: top;\n",
       "    }\n",
       "\n",
       "    .dataframe thead th {\n",
       "        text-align: right;\n",
       "    }\n",
       "</style>\n",
       "<table border=\"1\" class=\"dataframe\">\n",
       "  <thead>\n",
       "    <tr style=\"text-align: right;\">\n",
       "      <th></th>\n",
       "      <th>date</th>\n",
       "      <th>new_cases</th>\n",
       "      <th>new_deaths</th>\n",
       "      <th>new_tests</th>\n",
       "    </tr>\n",
       "  </thead>\n",
       "  <tbody>\n",
       "    <tr>\n",
       "      <th>0</th>\n",
       "      <td>2019-12-31</td>\n",
       "      <td>0.0</td>\n",
       "      <td>0.0</td>\n",
       "      <td>NaN</td>\n",
       "    </tr>\n",
       "    <tr>\n",
       "      <th>1</th>\n",
       "      <td>2020-01-01</td>\n",
       "      <td>0.0</td>\n",
       "      <td>0.0</td>\n",
       "      <td>NaN</td>\n",
       "    </tr>\n",
       "    <tr>\n",
       "      <th>2</th>\n",
       "      <td>2020-01-02</td>\n",
       "      <td>0.0</td>\n",
       "      <td>0.0</td>\n",
       "      <td>NaN</td>\n",
       "    </tr>\n",
       "    <tr>\n",
       "      <th>3</th>\n",
       "      <td>2020-01-03</td>\n",
       "      <td>0.0</td>\n",
       "      <td>0.0</td>\n",
       "      <td>NaN</td>\n",
       "    </tr>\n",
       "    <tr>\n",
       "      <th>4</th>\n",
       "      <td>2020-01-04</td>\n",
       "      <td>0.0</td>\n",
       "      <td>0.0</td>\n",
       "      <td>NaN</td>\n",
       "    </tr>\n",
       "  </tbody>\n",
       "</table>\n",
       "</div>"
      ],
      "text/plain": [
       "         date  new_cases  new_deaths  new_tests\n",
       "0  2019-12-31        0.0         0.0        NaN\n",
       "1  2020-01-01        0.0         0.0        NaN\n",
       "2  2020-01-02        0.0         0.0        NaN\n",
       "3  2020-01-03        0.0         0.0        NaN\n",
       "4  2020-01-04        0.0         0.0        NaN"
      ]
     },
     "execution_count": 18,
     "metadata": {},
     "output_type": "execute_result"
    }
   ],
   "source": [
    "# import italy-covid-daywise.csv which contains day-wise Covid-19 data for Italy \n",
    "df = pd.read_csv(\"italy-covid-daywise.csv\")\n",
    "df.head()"
   ]
  },
  {
   "cell_type": "code",
   "execution_count": null,
   "metadata": {},
   "outputs": [
    {
     "data": {
      "text/plain": [
       "(248, 4)"
      ]
     },
     "execution_count": 4,
     "metadata": {},
     "output_type": "execute_result"
    }
   ],
   "source": [
    "# retrieve the number of rows and columns in the data frame\n",
    "df.shape"
   ]
  },
  {
   "cell_type": "code",
   "execution_count": 5,
   "metadata": {},
   "outputs": [
    {
     "data": {
      "application/vnd.microsoft.datawrangler.viewer.v0+json": {
       "columns": [
        {
         "name": "index",
         "rawType": "object",
         "type": "string"
        },
        {
         "name": "new_cases",
         "rawType": "float64",
         "type": "float"
        },
        {
         "name": "new_deaths",
         "rawType": "float64",
         "type": "float"
        },
        {
         "name": "new_tests",
         "rawType": "float64",
         "type": "float"
        }
       ],
       "conversionMethod": "pd.DataFrame",
       "ref": "730b057d-c594-44c6-88bd-342e1955d526",
       "rows": [
        [
         "count",
         "248.0",
         "248.0",
         "135.0"
        ],
        [
         "mean",
         "1094.8185483870968",
         "143.13306451612902",
         "31699.674074074075"
        ],
        [
         "std",
         "1554.5080021940498",
         "227.10553833402602",
         "11622.209756510283"
        ],
        [
         "min",
         "-148.0",
         "-31.0",
         "7841.0"
        ],
        [
         "25%",
         "123.0",
         "3.0",
         "25259.0"
        ],
        [
         "50%",
         "342.0",
         "17.0",
         "29545.0"
        ],
        [
         "75%",
         "1371.75",
         "175.25",
         "37711.0"
        ],
        [
         "max",
         "6557.0",
         "971.0",
         "95273.0"
        ]
       ],
       "shape": {
        "columns": 3,
        "rows": 8
       }
      },
      "text/html": [
       "<div>\n",
       "<style scoped>\n",
       "    .dataframe tbody tr th:only-of-type {\n",
       "        vertical-align: middle;\n",
       "    }\n",
       "\n",
       "    .dataframe tbody tr th {\n",
       "        vertical-align: top;\n",
       "    }\n",
       "\n",
       "    .dataframe thead th {\n",
       "        text-align: right;\n",
       "    }\n",
       "</style>\n",
       "<table border=\"1\" class=\"dataframe\">\n",
       "  <thead>\n",
       "    <tr style=\"text-align: right;\">\n",
       "      <th></th>\n",
       "      <th>new_cases</th>\n",
       "      <th>new_deaths</th>\n",
       "      <th>new_tests</th>\n",
       "    </tr>\n",
       "  </thead>\n",
       "  <tbody>\n",
       "    <tr>\n",
       "      <th>count</th>\n",
       "      <td>248.000000</td>\n",
       "      <td>248.000000</td>\n",
       "      <td>135.000000</td>\n",
       "    </tr>\n",
       "    <tr>\n",
       "      <th>mean</th>\n",
       "      <td>1094.818548</td>\n",
       "      <td>143.133065</td>\n",
       "      <td>31699.674074</td>\n",
       "    </tr>\n",
       "    <tr>\n",
       "      <th>std</th>\n",
       "      <td>1554.508002</td>\n",
       "      <td>227.105538</td>\n",
       "      <td>11622.209757</td>\n",
       "    </tr>\n",
       "    <tr>\n",
       "      <th>min</th>\n",
       "      <td>-148.000000</td>\n",
       "      <td>-31.000000</td>\n",
       "      <td>7841.000000</td>\n",
       "    </tr>\n",
       "    <tr>\n",
       "      <th>25%</th>\n",
       "      <td>123.000000</td>\n",
       "      <td>3.000000</td>\n",
       "      <td>25259.000000</td>\n",
       "    </tr>\n",
       "    <tr>\n",
       "      <th>50%</th>\n",
       "      <td>342.000000</td>\n",
       "      <td>17.000000</td>\n",
       "      <td>29545.000000</td>\n",
       "    </tr>\n",
       "    <tr>\n",
       "      <th>75%</th>\n",
       "      <td>1371.750000</td>\n",
       "      <td>175.250000</td>\n",
       "      <td>37711.000000</td>\n",
       "    </tr>\n",
       "    <tr>\n",
       "      <th>max</th>\n",
       "      <td>6557.000000</td>\n",
       "      <td>971.000000</td>\n",
       "      <td>95273.000000</td>\n",
       "    </tr>\n",
       "  </tbody>\n",
       "</table>\n",
       "</div>"
      ],
      "text/plain": [
       "         new_cases  new_deaths     new_tests\n",
       "count   248.000000  248.000000    135.000000\n",
       "mean   1094.818548  143.133065  31699.674074\n",
       "std    1554.508002  227.105538  11622.209757\n",
       "min    -148.000000  -31.000000   7841.000000\n",
       "25%     123.000000    3.000000  25259.000000\n",
       "50%     342.000000   17.000000  29545.000000\n",
       "75%    1371.750000  175.250000  37711.000000\n",
       "max    6557.000000  971.000000  95273.000000"
      ]
     },
     "execution_count": 5,
     "metadata": {},
     "output_type": "execute_result"
    }
   ],
   "source": [
    "#view statistical information for numerical columns\n",
    "df.describe()"
   ]
  },
  {
   "cell_type": "code",
   "execution_count": null,
   "metadata": {},
   "outputs": [
    {
     "name": "stdout",
     "output_type": "stream",
     "text": [
      "<class 'pandas.core.frame.DataFrame'>\n",
      "RangeIndex: 248 entries, 0 to 247\n",
      "Data columns (total 4 columns):\n",
      " #   Column      Non-Null Count  Dtype  \n",
      "---  ------      --------------  -----  \n",
      " 0   date        248 non-null    object \n",
      " 1   new_cases   248 non-null    float64\n",
      " 2   new_deaths  248 non-null    float64\n",
      " 3   new_tests   135 non-null    float64\n",
      "dtypes: float64(3), object(1)\n",
      "memory usage: 7.9+ KB\n"
     ]
    }
   ],
   "source": [
    "#view some basic information about the data frame like data types, \n",
    "# and number of non-nulls\n",
    "df.info()"
   ]
  },
  {
   "cell_type": "code",
   "execution_count": 8,
   "metadata": {},
   "outputs": [
    {
     "data": {
      "text/plain": [
       "['date', 'new_cases', 'new_deaths', 'new_tests']"
      ]
     },
     "execution_count": 8,
     "metadata": {},
     "output_type": "execute_result"
    }
   ],
   "source": [
    "#create a list of columns within the data frame\n",
    "df.columns.to_list()"
   ]
  },
  {
   "cell_type": "code",
   "execution_count": 9,
   "metadata": {},
   "outputs": [
    {
     "data": {
      "application/vnd.microsoft.datawrangler.viewer.v0+json": {
       "columns": [
        {
         "name": "index",
         "rawType": "int64",
         "type": "integer"
        },
        {
         "name": "date",
         "rawType": "object",
         "type": "string"
        },
        {
         "name": "new_cases",
         "rawType": "float64",
         "type": "float"
        },
        {
         "name": "new_deaths",
         "rawType": "float64",
         "type": "float"
        },
        {
         "name": "new_tests",
         "rawType": "float64",
         "type": "float"
        }
       ],
       "conversionMethod": "pd.DataFrame",
       "ref": "bee5dbdc-3d18-423b-8a54-ca39dd311581",
       "rows": [
        [
         "68",
         "2020-03-08",
         "1247.0",
         "36.0",
         null
        ],
        [
         "69",
         "2020-03-09",
         "1492.0",
         "133.0",
         null
        ],
        [
         "70",
         "2020-03-10",
         "1797.0",
         "98.0",
         null
        ],
        [
         "72",
         "2020-03-12",
         "2313.0",
         "196.0",
         null
        ],
        [
         "73",
         "2020-03-13",
         "2651.0",
         "189.0",
         null
        ],
        [
         "74",
         "2020-03-14",
         "2547.0",
         "252.0",
         null
        ],
        [
         "75",
         "2020-03-15",
         "3497.0",
         "173.0",
         null
        ],
        [
         "76",
         "2020-03-16",
         "2823.0",
         "370.0",
         null
        ],
        [
         "77",
         "2020-03-17",
         "4000.0",
         "347.0",
         null
        ],
        [
         "78",
         "2020-03-18",
         "3526.0",
         "347.0",
         null
        ],
        [
         "79",
         "2020-03-19",
         "4207.0",
         "473.0",
         null
        ],
        [
         "80",
         "2020-03-20",
         "5322.0",
         "429.0",
         null
        ],
        [
         "81",
         "2020-03-21",
         "5986.0",
         "625.0",
         null
        ],
        [
         "82",
         "2020-03-22",
         "6557.0",
         "795.0",
         null
        ],
        [
         "83",
         "2020-03-23",
         "5560.0",
         "649.0",
         null
        ],
        [
         "84",
         "2020-03-24",
         "4789.0",
         "601.0",
         null
        ],
        [
         "85",
         "2020-03-25",
         "5249.0",
         "743.0",
         null
        ],
        [
         "86",
         "2020-03-26",
         "5210.0",
         "685.0",
         null
        ],
        [
         "87",
         "2020-03-27",
         "6153.0",
         "660.0",
         null
        ],
        [
         "88",
         "2020-03-28",
         "5959.0",
         "971.0",
         null
        ],
        [
         "89",
         "2020-03-29",
         "5974.0",
         "887.0",
         null
        ],
        [
         "90",
         "2020-03-30",
         "5217.0",
         "758.0",
         null
        ],
        [
         "91",
         "2020-03-31",
         "4050.0",
         "810.0",
         null
        ],
        [
         "92",
         "2020-04-01",
         "4053.0",
         "839.0",
         null
        ],
        [
         "93",
         "2020-04-02",
         "4782.0",
         "727.0",
         null
        ],
        [
         "94",
         "2020-04-03",
         "4668.0",
         "760.0",
         null
        ],
        [
         "95",
         "2020-04-04",
         "4585.0",
         "764.0",
         null
        ],
        [
         "96",
         "2020-04-05",
         "4805.0",
         "681.0",
         null
        ],
        [
         "97",
         "2020-04-06",
         "4316.0",
         "527.0",
         null
        ],
        [
         "98",
         "2020-04-07",
         "3599.0",
         "636.0",
         null
        ],
        [
         "99",
         "2020-04-08",
         "3039.0",
         "604.0",
         null
        ],
        [
         "100",
         "2020-04-09",
         "3836.0",
         "540.0",
         null
        ],
        [
         "101",
         "2020-04-10",
         "4204.0",
         "612.0",
         null
        ],
        [
         "102",
         "2020-04-11",
         "3951.0",
         "570.0",
         null
        ],
        [
         "103",
         "2020-04-12",
         "4694.0",
         "619.0",
         null
        ],
        [
         "104",
         "2020-04-13",
         "4092.0",
         "431.0",
         null
        ],
        [
         "105",
         "2020-04-14",
         "3153.0",
         "564.0",
         null
        ],
        [
         "106",
         "2020-04-15",
         "2972.0",
         "604.0",
         null
        ],
        [
         "107",
         "2020-04-16",
         "2667.0",
         "578.0",
         null
        ],
        [
         "108",
         "2020-04-17",
         "3786.0",
         "525.0",
         null
        ],
        [
         "109",
         "2020-04-18",
         "3493.0",
         "575.0",
         null
        ],
        [
         "110",
         "2020-04-19",
         "3491.0",
         "480.0",
         null
        ],
        [
         "111",
         "2020-04-20",
         "3047.0",
         "433.0",
         "7841.0"
        ],
        [
         "112",
         "2020-04-21",
         "2256.0",
         "454.0",
         "28095.0"
        ],
        [
         "113",
         "2020-04-22",
         "2729.0",
         "534.0",
         "44248.0"
        ],
        [
         "114",
         "2020-04-23",
         "3370.0",
         "437.0",
         "37083.0"
        ],
        [
         "115",
         "2020-04-24",
         "2646.0",
         "464.0",
         "95273.0"
        ],
        [
         "116",
         "2020-04-25",
         "3021.0",
         "420.0",
         "38676.0"
        ],
        [
         "117",
         "2020-04-26",
         "2357.0",
         "415.0",
         "24113.0"
        ],
        [
         "118",
         "2020-04-27",
         "2324.0",
         "260.0",
         "26678.0"
        ]
       ],
       "shape": {
        "columns": 4,
        "rows": 72
       }
      },
      "text/html": [
       "<div>\n",
       "<style scoped>\n",
       "    .dataframe tbody tr th:only-of-type {\n",
       "        vertical-align: middle;\n",
       "    }\n",
       "\n",
       "    .dataframe tbody tr th {\n",
       "        vertical-align: top;\n",
       "    }\n",
       "\n",
       "    .dataframe thead th {\n",
       "        text-align: right;\n",
       "    }\n",
       "</style>\n",
       "<table border=\"1\" class=\"dataframe\">\n",
       "  <thead>\n",
       "    <tr style=\"text-align: right;\">\n",
       "      <th></th>\n",
       "      <th>date</th>\n",
       "      <th>new_cases</th>\n",
       "      <th>new_deaths</th>\n",
       "      <th>new_tests</th>\n",
       "    </tr>\n",
       "  </thead>\n",
       "  <tbody>\n",
       "    <tr>\n",
       "      <th>68</th>\n",
       "      <td>2020-03-08</td>\n",
       "      <td>1247.0</td>\n",
       "      <td>36.0</td>\n",
       "      <td>NaN</td>\n",
       "    </tr>\n",
       "    <tr>\n",
       "      <th>69</th>\n",
       "      <td>2020-03-09</td>\n",
       "      <td>1492.0</td>\n",
       "      <td>133.0</td>\n",
       "      <td>NaN</td>\n",
       "    </tr>\n",
       "    <tr>\n",
       "      <th>70</th>\n",
       "      <td>2020-03-10</td>\n",
       "      <td>1797.0</td>\n",
       "      <td>98.0</td>\n",
       "      <td>NaN</td>\n",
       "    </tr>\n",
       "    <tr>\n",
       "      <th>72</th>\n",
       "      <td>2020-03-12</td>\n",
       "      <td>2313.0</td>\n",
       "      <td>196.0</td>\n",
       "      <td>NaN</td>\n",
       "    </tr>\n",
       "    <tr>\n",
       "      <th>73</th>\n",
       "      <td>2020-03-13</td>\n",
       "      <td>2651.0</td>\n",
       "      <td>189.0</td>\n",
       "      <td>NaN</td>\n",
       "    </tr>\n",
       "    <tr>\n",
       "      <th>...</th>\n",
       "      <td>...</td>\n",
       "      <td>...</td>\n",
       "      <td>...</td>\n",
       "      <td>...</td>\n",
       "    </tr>\n",
       "    <tr>\n",
       "      <th>241</th>\n",
       "      <td>2020-08-28</td>\n",
       "      <td>1409.0</td>\n",
       "      <td>5.0</td>\n",
       "      <td>65135.0</td>\n",
       "    </tr>\n",
       "    <tr>\n",
       "      <th>242</th>\n",
       "      <td>2020-08-29</td>\n",
       "      <td>1460.0</td>\n",
       "      <td>9.0</td>\n",
       "      <td>64294.0</td>\n",
       "    </tr>\n",
       "    <tr>\n",
       "      <th>243</th>\n",
       "      <td>2020-08-30</td>\n",
       "      <td>1444.0</td>\n",
       "      <td>1.0</td>\n",
       "      <td>53541.0</td>\n",
       "    </tr>\n",
       "    <tr>\n",
       "      <th>244</th>\n",
       "      <td>2020-08-31</td>\n",
       "      <td>1365.0</td>\n",
       "      <td>4.0</td>\n",
       "      <td>42583.0</td>\n",
       "    </tr>\n",
       "    <tr>\n",
       "      <th>247</th>\n",
       "      <td>2020-09-03</td>\n",
       "      <td>1326.0</td>\n",
       "      <td>6.0</td>\n",
       "      <td>NaN</td>\n",
       "    </tr>\n",
       "  </tbody>\n",
       "</table>\n",
       "<p>72 rows × 4 columns</p>\n",
       "</div>"
      ],
      "text/plain": [
       "           date  new_cases  new_deaths  new_tests\n",
       "68   2020-03-08     1247.0        36.0        NaN\n",
       "69   2020-03-09     1492.0       133.0        NaN\n",
       "70   2020-03-10     1797.0        98.0        NaN\n",
       "72   2020-03-12     2313.0       196.0        NaN\n",
       "73   2020-03-13     2651.0       189.0        NaN\n",
       "..          ...        ...         ...        ...\n",
       "241  2020-08-28     1409.0         5.0    65135.0\n",
       "242  2020-08-29     1460.0         9.0    64294.0\n",
       "243  2020-08-30     1444.0         1.0    53541.0\n",
       "244  2020-08-31     1365.0         4.0    42583.0\n",
       "247  2020-09-03     1326.0         6.0        NaN\n",
       "\n",
       "[72 rows x 4 columns]"
      ]
     },
     "execution_count": 9,
     "metadata": {},
     "output_type": "execute_result"
    }
   ],
   "source": [
    "#return only the days which had more than 1000 reported cases\n",
    "df[df['new_cases']>1000]"
   ]
  },
  {
   "cell_type": "code",
   "execution_count": 10,
   "metadata": {},
   "outputs": [
    {
     "data": {
      "application/vnd.microsoft.datawrangler.viewer.v0+json": {
       "columns": [
        {
         "name": "index",
         "rawType": "int64",
         "type": "integer"
        },
        {
         "name": "date",
         "rawType": "object",
         "type": "string"
        },
        {
         "name": "new_cases",
         "rawType": "float64",
         "type": "float"
        },
        {
         "name": "new_deaths",
         "rawType": "float64",
         "type": "float"
        },
        {
         "name": "new_tests",
         "rawType": "float64",
         "type": "float"
        },
        {
         "name": "positive_rate",
         "rawType": "float64",
         "type": "float"
        }
       ],
       "conversionMethod": "pd.DataFrame",
       "ref": "c4dce991-ed7b-4ec8-b900-d8108110b1f9",
       "rows": [
        [
         "0",
         "2019-12-31",
         "0.0",
         "0.0",
         null,
         null
        ],
        [
         "1",
         "2020-01-01",
         "0.0",
         "0.0",
         null,
         null
        ],
        [
         "2",
         "2020-01-02",
         "0.0",
         "0.0",
         null,
         null
        ],
        [
         "3",
         "2020-01-03",
         "0.0",
         "0.0",
         null,
         null
        ],
        [
         "4",
         "2020-01-04",
         "0.0",
         "0.0",
         null,
         null
        ]
       ],
       "shape": {
        "columns": 5,
        "rows": 5
       }
      },
      "text/html": [
       "<div>\n",
       "<style scoped>\n",
       "    .dataframe tbody tr th:only-of-type {\n",
       "        vertical-align: middle;\n",
       "    }\n",
       "\n",
       "    .dataframe tbody tr th {\n",
       "        vertical-align: top;\n",
       "    }\n",
       "\n",
       "    .dataframe thead th {\n",
       "        text-align: right;\n",
       "    }\n",
       "</style>\n",
       "<table border=\"1\" class=\"dataframe\">\n",
       "  <thead>\n",
       "    <tr style=\"text-align: right;\">\n",
       "      <th></th>\n",
       "      <th>date</th>\n",
       "      <th>new_cases</th>\n",
       "      <th>new_deaths</th>\n",
       "      <th>new_tests</th>\n",
       "      <th>positive_rate</th>\n",
       "    </tr>\n",
       "  </thead>\n",
       "  <tbody>\n",
       "    <tr>\n",
       "      <th>0</th>\n",
       "      <td>2019-12-31</td>\n",
       "      <td>0.0</td>\n",
       "      <td>0.0</td>\n",
       "      <td>NaN</td>\n",
       "      <td>NaN</td>\n",
       "    </tr>\n",
       "    <tr>\n",
       "      <th>1</th>\n",
       "      <td>2020-01-01</td>\n",
       "      <td>0.0</td>\n",
       "      <td>0.0</td>\n",
       "      <td>NaN</td>\n",
       "      <td>NaN</td>\n",
       "    </tr>\n",
       "    <tr>\n",
       "      <th>2</th>\n",
       "      <td>2020-01-02</td>\n",
       "      <td>0.0</td>\n",
       "      <td>0.0</td>\n",
       "      <td>NaN</td>\n",
       "      <td>NaN</td>\n",
       "    </tr>\n",
       "    <tr>\n",
       "      <th>3</th>\n",
       "      <td>2020-01-03</td>\n",
       "      <td>0.0</td>\n",
       "      <td>0.0</td>\n",
       "      <td>NaN</td>\n",
       "      <td>NaN</td>\n",
       "    </tr>\n",
       "    <tr>\n",
       "      <th>4</th>\n",
       "      <td>2020-01-04</td>\n",
       "      <td>0.0</td>\n",
       "      <td>0.0</td>\n",
       "      <td>NaN</td>\n",
       "      <td>NaN</td>\n",
       "    </tr>\n",
       "  </tbody>\n",
       "</table>\n",
       "</div>"
      ],
      "text/plain": [
       "         date  new_cases  new_deaths  new_tests  positive_rate\n",
       "0  2019-12-31        0.0         0.0        NaN            NaN\n",
       "1  2020-01-01        0.0         0.0        NaN            NaN\n",
       "2  2020-01-02        0.0         0.0        NaN            NaN\n",
       "3  2020-01-03        0.0         0.0        NaN            NaN\n",
       "4  2020-01-04        0.0         0.0        NaN            NaN"
      ]
     },
     "execution_count": 10,
     "metadata": {},
     "output_type": "execute_result"
    }
   ],
   "source": [
    "#create positive_rate column that is equal to new_cases / new_tests\n",
    "df['positive_rate'] = df['new_cases'] / df['new_tests']\n",
    "df.head()"
   ]
  },
  {
   "cell_type": "code",
   "execution_count": 11,
   "metadata": {},
   "outputs": [
    {
     "data": {
      "application/vnd.microsoft.datawrangler.viewer.v0+json": {
       "columns": [
        {
         "name": "index",
         "rawType": "int64",
         "type": "integer"
        },
        {
         "name": "date",
         "rawType": "object",
         "type": "string"
        },
        {
         "name": "new_cases",
         "rawType": "float64",
         "type": "float"
        },
        {
         "name": "new_deaths",
         "rawType": "float64",
         "type": "float"
        },
        {
         "name": "new_tests",
         "rawType": "float64",
         "type": "float"
        }
       ],
       "conversionMethod": "pd.DataFrame",
       "ref": "41180db7-38af-4189-bd7e-c6d327b6a0f5",
       "rows": [
        [
         "0",
         "2019-12-31",
         "0.0",
         "0.0",
         null
        ],
        [
         "1",
         "2020-01-01",
         "0.0",
         "0.0",
         null
        ],
        [
         "2",
         "2020-01-02",
         "0.0",
         "0.0",
         null
        ],
        [
         "3",
         "2020-01-03",
         "0.0",
         "0.0",
         null
        ],
        [
         "4",
         "2020-01-04",
         "0.0",
         "0.0",
         null
        ]
       ],
       "shape": {
        "columns": 4,
        "rows": 5
       }
      },
      "text/html": [
       "<div>\n",
       "<style scoped>\n",
       "    .dataframe tbody tr th:only-of-type {\n",
       "        vertical-align: middle;\n",
       "    }\n",
       "\n",
       "    .dataframe tbody tr th {\n",
       "        vertical-align: top;\n",
       "    }\n",
       "\n",
       "    .dataframe thead th {\n",
       "        text-align: right;\n",
       "    }\n",
       "</style>\n",
       "<table border=\"1\" class=\"dataframe\">\n",
       "  <thead>\n",
       "    <tr style=\"text-align: right;\">\n",
       "      <th></th>\n",
       "      <th>date</th>\n",
       "      <th>new_cases</th>\n",
       "      <th>new_deaths</th>\n",
       "      <th>new_tests</th>\n",
       "    </tr>\n",
       "  </thead>\n",
       "  <tbody>\n",
       "    <tr>\n",
       "      <th>0</th>\n",
       "      <td>2019-12-31</td>\n",
       "      <td>0.0</td>\n",
       "      <td>0.0</td>\n",
       "      <td>NaN</td>\n",
       "    </tr>\n",
       "    <tr>\n",
       "      <th>1</th>\n",
       "      <td>2020-01-01</td>\n",
       "      <td>0.0</td>\n",
       "      <td>0.0</td>\n",
       "      <td>NaN</td>\n",
       "    </tr>\n",
       "    <tr>\n",
       "      <th>2</th>\n",
       "      <td>2020-01-02</td>\n",
       "      <td>0.0</td>\n",
       "      <td>0.0</td>\n",
       "      <td>NaN</td>\n",
       "    </tr>\n",
       "    <tr>\n",
       "      <th>3</th>\n",
       "      <td>2020-01-03</td>\n",
       "      <td>0.0</td>\n",
       "      <td>0.0</td>\n",
       "      <td>NaN</td>\n",
       "    </tr>\n",
       "    <tr>\n",
       "      <th>4</th>\n",
       "      <td>2020-01-04</td>\n",
       "      <td>0.0</td>\n",
       "      <td>0.0</td>\n",
       "      <td>NaN</td>\n",
       "    </tr>\n",
       "  </tbody>\n",
       "</table>\n",
       "</div>"
      ],
      "text/plain": [
       "         date  new_cases  new_deaths  new_tests\n",
       "0  2019-12-31        0.0         0.0        NaN\n",
       "1  2020-01-01        0.0         0.0        NaN\n",
       "2  2020-01-02        0.0         0.0        NaN\n",
       "3  2020-01-03        0.0         0.0        NaN\n",
       "4  2020-01-04        0.0         0.0        NaN"
      ]
     },
     "execution_count": 11,
     "metadata": {},
     "output_type": "execute_result"
    }
   ],
   "source": [
    "#let's remove the positive_rate column\n",
    "df.drop('positive_rate', axis=1, inplace=True)\n",
    "df.head()"
   ]
  },
  {
   "cell_type": "code",
   "execution_count": 12,
   "metadata": {},
   "outputs": [
    {
     "data": {
      "application/vnd.microsoft.datawrangler.viewer.v0+json": {
       "columns": [
        {
         "name": "index",
         "rawType": "int64",
         "type": "integer"
        },
        {
         "name": "date",
         "rawType": "object",
         "type": "string"
        },
        {
         "name": "new_cases",
         "rawType": "float64",
         "type": "float"
        },
        {
         "name": "new_deaths",
         "rawType": "float64",
         "type": "float"
        },
        {
         "name": "new_tests",
         "rawType": "float64",
         "type": "float"
        }
       ],
       "conversionMethod": "pd.DataFrame",
       "ref": "0a844b3b-bf88-47fe-8c23-695ac45185c2",
       "rows": [
        [
         "82",
         "2020-03-22",
         "6557.0",
         "795.0",
         null
        ],
        [
         "87",
         "2020-03-27",
         "6153.0",
         "660.0",
         null
        ],
        [
         "81",
         "2020-03-21",
         "5986.0",
         "625.0",
         null
        ],
        [
         "89",
         "2020-03-29",
         "5974.0",
         "887.0",
         null
        ],
        [
         "88",
         "2020-03-28",
         "5959.0",
         "971.0",
         null
        ],
        [
         "83",
         "2020-03-23",
         "5560.0",
         "649.0",
         null
        ],
        [
         "80",
         "2020-03-20",
         "5322.0",
         "429.0",
         null
        ],
        [
         "85",
         "2020-03-25",
         "5249.0",
         "743.0",
         null
        ],
        [
         "90",
         "2020-03-30",
         "5217.0",
         "758.0",
         null
        ],
        [
         "86",
         "2020-03-26",
         "5210.0",
         "685.0",
         null
        ],
        [
         "96",
         "2020-04-05",
         "4805.0",
         "681.0",
         null
        ],
        [
         "84",
         "2020-03-24",
         "4789.0",
         "601.0",
         null
        ],
        [
         "93",
         "2020-04-02",
         "4782.0",
         "727.0",
         null
        ],
        [
         "103",
         "2020-04-12",
         "4694.0",
         "619.0",
         null
        ],
        [
         "94",
         "2020-04-03",
         "4668.0",
         "760.0",
         null
        ],
        [
         "95",
         "2020-04-04",
         "4585.0",
         "764.0",
         null
        ],
        [
         "97",
         "2020-04-06",
         "4316.0",
         "527.0",
         null
        ],
        [
         "79",
         "2020-03-19",
         "4207.0",
         "473.0",
         null
        ],
        [
         "101",
         "2020-04-10",
         "4204.0",
         "612.0",
         null
        ],
        [
         "104",
         "2020-04-13",
         "4092.0",
         "431.0",
         null
        ],
        [
         "92",
         "2020-04-01",
         "4053.0",
         "839.0",
         null
        ],
        [
         "91",
         "2020-03-31",
         "4050.0",
         "810.0",
         null
        ],
        [
         "77",
         "2020-03-17",
         "4000.0",
         "347.0",
         null
        ],
        [
         "102",
         "2020-04-11",
         "3951.0",
         "570.0",
         null
        ],
        [
         "100",
         "2020-04-09",
         "3836.0",
         "540.0",
         null
        ],
        [
         "108",
         "2020-04-17",
         "3786.0",
         "525.0",
         null
        ],
        [
         "98",
         "2020-04-07",
         "3599.0",
         "636.0",
         null
        ],
        [
         "78",
         "2020-03-18",
         "3526.0",
         "347.0",
         null
        ],
        [
         "75",
         "2020-03-15",
         "3497.0",
         "173.0",
         null
        ],
        [
         "109",
         "2020-04-18",
         "3493.0",
         "575.0",
         null
        ],
        [
         "110",
         "2020-04-19",
         "3491.0",
         "480.0",
         null
        ],
        [
         "114",
         "2020-04-23",
         "3370.0",
         "437.0",
         "37083.0"
        ],
        [
         "105",
         "2020-04-14",
         "3153.0",
         "564.0",
         null
        ],
        [
         "111",
         "2020-04-20",
         "3047.0",
         "433.0",
         "7841.0"
        ],
        [
         "99",
         "2020-04-08",
         "3039.0",
         "604.0",
         null
        ],
        [
         "116",
         "2020-04-25",
         "3021.0",
         "420.0",
         "38676.0"
        ],
        [
         "106",
         "2020-04-15",
         "2972.0",
         "604.0",
         null
        ],
        [
         "76",
         "2020-03-16",
         "2823.0",
         "370.0",
         null
        ],
        [
         "113",
         "2020-04-22",
         "2729.0",
         "534.0",
         "44248.0"
        ],
        [
         "107",
         "2020-04-16",
         "2667.0",
         "578.0",
         null
        ],
        [
         "73",
         "2020-03-13",
         "2651.0",
         "189.0",
         null
        ],
        [
         "115",
         "2020-04-24",
         "2646.0",
         "464.0",
         "95273.0"
        ],
        [
         "74",
         "2020-03-14",
         "2547.0",
         "252.0",
         null
        ],
        [
         "117",
         "2020-04-26",
         "2357.0",
         "415.0",
         "24113.0"
        ],
        [
         "118",
         "2020-04-27",
         "2324.0",
         "260.0",
         "26678.0"
        ],
        [
         "72",
         "2020-03-12",
         "2313.0",
         "196.0",
         null
        ],
        [
         "112",
         "2020-04-21",
         "2256.0",
         "454.0",
         "28095.0"
        ],
        [
         "120",
         "2020-04-29",
         "2091.0",
         "382.0",
         "38589.0"
        ],
        [
         "121",
         "2020-04-30",
         "2086.0",
         "323.0",
         "41441.0"
        ],
        [
         "123",
         "2020-05-02",
         "1965.0",
         "269.0",
         "31231.0"
        ]
       ],
       "shape": {
        "columns": 4,
        "rows": 248
       }
      },
      "text/html": [
       "<div>\n",
       "<style scoped>\n",
       "    .dataframe tbody tr th:only-of-type {\n",
       "        vertical-align: middle;\n",
       "    }\n",
       "\n",
       "    .dataframe tbody tr th {\n",
       "        vertical-align: top;\n",
       "    }\n",
       "\n",
       "    .dataframe thead th {\n",
       "        text-align: right;\n",
       "    }\n",
       "</style>\n",
       "<table border=\"1\" class=\"dataframe\">\n",
       "  <thead>\n",
       "    <tr style=\"text-align: right;\">\n",
       "      <th></th>\n",
       "      <th>date</th>\n",
       "      <th>new_cases</th>\n",
       "      <th>new_deaths</th>\n",
       "      <th>new_tests</th>\n",
       "    </tr>\n",
       "  </thead>\n",
       "  <tbody>\n",
       "    <tr>\n",
       "      <th>82</th>\n",
       "      <td>2020-03-22</td>\n",
       "      <td>6557.0</td>\n",
       "      <td>795.0</td>\n",
       "      <td>NaN</td>\n",
       "    </tr>\n",
       "    <tr>\n",
       "      <th>87</th>\n",
       "      <td>2020-03-27</td>\n",
       "      <td>6153.0</td>\n",
       "      <td>660.0</td>\n",
       "      <td>NaN</td>\n",
       "    </tr>\n",
       "    <tr>\n",
       "      <th>81</th>\n",
       "      <td>2020-03-21</td>\n",
       "      <td>5986.0</td>\n",
       "      <td>625.0</td>\n",
       "      <td>NaN</td>\n",
       "    </tr>\n",
       "    <tr>\n",
       "      <th>89</th>\n",
       "      <td>2020-03-29</td>\n",
       "      <td>5974.0</td>\n",
       "      <td>887.0</td>\n",
       "      <td>NaN</td>\n",
       "    </tr>\n",
       "    <tr>\n",
       "      <th>88</th>\n",
       "      <td>2020-03-28</td>\n",
       "      <td>5959.0</td>\n",
       "      <td>971.0</td>\n",
       "      <td>NaN</td>\n",
       "    </tr>\n",
       "    <tr>\n",
       "      <th>...</th>\n",
       "      <td>...</td>\n",
       "      <td>...</td>\n",
       "      <td>...</td>\n",
       "      <td>...</td>\n",
       "    </tr>\n",
       "    <tr>\n",
       "      <th>28</th>\n",
       "      <td>2020-01-28</td>\n",
       "      <td>0.0</td>\n",
       "      <td>0.0</td>\n",
       "      <td>NaN</td>\n",
       "    </tr>\n",
       "    <tr>\n",
       "      <th>30</th>\n",
       "      <td>2020-01-30</td>\n",
       "      <td>0.0</td>\n",
       "      <td>0.0</td>\n",
       "      <td>NaN</td>\n",
       "    </tr>\n",
       "    <tr>\n",
       "      <th>32</th>\n",
       "      <td>2020-02-01</td>\n",
       "      <td>0.0</td>\n",
       "      <td>0.0</td>\n",
       "      <td>NaN</td>\n",
       "    </tr>\n",
       "    <tr>\n",
       "      <th>33</th>\n",
       "      <td>2020-02-02</td>\n",
       "      <td>0.0</td>\n",
       "      <td>0.0</td>\n",
       "      <td>NaN</td>\n",
       "    </tr>\n",
       "    <tr>\n",
       "      <th>172</th>\n",
       "      <td>2020-06-20</td>\n",
       "      <td>-148.0</td>\n",
       "      <td>47.0</td>\n",
       "      <td>29875.0</td>\n",
       "    </tr>\n",
       "  </tbody>\n",
       "</table>\n",
       "<p>248 rows × 4 columns</p>\n",
       "</div>"
      ],
      "text/plain": [
       "           date  new_cases  new_deaths  new_tests\n",
       "82   2020-03-22     6557.0       795.0        NaN\n",
       "87   2020-03-27     6153.0       660.0        NaN\n",
       "81   2020-03-21     5986.0       625.0        NaN\n",
       "89   2020-03-29     5974.0       887.0        NaN\n",
       "88   2020-03-28     5959.0       971.0        NaN\n",
       "..          ...        ...         ...        ...\n",
       "28   2020-01-28        0.0         0.0        NaN\n",
       "30   2020-01-30        0.0         0.0        NaN\n",
       "32   2020-02-01        0.0         0.0        NaN\n",
       "33   2020-02-02        0.0         0.0        NaN\n",
       "172  2020-06-20     -148.0        47.0    29875.0\n",
       "\n",
       "[248 rows x 4 columns]"
      ]
     },
     "execution_count": 12,
     "metadata": {},
     "output_type": "execute_result"
    }
   ],
   "source": [
    "#sort to identify the days with the highest number of cases\n",
    "df.sort_values('new_cases', ascending=False)"
   ]
  },
  {
   "cell_type": "code",
   "execution_count": 19,
   "metadata": {},
   "outputs": [
    {
     "name": "stdout",
     "output_type": "stream",
     "text": [
      "Before: object\n",
      "After: datetime64[ns]\n"
     ]
    }
   ],
   "source": [
    "#check the data type of date column, then convert it into a datetime\n",
    "print(\"Before:\",df['date'].dtype)\n",
    "df['date'] = pd.to_datetime(df['date'])\n",
    "print(\"After:\",df['date'].dtype)"
   ]
  },
  {
   "cell_type": "code",
   "execution_count": 21,
   "metadata": {},
   "outputs": [
    {
     "data": {
      "application/vnd.microsoft.datawrangler.viewer.v0+json": {
       "columns": [
        {
         "name": "index",
         "rawType": "int64",
         "type": "integer"
        },
        {
         "name": "date",
         "rawType": "datetime64[ns]",
         "type": "datetime"
        },
        {
         "name": "new_cases",
         "rawType": "float64",
         "type": "float"
        },
        {
         "name": "new_deaths",
         "rawType": "float64",
         "type": "float"
        },
        {
         "name": "new_tests",
         "rawType": "float64",
         "type": "float"
        },
        {
         "name": "day",
         "rawType": "int32",
         "type": "integer"
        },
        {
         "name": "month",
         "rawType": "int32",
         "type": "integer"
        },
        {
         "name": "weekday",
         "rawType": "object",
         "type": "string"
        },
        {
         "name": "year",
         "rawType": "int32",
         "type": "integer"
        }
       ],
       "conversionMethod": "pd.DataFrame",
       "ref": "206070d0-6785-4fb3-8c07-d9473d0d3a99",
       "rows": [
        [
         "0",
         "2019-12-31 00:00:00",
         "0.0",
         "0.0",
         null,
         "31",
         "12",
         "Tuesday",
         "2019"
        ],
        [
         "1",
         "2020-01-01 00:00:00",
         "0.0",
         "0.0",
         null,
         "1",
         "1",
         "Wednesday",
         "2020"
        ],
        [
         "2",
         "2020-01-02 00:00:00",
         "0.0",
         "0.0",
         null,
         "2",
         "1",
         "Thursday",
         "2020"
        ],
        [
         "3",
         "2020-01-03 00:00:00",
         "0.0",
         "0.0",
         null,
         "3",
         "1",
         "Friday",
         "2020"
        ],
        [
         "4",
         "2020-01-04 00:00:00",
         "0.0",
         "0.0",
         null,
         "4",
         "1",
         "Saturday",
         "2020"
        ]
       ],
       "shape": {
        "columns": 8,
        "rows": 5
       }
      },
      "text/html": [
       "<div>\n",
       "<style scoped>\n",
       "    .dataframe tbody tr th:only-of-type {\n",
       "        vertical-align: middle;\n",
       "    }\n",
       "\n",
       "    .dataframe tbody tr th {\n",
       "        vertical-align: top;\n",
       "    }\n",
       "\n",
       "    .dataframe thead th {\n",
       "        text-align: right;\n",
       "    }\n",
       "</style>\n",
       "<table border=\"1\" class=\"dataframe\">\n",
       "  <thead>\n",
       "    <tr style=\"text-align: right;\">\n",
       "      <th></th>\n",
       "      <th>date</th>\n",
       "      <th>new_cases</th>\n",
       "      <th>new_deaths</th>\n",
       "      <th>new_tests</th>\n",
       "      <th>day</th>\n",
       "      <th>month</th>\n",
       "      <th>weekday</th>\n",
       "      <th>year</th>\n",
       "    </tr>\n",
       "  </thead>\n",
       "  <tbody>\n",
       "    <tr>\n",
       "      <th>0</th>\n",
       "      <td>2019-12-31</td>\n",
       "      <td>0.0</td>\n",
       "      <td>0.0</td>\n",
       "      <td>NaN</td>\n",
       "      <td>31</td>\n",
       "      <td>12</td>\n",
       "      <td>Tuesday</td>\n",
       "      <td>2019</td>\n",
       "    </tr>\n",
       "    <tr>\n",
       "      <th>1</th>\n",
       "      <td>2020-01-01</td>\n",
       "      <td>0.0</td>\n",
       "      <td>0.0</td>\n",
       "      <td>NaN</td>\n",
       "      <td>1</td>\n",
       "      <td>1</td>\n",
       "      <td>Wednesday</td>\n",
       "      <td>2020</td>\n",
       "    </tr>\n",
       "    <tr>\n",
       "      <th>2</th>\n",
       "      <td>2020-01-02</td>\n",
       "      <td>0.0</td>\n",
       "      <td>0.0</td>\n",
       "      <td>NaN</td>\n",
       "      <td>2</td>\n",
       "      <td>1</td>\n",
       "      <td>Thursday</td>\n",
       "      <td>2020</td>\n",
       "    </tr>\n",
       "    <tr>\n",
       "      <th>3</th>\n",
       "      <td>2020-01-03</td>\n",
       "      <td>0.0</td>\n",
       "      <td>0.0</td>\n",
       "      <td>NaN</td>\n",
       "      <td>3</td>\n",
       "      <td>1</td>\n",
       "      <td>Friday</td>\n",
       "      <td>2020</td>\n",
       "    </tr>\n",
       "    <tr>\n",
       "      <th>4</th>\n",
       "      <td>2020-01-04</td>\n",
       "      <td>0.0</td>\n",
       "      <td>0.0</td>\n",
       "      <td>NaN</td>\n",
       "      <td>4</td>\n",
       "      <td>1</td>\n",
       "      <td>Saturday</td>\n",
       "      <td>2020</td>\n",
       "    </tr>\n",
       "  </tbody>\n",
       "</table>\n",
       "</div>"
      ],
      "text/plain": [
       "        date  new_cases  new_deaths  new_tests  day  month    weekday  year\n",
       "0 2019-12-31        0.0         0.0        NaN   31     12    Tuesday  2019\n",
       "1 2020-01-01        0.0         0.0        NaN    1      1  Wednesday  2020\n",
       "2 2020-01-02        0.0         0.0        NaN    2      1   Thursday  2020\n",
       "3 2020-01-03        0.0         0.0        NaN    3      1     Friday  2020\n",
       "4 2020-01-04        0.0         0.0        NaN    4      1   Saturday  2020"
      ]
     },
     "execution_count": 21,
     "metadata": {},
     "output_type": "execute_result"
    }
   ],
   "source": [
    "#extract different parts (day, month, weekday, and year) of \n",
    "#the date column into separate columns\n",
    "df['day'] = df['date'].dt.day\n",
    "df['month'] = df['date'].dt.month\n",
    "df['weekday'] = df['date'].dt.day_name()\n",
    "df['year'] = df['date'].dt.year\n",
    "df.head()"
   ]
  },
  {
   "cell_type": "code",
   "execution_count": 24,
   "metadata": {},
   "outputs": [
    {
     "data": {
      "text/plain": [
       "new_cases       29073.0\n",
       "new_deaths       5658.0\n",
       "new_tests     1078720.0\n",
       "dtype: float64"
      ]
     },
     "execution_count": 24,
     "metadata": {},
     "output_type": "execute_result"
    }
   ],
   "source": [
    "#check the overall metrics for May (i.e, the total numbers of 'new_cases'\n",
    "#, 'new_deaths', 'new_tests')\n",
    "may = df[df['month'] == 5]\n",
    "may_total_data = may[['new_cases', 'new_deaths', 'new_tests']].sum()\n",
    "may_total_data"
   ]
  },
  {
   "cell_type": "code",
   "execution_count": 25,
   "metadata": {},
   "outputs": [
    {
     "data": {
      "application/vnd.microsoft.datawrangler.viewer.v0+json": {
       "columns": [
        {
         "name": "index",
         "rawType": "int64",
         "type": "integer"
        },
        {
         "name": "date",
         "rawType": "datetime64[ns]",
         "type": "datetime"
        },
        {
         "name": "new_cases",
         "rawType": "float64",
         "type": "float"
        },
        {
         "name": "new_deaths",
         "rawType": "float64",
         "type": "float"
        },
        {
         "name": "new_tests",
         "rawType": "float64",
         "type": "float"
        },
        {
         "name": "day",
         "rawType": "int32",
         "type": "integer"
        },
        {
         "name": "month",
         "rawType": "int32",
         "type": "integer"
        },
        {
         "name": "weekday",
         "rawType": "object",
         "type": "string"
        },
        {
         "name": "year",
         "rawType": "int32",
         "type": "integer"
        }
       ],
       "conversionMethod": "pd.DataFrame",
       "ref": "6a7cc34d-e553-4fea-9626-a4798a274aba",
       "rows": [
        [
         "82",
         "2020-03-22 00:00:00",
         "6557.0",
         "795.0",
         null,
         "22",
         "3",
         "Sunday",
         "2020"
        ]
       ],
       "shape": {
        "columns": 8,
        "rows": 1
       }
      },
      "text/html": [
       "<div>\n",
       "<style scoped>\n",
       "    .dataframe tbody tr th:only-of-type {\n",
       "        vertical-align: middle;\n",
       "    }\n",
       "\n",
       "    .dataframe tbody tr th {\n",
       "        vertical-align: top;\n",
       "    }\n",
       "\n",
       "    .dataframe thead th {\n",
       "        text-align: right;\n",
       "    }\n",
       "</style>\n",
       "<table border=\"1\" class=\"dataframe\">\n",
       "  <thead>\n",
       "    <tr style=\"text-align: right;\">\n",
       "      <th></th>\n",
       "      <th>date</th>\n",
       "      <th>new_cases</th>\n",
       "      <th>new_deaths</th>\n",
       "      <th>new_tests</th>\n",
       "      <th>day</th>\n",
       "      <th>month</th>\n",
       "      <th>weekday</th>\n",
       "      <th>year</th>\n",
       "    </tr>\n",
       "  </thead>\n",
       "  <tbody>\n",
       "    <tr>\n",
       "      <th>82</th>\n",
       "      <td>2020-03-22</td>\n",
       "      <td>6557.0</td>\n",
       "      <td>795.0</td>\n",
       "      <td>NaN</td>\n",
       "      <td>22</td>\n",
       "      <td>3</td>\n",
       "      <td>Sunday</td>\n",
       "      <td>2020</td>\n",
       "    </tr>\n",
       "  </tbody>\n",
       "</table>\n",
       "</div>"
      ],
      "text/plain": [
       "         date  new_cases  new_deaths  new_tests  day  month weekday  year\n",
       "82 2020-03-22     6557.0       795.0        NaN   22      3  Sunday  2020"
      ]
     },
     "execution_count": 25,
     "metadata": {},
     "output_type": "execute_result"
    }
   ],
   "source": [
    "#which day seems like have more cases?\n",
    "df[df['new_cases'] == df['new_cases'].max()]"
   ]
  },
  {
   "cell_type": "code",
   "execution_count": 28,
   "metadata": {},
   "outputs": [
    {
     "data": {
      "application/vnd.microsoft.datawrangler.viewer.v0+json": {
       "columns": [
        {
         "name": "month",
         "rawType": "int32",
         "type": "integer"
        },
        {
         "name": "new_cases",
         "rawType": "float64",
         "type": "float"
        },
        {
         "name": "new_deaths",
         "rawType": "float64",
         "type": "float"
        },
        {
         "name": "new_tests",
         "rawType": "float64",
         "type": "float"
        }
       ],
       "conversionMethod": "pd.DataFrame",
       "ref": "f84e9e12-a8e0-44df-b90f-62c8d7af6e1f",
       "rows": [
        [
         "1",
         "3.0",
         "0.0",
         "0.0"
        ],
        [
         "2",
         "885.0",
         "21.0",
         "0.0"
        ],
        [
         "3",
         "100851.0",
         "11570.0",
         "0.0"
        ],
        [
         "4",
         "101852.0",
         "16091.0",
         "419591.0"
        ],
        [
         "5",
         "29073.0",
         "5658.0",
         "1078720.0"
        ],
        [
         "6",
         "7772.0",
         "1404.0",
         "830354.0"
        ],
        [
         "7",
         "6722.0",
         "388.0",
         "797692.0"
        ],
        [
         "8",
         "21060.0",
         "345.0",
         "1098704.0"
        ],
        [
         "9",
         "3297.0",
         "20.0",
         "54395.0"
        ],
        [
         "12",
         "0.0",
         "0.0",
         "0.0"
        ]
       ],
       "shape": {
        "columns": 3,
        "rows": 10
       }
      },
      "text/html": [
       "<div>\n",
       "<style scoped>\n",
       "    .dataframe tbody tr th:only-of-type {\n",
       "        vertical-align: middle;\n",
       "    }\n",
       "\n",
       "    .dataframe tbody tr th {\n",
       "        vertical-align: top;\n",
       "    }\n",
       "\n",
       "    .dataframe thead th {\n",
       "        text-align: right;\n",
       "    }\n",
       "</style>\n",
       "<table border=\"1\" class=\"dataframe\">\n",
       "  <thead>\n",
       "    <tr style=\"text-align: right;\">\n",
       "      <th></th>\n",
       "      <th>new_cases</th>\n",
       "      <th>new_deaths</th>\n",
       "      <th>new_tests</th>\n",
       "    </tr>\n",
       "    <tr>\n",
       "      <th>month</th>\n",
       "      <th></th>\n",
       "      <th></th>\n",
       "      <th></th>\n",
       "    </tr>\n",
       "  </thead>\n",
       "  <tbody>\n",
       "    <tr>\n",
       "      <th>1</th>\n",
       "      <td>3.0</td>\n",
       "      <td>0.0</td>\n",
       "      <td>0.0</td>\n",
       "    </tr>\n",
       "    <tr>\n",
       "      <th>2</th>\n",
       "      <td>885.0</td>\n",
       "      <td>21.0</td>\n",
       "      <td>0.0</td>\n",
       "    </tr>\n",
       "    <tr>\n",
       "      <th>3</th>\n",
       "      <td>100851.0</td>\n",
       "      <td>11570.0</td>\n",
       "      <td>0.0</td>\n",
       "    </tr>\n",
       "    <tr>\n",
       "      <th>4</th>\n",
       "      <td>101852.0</td>\n",
       "      <td>16091.0</td>\n",
       "      <td>419591.0</td>\n",
       "    </tr>\n",
       "    <tr>\n",
       "      <th>5</th>\n",
       "      <td>29073.0</td>\n",
       "      <td>5658.0</td>\n",
       "      <td>1078720.0</td>\n",
       "    </tr>\n",
       "    <tr>\n",
       "      <th>6</th>\n",
       "      <td>7772.0</td>\n",
       "      <td>1404.0</td>\n",
       "      <td>830354.0</td>\n",
       "    </tr>\n",
       "    <tr>\n",
       "      <th>7</th>\n",
       "      <td>6722.0</td>\n",
       "      <td>388.0</td>\n",
       "      <td>797692.0</td>\n",
       "    </tr>\n",
       "    <tr>\n",
       "      <th>8</th>\n",
       "      <td>21060.0</td>\n",
       "      <td>345.0</td>\n",
       "      <td>1098704.0</td>\n",
       "    </tr>\n",
       "    <tr>\n",
       "      <th>9</th>\n",
       "      <td>3297.0</td>\n",
       "      <td>20.0</td>\n",
       "      <td>54395.0</td>\n",
       "    </tr>\n",
       "    <tr>\n",
       "      <th>12</th>\n",
       "      <td>0.0</td>\n",
       "      <td>0.0</td>\n",
       "      <td>0.0</td>\n",
       "    </tr>\n",
       "  </tbody>\n",
       "</table>\n",
       "</div>"
      ],
      "text/plain": [
       "       new_cases  new_deaths  new_tests\n",
       "month                                  \n",
       "1            3.0         0.0        0.0\n",
       "2          885.0        21.0        0.0\n",
       "3       100851.0     11570.0        0.0\n",
       "4       101852.0     16091.0   419591.0\n",
       "5        29073.0      5658.0  1078720.0\n",
       "6         7772.0      1404.0   830354.0\n",
       "7         6722.0       388.0   797692.0\n",
       "8        21060.0       345.0  1098704.0\n",
       "9         3297.0        20.0    54395.0\n",
       "12           0.0         0.0        0.0"
      ]
     },
     "execution_count": 28,
     "metadata": {},
     "output_type": "execute_result"
    }
   ],
   "source": [
    "#create a new dataframe with month-wise data\n",
    "df_month = df.groupby(['month'])[['new_cases', 'new_deaths', 'new_tests']].sum()\n",
    "df_month"
   ]
  },
  {
   "cell_type": "code",
   "execution_count": 29,
   "metadata": {},
   "outputs": [
    {
     "name": "stderr",
     "output_type": "stream",
     "text": [
      "C:\\Users\\alaa6\\AppData\\Local\\Temp\\ipykernel_16764\\1135353152.py:6: UserWarning: No artists with labels found to put in legend.  Note that artists whose label start with an underscore are ignored when legend() is called with no argument.\n",
      "  plt.legend()\n"
     ]
    },
    {
     "data": {
      "image/png": "[encoded data removed]",
      "text/plain": [
       "<Figure size 640x480 with 1 Axes>"
      ]
     },
     "metadata": {},
     "output_type": "display_data"
    }
   ],
   "source": [
    "#plot a line graph showing how the number of daily cases varies over time.\n",
    "plt.plot(df[\"date\"], df[\"new_cases\"])\n",
    "plt.xlabel(\"Date\")\n",
    "plt.ylabel(\"New Cases\")\n",
    "plt.title(\"Number of daily cases\")\n",
    "plt.legend()\n",
    "plt.xticks(rotation=45)\n",
    "plt.show()"
   ]
  }
 ],
 "metadata": {
  "kernelspec": {
   "display_name": "base",
   "language": "python",
   "name": "python3"
  },
  "language_info": {
   "codemirror_mode": {
    "name": "ipython",
    "version": 3
   },
   "file_extension": ".py",
   "mimetype": "text/x-python",
   "name": "python",
   "nbconvert_exporter": "python",
   "pygments_lexer": "ipython3",
   "version": "3.12.3"
  }
 },
 "nbformat": 4,
 "nbformat_minor": 2
}
