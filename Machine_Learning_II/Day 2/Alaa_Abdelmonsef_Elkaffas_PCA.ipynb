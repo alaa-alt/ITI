{
 "cells": [
  {
   "cell_type": "code",
   "execution_count": 1,
   "metadata": {},
   "outputs": [],
   "source": [
    "import pandas as pd\n",
    "import numpy as np\n",
    "import matplotlib.pyplot as plt\n",
    "import seaborn as sns"
   ]
  },
  {
   "cell_type": "code",
   "execution_count": 2,
   "metadata": {},
   "outputs": [],
   "source": [
    "df = pd.read_csv('CC GENERAL.csv')\n",
    "df.drop('CUST_ID', axis=1, inplace=True)\n",
    "df['MINIMUM_PAYMENTS'] = df['MINIMUM_PAYMENTS'].fillna(df['MINIMUM_PAYMENTS'].mean())\n",
    "df = df.dropna(axis = 0, subset = ['CREDIT_LIMIT'])"
   ]
  },
  {
   "cell_type": "code",
   "execution_count": 9,
   "metadata": {},
   "outputs": [],
   "source": [
    "class PCA ():\n",
    "\n",
    "    def __init__(self,n_components = 0.95):\n",
    "        self.n_components = n_components\n",
    "        if self.n_components > 1:\n",
    "            self.type = 'var'\n",
    "        else:\n",
    "            self.type = 'ratio'\n",
    "\n",
    "    def fit(self,X):\n",
    "\n",
    "        self.mean = np.mean(X, axis = 0)\n",
    "        self.variance = np.var(X, axis = 0)\n",
    "        # fill\n",
    "        standardized_data = (X - self.mean) / np.sqrt(self.variance)\n",
    "        covariance = np.round(np.cov(standardized_data, rowvar = False, bias = True), 5)\n",
    "        print(covariance)\n",
    "        eig_val, eig_vec = np.linalg.eig(covariance)\n",
    "        if self.type == 'var':\n",
    "            self.components = eig_vec[:, :self.n_components]\n",
    "        else:\n",
    "            i=1\n",
    "            while True:\n",
    "                data_var = np.sum(eig_val[:i])/np.sum(eig_val)\n",
    "                if data_var >= self.n_components:\n",
    "                    self.components = eig_vec[:, :i]\n",
    "                    break\n",
    "                i+=1\n",
    "    def transform(self,Z):\n",
    "        # fill\n",
    "        standardized_data = (Z - self.mean) / np.std(Z, axis = 0)\n",
    "        Z_new = standardized_data@self.components\n",
    "        return Z_new\n",
    "\n",
    "    #optional \n",
    "    def plot_explained_variance(self, X):\n",
    "        standardized_data = (X - self.mean) / np.sqrt(self.variance)\n",
    "        covariance = np.round(np.cov(standardized_data, rowvar = False, bias = True), 5)\n",
    "        eig_val, eig_vec = np.linalg.eig(covariance)\n",
    "        u = eig_vec[:, :self.n_components]\n",
    "        pca_component = pd.DataFrame(u, index = df['feature_names'], columns = ['PC1', 'PC2'])\n",
    "        plt.figure(figsize = (5, 7))\n",
    "        sns.heatmap(pca_component, cmap = 'coolwarm')\n",
    "        plt.title('PCA Components')\n",
    "        plt.show()"
   ]
  },
  {
   "cell_type": "code",
   "execution_count": 4,
   "metadata": {},
   "outputs": [
    {
     "name": "stdout",
     "output_type": "stream",
     "text": [
      "[[ 1.       0.32234  0.18123  0.16433  0.12644  0.49668 -0.07805  0.07311\n",
      "  -0.06327  0.44925  0.38514  0.1543   0.53128  0.32277  0.39427 -0.31902\n",
      "   0.07242]\n",
      " [ 0.32234  1.       0.13359  0.10426  0.1242   0.09931  0.22944  0.20229\n",
      "   0.17587  0.19202  0.14152  0.18953  0.09584  0.06484  0.11419 -0.09531\n",
      "   0.11857]\n",
      " [ 0.18123  0.13359  1.       0.91684  0.67989 -0.0515   0.39299  0.49841\n",
      "   0.31554 -0.12014 -0.06719  0.68955  0.35696  0.60325  0.0935   0.18036\n",
      "   0.08615]\n",
      " [ 0.16433  0.10426  0.91684  1.       0.33061 -0.03134  0.26491  0.52488\n",
      "   0.1277  -0.08262 -0.04623  0.54551  0.31972  0.56728  0.04858  0.13274\n",
      "   0.06405]\n",
      " [ 0.12644  0.1242   0.67989  0.33061  1.      -0.06426  0.4424   0.21402\n",
      "   0.51133 -0.13231 -0.07402  0.6281   0.2565   0.38407  0.13167  0.18255\n",
      "   0.08602]\n",
      " [ 0.49668  0.09931 -0.0515  -0.03134 -0.06426  1.      -0.21558 -0.08679\n",
      "  -0.17712  0.62853  0.65649 -0.07588  0.30399  0.45323  0.13921 -0.15296\n",
      "  -0.06855]\n",
      " [-0.07805  0.22944  0.39299  0.26491  0.4424  -0.21558  1.       0.50131\n",
      "   0.86292 -0.30848 -0.20354  0.56841  0.11979  0.10339  0.00293  0.30576\n",
      "   0.06101]\n",
      " [ 0.07311  0.20229  0.49841  0.52488  0.21402 -0.08679  0.50131  1.\n",
      "   0.14227 -0.11171 -0.06912  0.54485  0.29504  0.2435  -0.02999  0.1575\n",
      "   0.08223]\n",
      " [-0.06327  0.17587  0.31554  0.1277   0.51133 -0.17712  0.86292  0.14227\n",
      "   1.      -0.26295 -0.16925  0.52995  0.06076  0.0855   0.02955  0.25005\n",
      "   0.07293]\n",
      " [ 0.44925  0.19202 -0.12014 -0.08262 -0.13231  0.62853 -0.30848 -0.11171\n",
      "  -0.26295  1.       0.79957 -0.13116  0.13262  0.18321  0.09791 -0.24977\n",
      "  -0.13343]\n",
      " [ 0.38514  0.14152 -0.06719 -0.04623 -0.07402  0.65649 -0.20354 -0.06912\n",
      "  -0.16925  0.79957  1.      -0.06618  0.1497   0.25526  0.10917 -0.16981\n",
      "  -0.04361]\n",
      " [ 0.1543   0.18953  0.68955  0.54551  0.6281  -0.07588  0.56841  0.54485\n",
      "   0.52995 -0.13116 -0.06618  1.       0.27288  0.37081  0.09584  0.16204\n",
      "   0.12172]\n",
      " [ 0.53128  0.09584  0.35696  0.31972  0.2565   0.30399  0.11979  0.29504\n",
      "   0.06076  0.13262  0.1497   0.27288  1.       0.42186  0.12513  0.05567\n",
      "   0.13917]\n",
      " [ 0.32277  0.06484  0.60325  0.56728  0.38407  0.45323  0.10339  0.2435\n",
      "   0.0855   0.18321  0.25526  0.37081  0.42186  1.       0.12502  0.11211\n",
      "   0.10596]\n",
      " [ 0.39427  0.11419  0.0935   0.04858  0.13167  0.13921  0.00293 -0.02999\n",
      "   0.02955  0.09791  0.10917  0.09584  0.12513  0.12502  1.      -0.1397\n",
      "   0.05714]\n",
      " [-0.31902 -0.09531  0.18036  0.13274  0.18255 -0.15296  0.30576  0.1575\n",
      "   0.25005 -0.24977 -0.16981  0.16204  0.05567  0.11211 -0.1397   1.\n",
      "  -0.01674]\n",
      " [ 0.07242  0.11857  0.08615  0.06405  0.08602 -0.06855  0.06101  0.08223\n",
      "   0.07293 -0.13343 -0.04361  0.12172  0.13917  0.10596  0.05714 -0.01674\n",
      "   1.     ]]\n"
     ]
    }
   ],
   "source": [
    "pca_section = PCA(n_components=0.98)\n",
    "X_transofmed = pca_section.fit(df.values)"
   ]
  },
  {
   "cell_type": "code",
   "execution_count": 5,
   "metadata": {},
   "outputs": [
    {
     "name": "stdout",
     "output_type": "stream",
     "text": [
      "(17, 14)\n"
     ]
    }
   ],
   "source": [
    "print(pca_section.components.shape)"
   ]
  },
  {
   "cell_type": "code",
   "execution_count": 6,
   "metadata": {},
   "outputs": [
    {
     "data": {
      "text/plain": [
       "(8949, 14)"
      ]
     },
     "execution_count": 6,
     "metadata": {},
     "output_type": "execute_result"
    }
   ],
   "source": [
    "pca_section.transform(df.values).shape"
   ]
  },
  {
   "cell_type": "code",
   "execution_count": 10,
   "metadata": {},
   "outputs": [
    {
     "name": "stdout",
     "output_type": "stream",
     "text": [
      "[[ 1.       0.32234  0.18123  0.16433  0.12644  0.49668 -0.07805  0.07311\n",
      "  -0.06327  0.44925  0.38514  0.1543   0.53128  0.32277  0.39427 -0.31902\n",
      "   0.07242]\n",
      " [ 0.32234  1.       0.13359  0.10426  0.1242   0.09931  0.22944  0.20229\n",
      "   0.17587  0.19202  0.14152  0.18953  0.09584  0.06484  0.11419 -0.09531\n",
      "   0.11857]\n",
      " [ 0.18123  0.13359  1.       0.91684  0.67989 -0.0515   0.39299  0.49841\n",
      "   0.31554 -0.12014 -0.06719  0.68955  0.35696  0.60325  0.0935   0.18036\n",
      "   0.08615]\n",
      " [ 0.16433  0.10426  0.91684  1.       0.33061 -0.03134  0.26491  0.52488\n",
      "   0.1277  -0.08262 -0.04623  0.54551  0.31972  0.56728  0.04858  0.13274\n",
      "   0.06405]\n",
      " [ 0.12644  0.1242   0.67989  0.33061  1.      -0.06426  0.4424   0.21402\n",
      "   0.51133 -0.13231 -0.07402  0.6281   0.2565   0.38407  0.13167  0.18255\n",
      "   0.08602]\n",
      " [ 0.49668  0.09931 -0.0515  -0.03134 -0.06426  1.      -0.21558 -0.08679\n",
      "  -0.17712  0.62853  0.65649 -0.07588  0.30399  0.45323  0.13921 -0.15296\n",
      "  -0.06855]\n",
      " [-0.07805  0.22944  0.39299  0.26491  0.4424  -0.21558  1.       0.50131\n",
      "   0.86292 -0.30848 -0.20354  0.56841  0.11979  0.10339  0.00293  0.30576\n",
      "   0.06101]\n",
      " [ 0.07311  0.20229  0.49841  0.52488  0.21402 -0.08679  0.50131  1.\n",
      "   0.14227 -0.11171 -0.06912  0.54485  0.29504  0.2435  -0.02999  0.1575\n",
      "   0.08223]\n",
      " [-0.06327  0.17587  0.31554  0.1277   0.51133 -0.17712  0.86292  0.14227\n",
      "   1.      -0.26295 -0.16925  0.52995  0.06076  0.0855   0.02955  0.25005\n",
      "   0.07293]\n",
      " [ 0.44925  0.19202 -0.12014 -0.08262 -0.13231  0.62853 -0.30848 -0.11171\n",
      "  -0.26295  1.       0.79957 -0.13116  0.13262  0.18321  0.09791 -0.24977\n",
      "  -0.13343]\n",
      " [ 0.38514  0.14152 -0.06719 -0.04623 -0.07402  0.65649 -0.20354 -0.06912\n",
      "  -0.16925  0.79957  1.      -0.06618  0.1497   0.25526  0.10917 -0.16981\n",
      "  -0.04361]\n",
      " [ 0.1543   0.18953  0.68955  0.54551  0.6281  -0.07588  0.56841  0.54485\n",
      "   0.52995 -0.13116 -0.06618  1.       0.27288  0.37081  0.09584  0.16204\n",
      "   0.12172]\n",
      " [ 0.53128  0.09584  0.35696  0.31972  0.2565   0.30399  0.11979  0.29504\n",
      "   0.06076  0.13262  0.1497   0.27288  1.       0.42186  0.12513  0.05567\n",
      "   0.13917]\n",
      " [ 0.32277  0.06484  0.60325  0.56728  0.38407  0.45323  0.10339  0.2435\n",
      "   0.0855   0.18321  0.25526  0.37081  0.42186  1.       0.12502  0.11211\n",
      "   0.10596]\n",
      " [ 0.39427  0.11419  0.0935   0.04858  0.13167  0.13921  0.00293 -0.02999\n",
      "   0.02955  0.09791  0.10917  0.09584  0.12513  0.12502  1.      -0.1397\n",
      "   0.05714]\n",
      " [-0.31902 -0.09531  0.18036  0.13274  0.18255 -0.15296  0.30576  0.1575\n",
      "   0.25005 -0.24977 -0.16981  0.16204  0.05567  0.11211 -0.1397   1.\n",
      "  -0.01674]\n",
      " [ 0.07242  0.11857  0.08615  0.06405  0.08602 -0.06855  0.06101  0.08223\n",
      "   0.07293 -0.13343 -0.04361  0.12172  0.13917  0.10596  0.05714 -0.01674\n",
      "   1.     ]]\n"
     ]
    },
    {
     "ename": "TypeError",
     "evalue": "slice indices must be integers or None or have an __index__ method",
     "output_type": "error",
     "traceback": [
      "\u001b[1;31m---------------------------------------------------------------------------\u001b[0m",
      "\u001b[1;31mTypeError\u001b[0m                                 Traceback (most recent call last)",
      "Cell \u001b[1;32mIn[10], line 1\u001b[0m\n\u001b[1;32m----> 1\u001b[0m pca_section\u001b[38;5;241m.\u001b[39mplot_explained_variance(df\u001b[38;5;241m.\u001b[39mvalues)\n",
      "Cell \u001b[1;32mIn[3], line 41\u001b[0m, in \u001b[0;36mPCA.plot_explained_variance\u001b[1;34m(self, X)\u001b[0m\n\u001b[0;32m     39\u001b[0m \u001b[38;5;28mprint\u001b[39m(covariance)\n\u001b[0;32m     40\u001b[0m eig_val, eig_vec \u001b[38;5;241m=\u001b[39m np\u001b[38;5;241m.\u001b[39mlinalg\u001b[38;5;241m.\u001b[39meig(covariance)\n\u001b[1;32m---> 41\u001b[0m u \u001b[38;5;241m=\u001b[39m eig_vec[:, :\u001b[38;5;28mself\u001b[39m\u001b[38;5;241m.\u001b[39mn_components]\n\u001b[0;32m     42\u001b[0m pca_component \u001b[38;5;241m=\u001b[39m pd\u001b[38;5;241m.\u001b[39mDataFrame(u,\n\u001b[0;32m     43\u001b[0m                              index \u001b[38;5;241m=\u001b[39m df[\u001b[38;5;124m'\u001b[39m\u001b[38;5;124mfeature_names\u001b[39m\u001b[38;5;124m'\u001b[39m], columns \u001b[38;5;241m=\u001b[39m [\u001b[38;5;124m'\u001b[39m\u001b[38;5;124mPC1\u001b[39m\u001b[38;5;124m'\u001b[39m, \u001b[38;5;124m'\u001b[39m\u001b[38;5;124mPC2\u001b[39m\u001b[38;5;124m'\u001b[39m])\n\u001b[0;32m     44\u001b[0m plt\u001b[38;5;241m.\u001b[39mfigure(figsize \u001b[38;5;241m=\u001b[39m (\u001b[38;5;241m5\u001b[39m, \u001b[38;5;241m7\u001b[39m))\n",
      "\u001b[1;31mTypeError\u001b[0m: slice indices must be integers or None or have an __index__ method"
     ]
    }
   ],
   "source": [
    "pca_section.plot_explained_variance(df.values)"
   ]
  },
  {
   "cell_type": "code",
   "execution_count": null,
   "metadata": {},
   "outputs": [],
   "source": []
  }
 ],
 "metadata": {
  "kernelspec": {
   "display_name": "base",
   "language": "python",
   "name": "python3"
  },
  "language_info": {
   "codemirror_mode": {
    "name": "ipython",
    "version": 3
   },
   "file_extension": ".py",
   "mimetype": "text/x-python",
   "name": "python",
   "nbconvert_exporter": "python",
   "pygments_lexer": "ipython3",
   "version": "3.12.3"
  }
 },
 "nbformat": 4,
 "nbformat_minor": 4
}
